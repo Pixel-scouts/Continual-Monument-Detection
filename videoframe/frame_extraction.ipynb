{
 "cells": [
  {
   "cell_type": "code",
   "execution_count": 1,
   "id": "c988d285",
   "metadata": {},
   "outputs": [],
   "source": [
    "import frame\n",
    "import os\n",
    "import time"
   ]
  },
  {
   "cell_type": "code",
   "execution_count": 2,
   "id": "ad9a0da6",
   "metadata": {},
   "outputs": [],
   "source": [
    "def process_videos(Videos_folder, output_dir,frame_rate):\n",
    "    \"\"\"\n",
    "    Extaracts frames from all the video files in the given folder and saves to output directory.\n",
    "    \n",
    "    Parameters:\n",
    "    - Videos_folder (String): Path to folder containing video files\n",
    "    - output_dir (String): Path to folder to save frames from videos\n",
    "    \"\"\"\n",
    "    files=os.listdir(Videos_folder)\n",
    "    sub_folders = [item for item in files if os.path.isdir(os.path.join(videos_folder, item))]\n",
    "    n=len(files)-len(sub_folders)\n",
    "    if(n>0):\n",
    "        print(f\"Extracting frames from {n} Videos\")\n",
    "    # Iterate through all files in the folder\n",
    "    count=0\n",
    "    for filename in files:\n",
    "        # Check if the file is a video clip\n",
    "        if filename.endswith(\".mp4\"):\n",
    "            count+=1\n",
    "            # Construct the full path to the video file\n",
    "            video_path = os.path.join(Videos_folder, filename)\n",
    "            \n",
    "            # Call the extract_frames function on the video file\n",
    "            frame.extract_frames(video_path, output_dir,frame_rate)\n",
    "            print(f\"\\t{count}: Extracted frames from : {filename}\")\n",
    "#     if there are subfolders then iterate through sub folders and extract frames\n",
    "\n",
    "    if(len(sub_folders)>0):\n",
    "        folder_count=0\n",
    "        print(f\"\\nMoving to Sub-folders\")\n",
    "        print(f\"Extracting frames from {len(sub_folders)} Folders\\n\")\n",
    "        for folder in sub_folders:\n",
    "            folder_count+=1\n",
    "            videos=os.path.join(Videos_folder,folder)\n",
    "            output=os.path.join(output_dir,folder)\n",
    "            files=os.listdir(videos)\n",
    "            print(f\"\\t{folder_count}: Extracting frames from {len(files)} Videos in {folder}\")\n",
    "            # Iterate through all files in the folder\n",
    "            count=0\n",
    "            for filename in files:\n",
    "                count+=1\n",
    "                # Check if the file is a video clip\n",
    "                if filename.endswith(\".mp4\"):\n",
    "                    # Construct the full path to the video file\n",
    "                    video_path = os.path.join(videos, filename)\n",
    "\n",
    "                    # Call the extract_frames function on the video file\n",
    "                    frame.extract_frames(video_path, output,frame_rate)\n",
    "                    print(f\"\\t\\t{count}:Extracted frames from : {filename}\")\n",
    "            print(f\"\\t\\tCompleted Extracting Frames from {folder}\")\n",
    "        print(\"Completed Extracting Frames\")\n",
    "         \n",
    "    "
   ]
  },
  {
   "cell_type": "code",
   "execution_count": 3,
   "id": "ebe446f3",
   "metadata": {},
   "outputs": [],
   "source": [
    "# path to the directory containing video files\n",
    "videos_folder= r\"E:\\Major Project\\Images\\Video\\Asan, New Road\"\n",
    "#path to the outout directory \n",
    "output_folder= r\"E:\\Major Project\\Images\\Video Frames\\Asan, New Road\"\n",
    "#number of frames to be extracted per second\n",
    "frame_rate=6"
   ]
  },
  {
   "cell_type": "code",
   "execution_count": 4,
   "id": "d5a50fb6",
   "metadata": {},
   "outputs": [
    {
     "name": "stdout",
     "output_type": "stream",
     "text": [
      "Extracting frames from 2 Videos\n",
      "\t1: Extracted frames from : VID_20230717_132336.mp4\n",
      "\t2: Extracted frames from : VID_20230717_132419.mp4\n",
      "\n",
      "Moving to Sub-folders\n",
      "Extracting frames from 12 Folders\n",
      "\n",
      "\t1: Extracting frames from 1 Videos in Akash Bhairav\n",
      "\t\t1:Extracted frames from : VID_20230717_123511.mp4\n",
      "\t\tCompleted Extracting Frames from Akash Bhairav\n",
      "\t2: Extracting frames from 2 Videos in Annapurna Temple\n",
      "\t\t1:Extracted frames from : VID_20230717_132336.mp4\n",
      "\t\t2:Extracted frames from : VID_20230717_132419.mp4\n",
      "\t\tCompleted Extracting Frames from Annapurna Temple\n",
      "\t3: Extracting frames from 2 Videos in Bhadrakali asan\n",
      "\t\t1:Extracted frames from : VID_20230717_120924.mp4\n",
      "\t\t2:Extracted frames from : VID_20230717_121253.mp4\n",
      "\t\tCompleted Extracting Frames from Bhadrakali asan\n",
      "\t4: Extracting frames from 2 Videos in Bhadrakali Temple\n",
      "\t\t1:Extracted frames from : VID_20230717_111625.mp4\n",
      "\t\t2:Extracted frames from : VID_20230717_112234.mp4\n",
      "\t\tCompleted Extracting Frames from Bhadrakali Temple\n",
      "\t5: Extracting frames from 1 Videos in Dharahara\n",
      "\t\t1:Extracted frames from : VID_20230717_114417.mp4\n",
      "\t\tCompleted Extracting Frames from Dharahara\n",
      "\t6: Extracting frames from 1 Videos in Ghantaghar\n",
      "\t\t1:Extracted frames from : VID_20230717_140619.mp4\n",
      "\t\tCompleted Extracting Frames from Ghantaghar\n",
      "\t7: Extracting frames from 1 Videos in Mahaboudhha\n",
      "\t\t1:Extracted frames from : VID_20230717_133146.mp4\n",
      "\t\tCompleted Extracting Frames from Mahaboudhha\n",
      "\t8: Extracting frames from 2 Videos in Sahid gate\n",
      "\t\t1:Extracted frames from : VID_20230717_112914.mp4\n",
      "\t\t2:Extracted frames from : VID_20230717_113757.mp4\n",
      "\t\tCompleted Extracting Frames from Sahid gate\n",
      "\t9: Extracting frames from 1 Videos in Sankata Temple\n",
      "\t\t1:Extracted frames from : VID_20230717_120747.mp4\n",
      "\t\tCompleted Extracting Frames from Sankata Temple\n",
      "\t10: Extracting frames from 1 Videos in Santaneshwor Mahadev\n",
      "\t\t1:Extracted frames from : VID_20230717_124156.mp4\n",
      "\t\tCompleted Extracting Frames from Santaneshwor Mahadev\n",
      "\t11: Extracting frames from 1 Videos in Tridevi Temple\n",
      "\t\t1:Extracted frames from : VID_20230717_165904.mp4\n",
      "\t\tCompleted Extracting Frames from Tridevi Temple\n",
      "\t12: Extracting frames from 1 Videos in Yetkha Bahal\n",
      "\t\t1:Extracted frames from : VID_20230717_155703.mp4\n",
      "\t\tCompleted Extracting Frames from Yetkha Bahal\n",
      "Completed Extracting Frames\n"
     ]
    }
   ],
   "source": [
    "process_videos(videos_folder, output_folder,frame_rate)"
   ]
  },
  {
   "cell_type": "code",
   "execution_count": null,
   "id": "e98251b3",
   "metadata": {},
   "outputs": [],
   "source": []
  }
 ],
 "metadata": {
  "kernelspec": {
   "display_name": "Python 3 (ipykernel)",
   "language": "python",
   "name": "python3"
  },
  "language_info": {
   "codemirror_mode": {
    "name": "ipython",
    "version": 3
   },
   "file_extension": ".py",
   "mimetype": "text/x-python",
   "name": "python",
   "nbconvert_exporter": "python",
   "pygments_lexer": "ipython3",
   "version": "3.11.4"
  }
 },
 "nbformat": 4,
 "nbformat_minor": 5
}
