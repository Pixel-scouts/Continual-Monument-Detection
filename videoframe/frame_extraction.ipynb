{
 "cells": [
  {
   "cell_type": "code",
   "execution_count": 1,
   "id": "c988d285",
   "metadata": {},
   "outputs": [],
   "source": [
    "import frame\n",
    "import os"
   ]
  },
  {
   "cell_type": "code",
   "execution_count": 2,
   "id": "ad9a0da6",
   "metadata": {},
   "outputs": [],
   "source": [
    "def process_videos(Videos_folder, output_dir,frame_rate):\n",
    "    \"\"\"\n",
    "    Extaracts frames from all the video files in the given folder and saves to output directory.\n",
    "    \n",
    "    Parameters:\n",
    "    - Videos_folder (String): Path to folder containing video files\n",
    "    - output_dir (String): Path to folder to save frames from videos\n",
    "    \"\"\"\n",
    "    files=os.listdir(Videos_folder)\n",
    "    print(f\"Extracting frames from {len(files)} Videos\")\n",
    "    # Iterate through all files in the folder\n",
    "    count=0\n",
    "    for filename in files:\n",
    "        count+=1\n",
    "        # Check if the file is a video clip\n",
    "        if filename.endswith(\".mp4\"):\n",
    "            # Construct the full path to the video file\n",
    "            video_path = os.path.join(Videos_folder, filename)\n",
    "            \n",
    "            # Call the extract_frames function on the video file\n",
    "            frame.extract_frames(video_path, output_dir,frame_rate)\n",
    "            print(f\"{count}: Extracted frames from : {filename}\")\n",
    "    print(\"Completed Extracting Frames\")"
   ]
  },
  {
   "cell_type": "code",
   "execution_count": 3,
   "id": "ebe446f3",
   "metadata": {},
   "outputs": [],
   "source": [
    "# path to the directory containing video files\n",
    "videos_folder= \"E:\\Major Project\\Images\\Original Images\\Video\"\n",
    "#path to the outout directory \n",
    "output_folder= \"E:\\Major Project\\Images\\Original Images\\Video Frames\"\n",
    "#number of frames to be extracted per second\n",
    "frame_rate=6"
   ]
  },
  {
   "cell_type": "code",
   "execution_count": 4,
   "id": "d5a50fb6",
   "metadata": {},
   "outputs": [
    {
     "name": "stdout",
     "output_type": "stream",
     "text": [
      "Extracting frames from 37 Videos\n",
      "1: Extracted frames from : VID_20230626_113354.mp4\n",
      "2: Extracted frames from : VID_20230626_114555.mp4\n",
      "3: Extracted frames from : VID_20230626_114931.mp4\n",
      "4: Extracted frames from : VID_20230626_115122.mp4\n",
      "5: Extracted frames from : VID_20230626_115218.mp4\n",
      "6: Extracted frames from : VID_20230626_115422.mp4\n",
      "7: Extracted frames from : VID_20230626_120544.mp4\n",
      "8: Extracted frames from : VID_20230626_120753.mp4\n",
      "9: Extracted frames from : VID_20230626_122101.mp4\n",
      "10: Extracted frames from : VID_20230626_125132.mp4\n",
      "11: Extracted frames from : VID_20230626_132329.mp4\n",
      "12: Extracted frames from : VID_20230626_132432.mp4\n",
      "13: Extracted frames from : VID_20230626_133401.mp4\n",
      "14: Extracted frames from : VID_20230626_133813.mp4\n",
      "15: Extracted frames from : VID_20230626_133900.mp4\n",
      "16: Extracted frames from : VID_20230626_142709.mp4\n",
      "17: Extracted frames from : VID_20230626_144238.mp4\n",
      "18: Extracted frames from : VID_20230626_144243.mp4\n",
      "19: Extracted frames from : VID_20230626_144407.mp4\n",
      "20: Extracted frames from : VID_20230626_144541.mp4\n",
      "21: Extracted frames from : VID_20230626_152958.mp4\n",
      "22: Extracted frames from : VID_20230626_154456.mp4\n",
      "23: Extracted frames from : VID_20230626_154529.mp4\n",
      "24: Extracted frames from : VID_20230626_161858.mp4\n",
      "25: Extracted frames from : VID_20230626_161921.mp4\n",
      "26: Extracted frames from : VID_20230626_162027.mp4\n",
      "27: Extracted frames from : VID_20230626_162235.mp4\n",
      "28: Extracted frames from : VID_20230626_162359.mp4\n",
      "29: Extracted frames from : VID_20230626_163547.mp4\n",
      "30: Extracted frames from : VID_20230626_163701.mp4\n",
      "31: Extracted frames from : VID_20230626_171828.mp4\n",
      "32: Extracted frames from : VID_20230626_171920.mp4\n",
      "33: Extracted frames from : VID_20230626_173332.mp4\n",
      "34: Extracted frames from : VID_20230626_173355.mp4\n",
      "35: Extracted frames from : VID_20230626_173431.mp4\n",
      "36: Extracted frames from : VID_20230626_173506.mp4\n",
      "37: Extracted frames from : VID_20230626_173528.mp4\n",
      "Completed Extracting Frames\n"
     ]
    }
   ],
   "source": [
    "process_videos(videos_folder, output_folder,frame_rate)"
   ]
  },
  {
   "cell_type": "code",
   "execution_count": null,
   "id": "2ee0a842",
   "metadata": {},
   "outputs": [],
   "source": []
  }
 ],
 "metadata": {
  "kernelspec": {
   "display_name": "Python 3 (ipykernel)",
   "language": "python",
   "name": "python3"
  },
  "language_info": {
   "codemirror_mode": {
    "name": "ipython",
    "version": 3
   },
   "file_extension": ".py",
   "mimetype": "text/x-python",
   "name": "python",
   "nbconvert_exporter": "python",
   "pygments_lexer": "ipython3",
   "version": "3.11.4"
  }
 },
 "nbformat": 4,
 "nbformat_minor": 5
}
