{
 "cells": [
  {
   "cell_type": "code",
   "execution_count": 1,
   "id": "4381de03",
   "metadata": {},
   "outputs": [],
   "source": [
    "import resize_img\n",
    "import os"
   ]
  },
  {
   "cell_type": "code",
   "execution_count": 2,
   "id": "90fc794a",
   "metadata": {},
   "outputs": [],
   "source": [
    "def resize_images(source_dir,output_dir):\n",
    "    dir_list=os.listdir(source_dir)\n",
    "    #get all the directory\n",
    "    folder_list = [item for item in dir_list if os.path.isdir(os.path.join(source_dir, item))]\n",
    "    print(f\"Resizing Images from {len(folder_list)} folders:\")\n",
    "    count=0\n",
    "    for folder in folder_list:\n",
    "        count+=1\n",
    "        #create full path to source folder\n",
    "        input_dir=os.path.join(source_dir,folder)\n",
    "        #create full path to output folder\n",
    "        out_dir=os.path.join(output_dir,folder)\n",
    "        #call the resize_image function on each folder\n",
    "        resize_img.resize_image(input_dir,out_dir)\n",
    "        print(f\"{count}: Resized images from : {folder}\")\n",
    "    print(\"Completed Resizing Images\")\n",
    "                            \n",
    "    "
   ]
  },
  {
   "cell_type": "code",
   "execution_count": 4,
   "id": "43108407",
   "metadata": {},
   "outputs": [],
   "source": [
    "source= r\"F:\\Monument Dataset\\Images\\Video Frames\\Basantapur\"\n",
    "output=\"E:\\Major Project\\Images\\Resized Images\\KDS\""
   ]
  },
  {
   "cell_type": "code",
   "execution_count": 5,
   "id": "510e65a8",
   "metadata": {},
   "outputs": [
    {
     "name": "stdout",
     "output_type": "stream",
     "text": [
      "Resizing Images from 15 folders:\n",
      "1: Resized images from : bhagavati temple\n",
      "2: Resized images from : bhimeleshvara\n",
      "3: Resized images from : chasin dega\n",
      "4: Resized images from : Garud\n",
      "5: Resized images from : hanuman idol\n",
      "6: Resized images from : kavindrapura sattal\n",
      "7: Resized images from : kirtipur tower\n",
      "8: Resized images from : kotilingeshvara\n",
      "9: Resized images from : multiple\n",
      "10: Resized images from : Narayan temple, indrapura\n",
      "11: Resized images from : panchamukhi hanuman\n",
      "12: Resized images from : sano pashupatinath\n",
      "13: Resized images from : shiva temple\n",
      "14: Resized images from : simha sattal\n",
      "15: Resized images from : taleju bell_KDS\n",
      "Completed Resizing Images\n"
     ]
    }
   ],
   "source": [
    "resize_images(source,output)"
   ]
  },
  {
   "cell_type": "code",
   "execution_count": 14,
   "id": "74398adc",
   "metadata": {},
   "outputs": [
    {
     "name": "stdout",
     "output_type": "stream",
     "text": [
      "Resizing Images from 5 folders:\n",
      "1: Resized images from : Chandeshwari Temple\n",
      "2: Resized images from : Isckon\n",
      "3: Resized images from : Jamachen Monastary\n",
      "4: Resized images from : Maipi Temple\n",
      "5: Resized images from : muskhareshwor mahadev temple\n",
      "Completed Resizing Images\n"
     ]
    }
   ],
   "source": [
    "source= r\"F:\\Monument Dataset\\Images\\Video Frames\\Budhanilkantha\"\n",
    "output=\"E:\\Major Project\\Images\\Resized Images\\Budhanilkantha\"\n",
    "resize_images(source,output)"
   ]
  },
  {
   "cell_type": "code",
   "execution_count": 13,
   "id": "fe15e5d4",
   "metadata": {},
   "outputs": [
    {
     "name": "stdout",
     "output_type": "stream",
     "text": [
      "complete\n"
     ]
    }
   ],
   "source": [
    "source = r\"F:\\Monument Dataset\\Images\\Clicked Images\\Asan, New Road\\Rani Pokhari\"\n",
    "output = r\"E:\\Major Project\\Images\\Resized Images\\Asan, New Road\\Rani Pokhari\"\n",
    "resize_img.resize_image(source,output)\n",
    "print(\"complete\")"
   ]
  },
  {
   "cell_type": "code",
   "execution_count": null,
   "id": "2bf408ef",
   "metadata": {},
   "outputs": [],
   "source": []
  }
 ],
 "metadata": {
  "kernelspec": {
   "display_name": "Python 3 (ipykernel)",
   "language": "python",
   "name": "python3"
  },
  "language_info": {
   "codemirror_mode": {
    "name": "ipython",
    "version": 3
   },
   "file_extension": ".py",
   "mimetype": "text/x-python",
   "name": "python",
   "nbconvert_exporter": "python",
   "pygments_lexer": "ipython3",
   "version": "3.11.4"
  }
 },
 "nbformat": 4,
 "nbformat_minor": 5
}
