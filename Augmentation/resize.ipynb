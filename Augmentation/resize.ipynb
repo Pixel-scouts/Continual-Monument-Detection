{
 "cells": [
  {
   "cell_type": "code",
   "execution_count": 1,
   "id": "4381de03",
   "metadata": {},
   "outputs": [],
   "source": [
    "import resize_img\n",
    "import os"
   ]
  },
  {
   "cell_type": "code",
   "execution_count": 2,
   "id": "90fc794a",
   "metadata": {},
   "outputs": [],
   "source": [
    "def resize_images(source_dir,output_dir):\n",
    "    dir_list=os.listdir(source_dir)\n",
    "    #get all the directory\n",
    "    folder_list = [item for item in dir_list if os.path.isdir(os.path.join(source_dir, item))]\n",
    "    print(f\"Resizing Images from {len(folder_list)} folders:\")\n",
    "    count=0\n",
    "    for folder in folder_list:\n",
    "        count+=1\n",
    "        #create full path to source folder\n",
    "        input_dir=os.path.join(source_dir,folder)\n",
    "        #create full path to output folder\n",
    "        out_dir=os.path.join(output_dir,folder)\n",
    "        #call the resize_image function on each folder\n",
    "        resize_img.resize_image(input_dir,out_dir)\n",
    "        print(f\"{count}: Resized images from : {folder}\")\n",
    "    print(\"Completed Resizing Images\")\n",
    "                            \n",
    "    "
   ]
  },
  {
   "cell_type": "code",
   "execution_count": 5,
   "id": "43108407",
   "metadata": {},
   "outputs": [],
   "source": [
    "source=\"E:\\Major Project\\Images\\Clicked Images\\Asan, New Road\"\n",
    "output=\"E:\\Major Project\\Images\\Resized Images\\Asan, New Road\""
   ]
  },
  {
   "cell_type": "code",
   "execution_count": 6,
   "id": "510e65a8",
   "metadata": {},
   "outputs": [
    {
     "name": "stdout",
     "output_type": "stream",
     "text": [
      "Resizing Images from 14 folders:\n",
      "1: Resized images from : Akash Bhairav\n",
      "2: Resized images from : Annapurna Temple\n",
      "3: Resized images from : Bhadrakali asan\n",
      "4: Resized images from : Bhadrakali Temple\n",
      "5: Resized images from : Dharahara\n",
      "6: Resized images from : Ghantaghar\n",
      "7: Resized images from : Jame Masjid\n",
      "8: Resized images from : Mahaboudhha\n",
      "9: Resized images from : Rani Pokhari\n",
      "10: Resized images from : Sahid gate\n",
      "11: Resized images from : Sankata Temple\n",
      "12: Resized images from : Santaneshwor Mahadev\n",
      "13: Resized images from : Tridevi Temple\n",
      "14: Resized images from : Yetkha Bahal\n",
      "Completed Resizing Images\n"
     ]
    }
   ],
   "source": [
    "resize_images(source,output)"
   ]
  },
  {
   "cell_type": "code",
   "execution_count": null,
   "id": "74398adc",
   "metadata": {},
   "outputs": [],
   "source": []
  }
 ],
 "metadata": {
  "kernelspec": {
   "display_name": "Python 3 (ipykernel)",
   "language": "python",
   "name": "python3"
  },
  "language_info": {
   "codemirror_mode": {
    "name": "ipython",
    "version": 3
   },
   "file_extension": ".py",
   "mimetype": "text/x-python",
   "name": "python",
   "nbconvert_exporter": "python",
   "pygments_lexer": "ipython3",
   "version": "3.11.4"
  }
 },
 "nbformat": 4,
 "nbformat_minor": 5
}
