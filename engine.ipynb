{
 "cells": [
  {
   "cell_type": "code",
   "execution_count": 28,
   "id": "f8bbfb99",
   "metadata": {},
   "outputs": [],
   "source": [
    "from models import fasterrcnn\n",
    "from datasets import class_list\n",
    "from torch.utils.data import DataLoader"
   ]
  },
  {
   "cell_type": "code",
   "execution_count": 29,
   "id": "e977326c",
   "metadata": {},
   "outputs": [
    {
     "data": {
      "text/plain": [
       "{'jaya bageshwori': 739,\n",
       " 'kumaristhan': 669,\n",
       " 'chakku bakku': 517,\n",
       " 'golden temple': 802,\n",
       " 'Krishna_temple _kobahal': 486}"
      ]
     },
     "execution_count": 29,
     "metadata": {},
     "output_type": "execute_result"
    }
   ],
   "source": [
    "class_list.get_classes(r\"E:\\Major Project\\Images\\Resized Images\\sampleData\\annotations\")"
   ]
  },
  {
   "cell_type": "code",
   "execution_count": 30,
   "id": "3320d939-091b-48b6-8b4d-43f3673eb46c",
   "metadata": {},
   "outputs": [],
   "source": [
    "files=class_list.get_null_file(r\"E:\\Major Project\\Images\\Resized Images\\sampleData\\annotations\")"
   ]
  },
  {
   "cell_type": "code",
   "execution_count": 31,
   "id": "3d84eb40",
   "metadata": {},
   "outputs": [
    {
     "name": "stdout",
     "output_type": "stream",
     "text": [
      "None\n"
     ]
    }
   ],
   "source": [
    "print(files)"
   ]
  },
  {
   "cell_type": "code",
   "execution_count": 25,
   "id": "6afae6b3-5fd1-40ef-a91e-a7c4557bd280",
   "metadata": {},
   "outputs": [],
   "source": [
    "delete_files=[r\"E:\\Major Project\\Images\\Resized Images\\sampleData\\annotations\\IMG20230710123849.xml\",\n",
    "              r\"E:\\Major Project\\Images\\Resized Images\\sampleData\\annotations\\VID_20230626_120544_frame_185.xml\",\n",
    "              r\"E:\\Major Project\\Images\\Resized Images\\sampleData\\annotations\\VID_20230626_120544_frame_190.xml\",\n",
    "              r\"E:\\Major Project\\Images\\Resized Images\\sampleData\\annotations\\VID_20230626_120544_frame_195.xml\",\n",
    "              r\"E:\\Major Project\\Images\\Resized Images\\sampleData\\annotations\\VID_20230626_120544_frame_200.xml\",\n",
    "              r\"E:\\Major Project\\Images\\Resized Images\\sampleData\\annotations\\VID_20230626_120544_frame_295.xml\",\n",
    "              r\"E:\\Major Project\\Images\\Resized Images\\sampleData\\annotations\\VID_20230626_171920_frame_415.xml\",\n",
    "              r\"E:\\Major Project\\Images\\Resized Images\\sampleData\\images\\IMG20230710123849.jpg\",\n",
    "              r\"E:\\Major Project\\Images\\Resized Images\\sampleData\\images\\VID_20230626_120544_frame_185.jpg\",\n",
    "              r\"E:\\Major Project\\Images\\Resized Images\\sampleData\\images\\VID_20230626_120544_frame_190.jpg\",\n",
    "              r\"E:\\Major Project\\Images\\Resized Images\\sampleData\\images\\VID_20230626_120544_frame_195.jpg\",\n",
    "              r\"E:\\Major Project\\Images\\Resized Images\\sampleData\\images\\VID_20230626_120544_frame_200.jpg\",\n",
    "              r\"E:\\Major Project\\Images\\Resized Images\\sampleData\\images\\VID_20230626_120544_frame_295.jpg\",\n",
    "              r\"E:\\Major Project\\Images\\Resized Images\\sampleData\\images\\VID_20230626_171920_frame_415.jpg\",\n",
    "             ]"
   ]
  },
  {
   "cell_type": "code",
   "execution_count": 26,
   "id": "46885d76-0636-43cd-8054-3698feba0d90",
   "metadata": {},
   "outputs": [
    {
     "data": {
      "text/plain": [
       "'2.0.1'"
      ]
     },
     "execution_count": 26,
     "metadata": {},
     "output_type": "execute_result"
    }
   ],
   "source": [
    "import torch\n",
    "torch.__version__"
   ]
  },
  {
   "cell_type": "code",
   "execution_count": 27,
   "id": "f1b03edb-8d7f-4479-9b0d-d8c74541cbfd",
   "metadata": {},
   "outputs": [
    {
     "name": "stdout",
     "output_type": "stream",
     "text": [
      "E:\\Major Project\\Images\\Resized Images\\sampleData\\annotations\\IMG20230710123849.xml Doesn't Exist\n",
      "E:\\Major Project\\Images\\Resized Images\\sampleData\\annotations\\VID_20230626_120544_frame_185.xml Doesn't Exist\n",
      "E:\\Major Project\\Images\\Resized Images\\sampleData\\annotations\\VID_20230626_120544_frame_190.xml Doesn't Exist\n",
      "E:\\Major Project\\Images\\Resized Images\\sampleData\\annotations\\VID_20230626_120544_frame_195.xml Doesn't Exist\n",
      "E:\\Major Project\\Images\\Resized Images\\sampleData\\annotations\\VID_20230626_120544_frame_200.xml Doesn't Exist\n",
      "E:\\Major Project\\Images\\Resized Images\\sampleData\\annotations\\VID_20230626_120544_frame_295.xml Doesn't Exist\n",
      "E:\\Major Project\\Images\\Resized Images\\sampleData\\annotations\\VID_20230626_171920_frame_415.xml Doesn't Exist\n",
      "E:\\Major Project\\Images\\Resized Images\\sampleData\\images\\IMG20230710123849.jpg Deleted\n",
      "E:\\Major Project\\Images\\Resized Images\\sampleData\\images\\VID_20230626_120544_frame_185.jpg Deleted\n",
      "E:\\Major Project\\Images\\Resized Images\\sampleData\\images\\VID_20230626_120544_frame_190.jpg Deleted\n",
      "E:\\Major Project\\Images\\Resized Images\\sampleData\\images\\VID_20230626_120544_frame_195.jpg Deleted\n",
      "E:\\Major Project\\Images\\Resized Images\\sampleData\\images\\VID_20230626_120544_frame_200.jpg Deleted\n",
      "E:\\Major Project\\Images\\Resized Images\\sampleData\\images\\VID_20230626_120544_frame_295.jpg Deleted\n",
      "E:\\Major Project\\Images\\Resized Images\\sampleData\\images\\VID_20230626_171920_frame_415.jpg Deleted\n"
     ]
    }
   ],
   "source": [
    "import os\n",
    "for file in delete_files:\n",
    "    try:\n",
    "        os.remove(file)\n",
    "        print(f\"{file} Deleted\")\n",
    "    except:\n",
    "        print(f\"{file} Doesn't Exist\")"
   ]
  },
  {
   "cell_type": "code",
   "execution_count": 3,
   "id": "9a2d9629",
   "metadata": {},
   "outputs": [],
   "source": [
    "class_dict={'kiranteshwor mahadev': 422,\n",
    " 'charumati': 749,\n",
    " 'kumaristhan': 669,\n",
    " 'ume_maheshwara': 470,\n",
    " 'jaya bageshwori': 739,\n",
    " 'birupakshya': 581,\n",
    " 'Naxal Bhagwati': 527,\n",
    " 'Krishna_temple _kobahal': 486,\n",
    " 'chakku bakku': 517,\n",
    " 'golden temple': 802,\n",
    " 'Ram Mandir': 598,\n",
    " 'uma maheshwor': 398,\n",
    " 'Maitidevi Temple': 597,\n",
    " 'guyeshwori': 392,\n",
    " 'nagarmandap shree kriti bihar': 432,\n",
    " 'Jalbinayak': 275}"
   ]
  },
  {
   "cell_type": "code",
   "execution_count": 4,
   "id": "9a3d1af4",
   "metadata": {},
   "outputs": [],
   "source": [
    "class_list.get_file(r\"E:\\Major Project\\Continual-Monument-Detection\\dataset\\annotations\",'tv')"
   ]
  },
  {
   "cell_type": "code",
   "execution_count": 5,
   "id": "bd624613",
   "metadata": {},
   "outputs": [
    {
     "name": "stdout",
     "output_type": "stream",
     "text": [
      "['kiranteshwor mahadev', 'charumati', 'kumaristhan', 'ume_maheshwara', 'jaya bageshwori', 'birupakshya', 'Naxal Bhagwati', 'Krishna_temple _kobahal', 'chakku bakku', 'golden temple', 'Ram Mandir', 'uma maheshwor', 'Maitidevi Temple', 'guyeshwori', 'nagarmandap shree kriti bihar', 'Jalbinayak']\n"
     ]
    }
   ],
   "source": [
    "clases=list(class_dict.keys())\n",
    "print(clases)"
   ]
  },
  {
   "cell_type": "code",
   "execution_count": 6,
   "id": "86f6adde",
   "metadata": {},
   "outputs": [],
   "source": [
    "from models.datasets import MonumentsDataset\n",
    "from models.utils import get_train_transform, collate_fn"
   ]
  },
  {
   "cell_type": "code",
   "execution_count": 7,
   "id": "ce515326",
   "metadata": {},
   "outputs": [],
   "source": [
    "from models import datasets"
   ]
  },
  {
   "cell_type": "code",
   "execution_count": 8,
   "id": "a8f5d92b",
   "metadata": {},
   "outputs": [],
   "source": [
    "TRAIN_DIR = r\"E:\\Major Project\\Continual-Monument-Detection\\dataset\""
   ]
  },
  {
   "cell_type": "code",
   "execution_count": 9,
   "id": "3169a50c",
   "metadata": {},
   "outputs": [
    {
     "name": "stdout",
     "output_type": "stream",
     "text": [
      "['E:\\\\Major Project\\\\Continual-Monument-Detection\\\\dataset/images\\\\IMG20230626113905.jpg', 'E:\\\\Major Project\\\\Continual-Monument-Detection\\\\dataset/images\\\\IMG20230626113906.jpg', 'E:\\\\Major Project\\\\Continual-Monument-Detection\\\\dataset/images\\\\IMG20230626113907.jpg', 'E:\\\\Major Project\\\\Continual-Monument-Detection\\\\dataset/images\\\\IMG20230626113908.jpg', 'E:\\\\Major Project\\\\Continual-Monument-Detection\\\\dataset/images\\\\IMG20230626113912.jpg']\n",
      "['IMG20230626113905.jpg', 'IMG20230626113906.jpg', 'IMG20230626113907.jpg', 'IMG20230626113908.jpg', 'IMG20230626113912.jpg']\n"
     ]
    }
   ],
   "source": [
    "dataset = MonumentsDataset(TRAIN_DIR, 512, 512, clases, get_train_transform())"
   ]
  },
  {
   "cell_type": "code",
   "execution_count": 10,
   "id": "bd0cf599",
   "metadata": {},
   "outputs": [
    {
     "data": {
      "text/plain": [
       "8660"
      ]
     },
     "execution_count": 10,
     "metadata": {},
     "output_type": "execute_result"
    }
   ],
   "source": [
    "len(dataset)"
   ]
  },
  {
   "cell_type": "code",
   "execution_count": 11,
   "id": "9a07b68d",
   "metadata": {},
   "outputs": [
    {
     "name": "stdout",
     "output_type": "stream",
     "text": [
      "Number of CPU cores: 4\n"
     ]
    }
   ],
   "source": [
    "import multiprocessing\n",
    "\n",
    "num_cores = multiprocessing.cpu_count()\n",
    "print(\"Number of CPU cores:\", num_cores)"
   ]
  },
  {
   "cell_type": "code",
   "execution_count": 12,
   "id": "24bbedcf",
   "metadata": {},
   "outputs": [],
   "source": [
    "train_loader = DataLoader(\n",
    "    dataset,\n",
    "    batch_size=5,\n",
    "    shuffle=True,\n",
    "    num_workers=max(1,num_cores-1),\n",
    "    collate_fn=collate_fn\n",
    ")"
   ]
  },
  {
   "cell_type": "code",
   "execution_count": 13,
   "id": "182bf9dd",
   "metadata": {},
   "outputs": [],
   "source": [
    "validation_loader = DataLoader(\n",
    "    dataset,\n",
    "    batch_size=5,\n",
    "    shuffle=True,\n",
    "    num_workers=max(1,num_cores-1),\n",
    "    collate_fn=collate_fn\n",
    ")"
   ]
  },
  {
   "cell_type": "code",
   "execution_count": 14,
   "id": "2d817434",
   "metadata": {},
   "outputs": [],
   "source": [
    "# from models.engine import train_one_epoch"
   ]
  },
  {
   "cell_type": "code",
   "execution_count": 15,
   "id": "688f920f",
   "metadata": {},
   "outputs": [],
   "source": [
    "files=['E:\\\\Major Project\\\\Continual-Monument-Detection\\\\dataset/images\\\\IMG20230626113905.jpg', 'E:\\\\Major Project\\\\Continual-Monument-Detection\\\\dataset/images\\\\IMG20230626113906.jpg', 'E:\\\\Major Project\\\\Continual-Monument-Detection\\\\dataset/images\\\\IMG20230626113907.jpg', 'E:\\\\Major Project\\\\Continual-Monument-Detection\\\\dataset/images\\\\IMG20230626113908.jpg', 'E:\\\\Major Project\\\\Continual-Monument-Detection\\\\dataset/images\\\\IMG20230626113912.jpg']"
   ]
  },
  {
   "cell_type": "code",
   "execution_count": 16,
   "id": "8f2023bf",
   "metadata": {},
   "outputs": [],
   "source": [
    "file = [image_path.split('/')[-1] for image_path in files]"
   ]
  },
  {
   "cell_type": "code",
   "execution_count": 17,
   "id": "61c7ab16",
   "metadata": {},
   "outputs": [],
   "source": [
    "import os\n",
    "filename = [os.path.splitext(os.path.basename(image))[0] for image in file]"
   ]
  },
  {
   "cell_type": "code",
   "execution_count": 18,
   "id": "e0aab738",
   "metadata": {},
   "outputs": [
    {
     "name": "stdout",
     "output_type": "stream",
     "text": [
      "['IMG20230626113905.jpg', 'IMG20230626113906.jpg', 'IMG20230626113907.jpg', 'IMG20230626113908.jpg', 'IMG20230626113912.jpg']\n"
     ]
    }
   ],
   "source": [
    "file = [image_path.split('\\\\')[-1] for image_path in files]\n",
    "print(file)"
   ]
  },
  {
   "cell_type": "code",
   "execution_count": 19,
   "id": "b01ff6d3",
   "metadata": {},
   "outputs": [
    {
     "name": "stdout",
     "output_type": "stream",
     "text": [
      "['IMG20230626113905', 'IMG20230626113906', 'IMG20230626113907', 'IMG20230626113908', 'IMG20230626113912']\n"
     ]
    }
   ],
   "source": [
    "print(filename)"
   ]
  },
  {
   "cell_type": "code",
   "execution_count": 20,
   "id": "c96f53dc",
   "metadata": {},
   "outputs": [
    {
     "name": "stdout",
     "output_type": "stream",
     "text": [
      "['E:\\\\Major Project\\\\Continual-Monument-Detection\\\\dataset/images\\\\IMG20230626113905.jpg', 'E:\\\\Major Project\\\\Continual-Monument-Detection\\\\dataset/images\\\\IMG20230626113906.jpg', 'E:\\\\Major Project\\\\Continual-Monument-Detection\\\\dataset/images\\\\IMG20230626113907.jpg', 'E:\\\\Major Project\\\\Continual-Monument-Detection\\\\dataset/images\\\\IMG20230626113908.jpg', 'E:\\\\Major Project\\\\Continual-Monument-Detection\\\\dataset/images\\\\IMG20230626113912.jpg']\n",
      "['IMG20230626113905.jpg', 'IMG20230626113906.jpg', 'IMG20230626113907.jpg', 'IMG20230626113908.jpg', 'IMG20230626113912.jpg']\n",
      "Number of training images: 8660\n",
      "1\n",
      "<class 'numpy.ndarray'>\n",
      "1\n",
      "<class 'numpy.ndarray'>\n",
      "1\n",
      "<class 'numpy.ndarray'>\n",
      "1\n",
      "<class 'numpy.ndarray'>\n",
      "1\n",
      "<class 'numpy.ndarray'>\n"
     ]
    }
   ],
   "source": [
    "!python -m models.datasets -t \"E:\\Major Project\\Continual-Monument-Detection\\dataset\""
   ]
  },
  {
   "cell_type": "code",
   "execution_count": 21,
   "id": "267100df",
   "metadata": {},
   "outputs": [],
   "source": [
    "from models.utils import Averager\n",
    "from models.config import SAVE_PLOTS_EPOCH, SAVE_MODEL_EPOCH\n",
    "from tqdm.auto import tqdm\n",
    "import torch\n",
    "import matplotlib.pyplot as plt\n",
    "import time\n",
    "plt.style.use('ggplot')\n",
    "\n",
    "DEVICE = torch.device('cuda') if torch.cuda.is_available() else torch.device('cpu')\n",
    "def train(train_data_loader, model):\n",
    "    print('Training')\n",
    "    global train_itr\n",
    "    global train_loss_list\n",
    "    \n",
    "     # initialize tqdm progress bar\n",
    "    prog_bar = tqdm(train_data_loader, total=len(train_data_loader))\n",
    "    \n",
    "    for i, data in enumerate(prog_bar):\n",
    "        optimizer.zero_grad()\n",
    "        images, targets = data\n",
    "        \n",
    "        images = list(image.to(DEVICE) for image in images)\n",
    "        targets = [{k: v.to(DEVICE) for k, v in t.items()} for t in targets]\n",
    "        loss_dict = model(images, targets)\n",
    "        losses = sum(loss for loss in loss_dict.values())\n",
    "        loss_value = losses.item()\n",
    "        train_loss_list.append(loss_value)\n",
    "        train_loss_hist.send(loss_value)\n",
    "        losses.backward()\n",
    "        optimizer.step()\n",
    "        train_itr += 1\n",
    "    \n",
    "        # update the loss value beside the progress bar for each iteration\n",
    "        prog_bar.set_description(desc=f\"Loss: {loss_value:.4f}\")\n",
    "    return train_loss_list"
   ]
  },
  {
   "cell_type": "code",
   "execution_count": 22,
   "id": "8d5cfd8a",
   "metadata": {},
   "outputs": [
    {
     "name": "stdout",
     "output_type": "stream",
     "text": [
      "\n",
      "EPOCH 1 of 10\n",
      "Training\n"
     ]
    },
    {
     "data": {
      "application/vnd.jupyter.widget-view+json": {
       "model_id": "f5ccc8eb11204205bcef85da7f524fd9",
       "version_major": 2,
       "version_minor": 0
      },
      "text/plain": [
       "  0%|          | 0/1732 [00:16<?, ?it/s]"
      ]
     },
     "metadata": {},
     "output_type": "display_data"
    },
    {
     "ename": "AssertionError",
     "evalue": "Caught AssertionError in DataLoader worker process 0.\nOriginal Traceback (most recent call last):\n  File \"E:\\Major Project\\Continual-Monument-Detection\\venv\\Lib\\site-packages\\torch\\utils\\data\\_utils\\worker.py\", line 308, in _worker_loop\n    data = fetcher.fetch(index)\n           ^^^^^^^^^^^^^^^^^^^^\n  File \"E:\\Major Project\\Continual-Monument-Detection\\venv\\Lib\\site-packages\\torch\\utils\\data\\_utils\\fetch.py\", line 51, in fetch\n    data = [self.dataset[idx] for idx in possibly_batched_index]\n           ^^^^^^^^^^^^^^^^^^^^^^^^^^^^^^^^^^^^^^^^^^^^^^^^^^^^^\n  File \"E:\\Major Project\\Continual-Monument-Detection\\venv\\Lib\\site-packages\\torch\\utils\\data\\_utils\\fetch.py\", line 51, in <listcomp>\n    data = [self.dataset[idx] for idx in possibly_batched_index]\n            ~~~~~~~~~~~~^^^^^\n  File \"E:\\Major Project\\Continual-Monument-Detection\\models\\datasets.py\", line 108, in __getitem__\n    sample = self.transforms(image = image_resized,\n             ^^^^^^^^^^^^^^^^^^^^^^^^^^^^^^^^^^^^^^\n  File \"E:\\Major Project\\Continual-Monument-Detection\\venv\\Lib\\site-packages\\albumentations\\core\\composition.py\", line 207, in __call__\n    p.preprocess(data)\n  File \"E:\\Major Project\\Continual-Monument-Detection\\venv\\Lib\\site-packages\\albumentations\\core\\utils.py\", line 79, in preprocess\n    data = self.add_label_fields_to_data(data)\n           ^^^^^^^^^^^^^^^^^^^^^^^^^^^^^^^^^^^\n  File \"E:\\Major Project\\Continual-Monument-Detection\\venv\\Lib\\site-packages\\albumentations\\core\\utils.py\", line 118, in add_label_fields_to_data\n    assert len(data[data_name]) == len(data[field])\n           ^^^^^^^^^^^^^^^^^^^^^^^^^^^^^^^^^^^^^^^^\nAssertionError\n",
     "output_type": "error",
     "traceback": [
      "\u001b[1;31m---------------------------------------------------------------------------\u001b[0m",
      "\u001b[1;31mAssertionError\u001b[0m                            Traceback (most recent call last)",
      "Cell \u001b[1;32mIn[22], line 36\u001b[0m\n\u001b[0;32m     34\u001b[0m \u001b[38;5;66;03m# start timer and carry out training and validation\u001b[39;00m\n\u001b[0;32m     35\u001b[0m start \u001b[38;5;241m=\u001b[39m time\u001b[38;5;241m.\u001b[39mtime()\n\u001b[1;32m---> 36\u001b[0m train_loss \u001b[38;5;241m=\u001b[39m \u001b[43mtrain\u001b[49m\u001b[43m(\u001b[49m\u001b[43mtrain_loader\u001b[49m\u001b[43m,\u001b[49m\u001b[43m \u001b[49m\u001b[43mmodel\u001b[49m\u001b[43m)\u001b[49m\n\u001b[0;32m     37\u001b[0m val_loss \u001b[38;5;241m=\u001b[39m validate(valid_loader, model)\n\u001b[0;32m     38\u001b[0m \u001b[38;5;28mprint\u001b[39m(\u001b[38;5;124mf\u001b[39m\u001b[38;5;124m\"\u001b[39m\u001b[38;5;124mEpoch #\u001b[39m\u001b[38;5;132;01m{\u001b[39;00mepoch\u001b[38;5;132;01m}\u001b[39;00m\u001b[38;5;124m train loss: \u001b[39m\u001b[38;5;132;01m{\u001b[39;00mtrain_loss_hist\u001b[38;5;241m.\u001b[39mvalue\u001b[38;5;132;01m:\u001b[39;00m\u001b[38;5;124m.3f\u001b[39m\u001b[38;5;132;01m}\u001b[39;00m\u001b[38;5;124m\"\u001b[39m)   \n",
      "Cell \u001b[1;32mIn[21], line 18\u001b[0m, in \u001b[0;36mtrain\u001b[1;34m(train_data_loader, model)\u001b[0m\n\u001b[0;32m     15\u001b[0m  \u001b[38;5;66;03m# initialize tqdm progress bar\u001b[39;00m\n\u001b[0;32m     16\u001b[0m prog_bar \u001b[38;5;241m=\u001b[39m tqdm(train_data_loader, total\u001b[38;5;241m=\u001b[39m\u001b[38;5;28mlen\u001b[39m(train_data_loader))\n\u001b[1;32m---> 18\u001b[0m \u001b[38;5;28;01mfor\u001b[39;00m i, data \u001b[38;5;129;01min\u001b[39;00m \u001b[38;5;28menumerate\u001b[39m(prog_bar):\n\u001b[0;32m     19\u001b[0m     optimizer\u001b[38;5;241m.\u001b[39mzero_grad()\n\u001b[0;32m     20\u001b[0m     images, targets \u001b[38;5;241m=\u001b[39m data\n",
      "File \u001b[1;32mE:\\Major Project\\Continual-Monument-Detection\\venv\\Lib\\site-packages\\tqdm\\notebook.py:254\u001b[0m, in \u001b[0;36mtqdm_notebook.__iter__\u001b[1;34m(self)\u001b[0m\n\u001b[0;32m    252\u001b[0m \u001b[38;5;28;01mtry\u001b[39;00m:\n\u001b[0;32m    253\u001b[0m     it \u001b[38;5;241m=\u001b[39m \u001b[38;5;28msuper\u001b[39m(tqdm_notebook, \u001b[38;5;28mself\u001b[39m)\u001b[38;5;241m.\u001b[39m\u001b[38;5;21m__iter__\u001b[39m()\n\u001b[1;32m--> 254\u001b[0m     \u001b[38;5;28;01mfor\u001b[39;00m obj \u001b[38;5;129;01min\u001b[39;00m it:\n\u001b[0;32m    255\u001b[0m         \u001b[38;5;66;03m# return super(tqdm...) will not catch exception\u001b[39;00m\n\u001b[0;32m    256\u001b[0m         \u001b[38;5;28;01myield\u001b[39;00m obj\n\u001b[0;32m    257\u001b[0m \u001b[38;5;66;03m# NB: except ... [ as ...] breaks IPython async KeyboardInterrupt\u001b[39;00m\n",
      "File \u001b[1;32mE:\\Major Project\\Continual-Monument-Detection\\venv\\Lib\\site-packages\\tqdm\\std.py:1178\u001b[0m, in \u001b[0;36mtqdm.__iter__\u001b[1;34m(self)\u001b[0m\n\u001b[0;32m   1175\u001b[0m time \u001b[38;5;241m=\u001b[39m \u001b[38;5;28mself\u001b[39m\u001b[38;5;241m.\u001b[39m_time\n\u001b[0;32m   1177\u001b[0m \u001b[38;5;28;01mtry\u001b[39;00m:\n\u001b[1;32m-> 1178\u001b[0m     \u001b[38;5;28;01mfor\u001b[39;00m obj \u001b[38;5;129;01min\u001b[39;00m iterable:\n\u001b[0;32m   1179\u001b[0m         \u001b[38;5;28;01myield\u001b[39;00m obj\n\u001b[0;32m   1180\u001b[0m         \u001b[38;5;66;03m# Update and possibly print the progressbar.\u001b[39;00m\n\u001b[0;32m   1181\u001b[0m         \u001b[38;5;66;03m# Note: does not call self.update(1) for speed optimisation.\u001b[39;00m\n",
      "File \u001b[1;32mE:\\Major Project\\Continual-Monument-Detection\\venv\\Lib\\site-packages\\torch\\utils\\data\\dataloader.py:633\u001b[0m, in \u001b[0;36m_BaseDataLoaderIter.__next__\u001b[1;34m(self)\u001b[0m\n\u001b[0;32m    630\u001b[0m \u001b[38;5;28;01mif\u001b[39;00m \u001b[38;5;28mself\u001b[39m\u001b[38;5;241m.\u001b[39m_sampler_iter \u001b[38;5;129;01mis\u001b[39;00m \u001b[38;5;28;01mNone\u001b[39;00m:\n\u001b[0;32m    631\u001b[0m     \u001b[38;5;66;03m# TODO(https://github.com/pytorch/pytorch/issues/76750)\u001b[39;00m\n\u001b[0;32m    632\u001b[0m     \u001b[38;5;28mself\u001b[39m\u001b[38;5;241m.\u001b[39m_reset()  \u001b[38;5;66;03m# type: ignore[call-arg]\u001b[39;00m\n\u001b[1;32m--> 633\u001b[0m data \u001b[38;5;241m=\u001b[39m \u001b[38;5;28;43mself\u001b[39;49m\u001b[38;5;241;43m.\u001b[39;49m\u001b[43m_next_data\u001b[49m\u001b[43m(\u001b[49m\u001b[43m)\u001b[49m\n\u001b[0;32m    634\u001b[0m \u001b[38;5;28mself\u001b[39m\u001b[38;5;241m.\u001b[39m_num_yielded \u001b[38;5;241m+\u001b[39m\u001b[38;5;241m=\u001b[39m \u001b[38;5;241m1\u001b[39m\n\u001b[0;32m    635\u001b[0m \u001b[38;5;28;01mif\u001b[39;00m \u001b[38;5;28mself\u001b[39m\u001b[38;5;241m.\u001b[39m_dataset_kind \u001b[38;5;241m==\u001b[39m _DatasetKind\u001b[38;5;241m.\u001b[39mIterable \u001b[38;5;129;01mand\u001b[39;00m \\\n\u001b[0;32m    636\u001b[0m         \u001b[38;5;28mself\u001b[39m\u001b[38;5;241m.\u001b[39m_IterableDataset_len_called \u001b[38;5;129;01mis\u001b[39;00m \u001b[38;5;129;01mnot\u001b[39;00m \u001b[38;5;28;01mNone\u001b[39;00m \u001b[38;5;129;01mand\u001b[39;00m \\\n\u001b[0;32m    637\u001b[0m         \u001b[38;5;28mself\u001b[39m\u001b[38;5;241m.\u001b[39m_num_yielded \u001b[38;5;241m>\u001b[39m \u001b[38;5;28mself\u001b[39m\u001b[38;5;241m.\u001b[39m_IterableDataset_len_called:\n",
      "File \u001b[1;32mE:\\Major Project\\Continual-Monument-Detection\\venv\\Lib\\site-packages\\torch\\utils\\data\\dataloader.py:1345\u001b[0m, in \u001b[0;36m_MultiProcessingDataLoaderIter._next_data\u001b[1;34m(self)\u001b[0m\n\u001b[0;32m   1343\u001b[0m \u001b[38;5;28;01melse\u001b[39;00m:\n\u001b[0;32m   1344\u001b[0m     \u001b[38;5;28;01mdel\u001b[39;00m \u001b[38;5;28mself\u001b[39m\u001b[38;5;241m.\u001b[39m_task_info[idx]\n\u001b[1;32m-> 1345\u001b[0m     \u001b[38;5;28;01mreturn\u001b[39;00m \u001b[38;5;28;43mself\u001b[39;49m\u001b[38;5;241;43m.\u001b[39;49m\u001b[43m_process_data\u001b[49m\u001b[43m(\u001b[49m\u001b[43mdata\u001b[49m\u001b[43m)\u001b[49m\n",
      "File \u001b[1;32mE:\\Major Project\\Continual-Monument-Detection\\venv\\Lib\\site-packages\\torch\\utils\\data\\dataloader.py:1371\u001b[0m, in \u001b[0;36m_MultiProcessingDataLoaderIter._process_data\u001b[1;34m(self, data)\u001b[0m\n\u001b[0;32m   1369\u001b[0m \u001b[38;5;28mself\u001b[39m\u001b[38;5;241m.\u001b[39m_try_put_index()\n\u001b[0;32m   1370\u001b[0m \u001b[38;5;28;01mif\u001b[39;00m \u001b[38;5;28misinstance\u001b[39m(data, ExceptionWrapper):\n\u001b[1;32m-> 1371\u001b[0m     \u001b[43mdata\u001b[49m\u001b[38;5;241;43m.\u001b[39;49m\u001b[43mreraise\u001b[49m\u001b[43m(\u001b[49m\u001b[43m)\u001b[49m\n\u001b[0;32m   1372\u001b[0m \u001b[38;5;28;01mreturn\u001b[39;00m data\n",
      "File \u001b[1;32mE:\\Major Project\\Continual-Monument-Detection\\venv\\Lib\\site-packages\\torch\\_utils.py:644\u001b[0m, in \u001b[0;36mExceptionWrapper.reraise\u001b[1;34m(self)\u001b[0m\n\u001b[0;32m    640\u001b[0m \u001b[38;5;28;01mexcept\u001b[39;00m \u001b[38;5;167;01mTypeError\u001b[39;00m:\n\u001b[0;32m    641\u001b[0m     \u001b[38;5;66;03m# If the exception takes multiple arguments, don't try to\u001b[39;00m\n\u001b[0;32m    642\u001b[0m     \u001b[38;5;66;03m# instantiate since we don't know how to\u001b[39;00m\n\u001b[0;32m    643\u001b[0m     \u001b[38;5;28;01mraise\u001b[39;00m \u001b[38;5;167;01mRuntimeError\u001b[39;00m(msg) \u001b[38;5;28;01mfrom\u001b[39;00m \u001b[38;5;28;01mNone\u001b[39;00m\n\u001b[1;32m--> 644\u001b[0m \u001b[38;5;28;01mraise\u001b[39;00m exception\n",
      "\u001b[1;31mAssertionError\u001b[0m: Caught AssertionError in DataLoader worker process 0.\nOriginal Traceback (most recent call last):\n  File \"E:\\Major Project\\Continual-Monument-Detection\\venv\\Lib\\site-packages\\torch\\utils\\data\\_utils\\worker.py\", line 308, in _worker_loop\n    data = fetcher.fetch(index)\n           ^^^^^^^^^^^^^^^^^^^^\n  File \"E:\\Major Project\\Continual-Monument-Detection\\venv\\Lib\\site-packages\\torch\\utils\\data\\_utils\\fetch.py\", line 51, in fetch\n    data = [self.dataset[idx] for idx in possibly_batched_index]\n           ^^^^^^^^^^^^^^^^^^^^^^^^^^^^^^^^^^^^^^^^^^^^^^^^^^^^^\n  File \"E:\\Major Project\\Continual-Monument-Detection\\venv\\Lib\\site-packages\\torch\\utils\\data\\_utils\\fetch.py\", line 51, in <listcomp>\n    data = [self.dataset[idx] for idx in possibly_batched_index]\n            ~~~~~~~~~~~~^^^^^\n  File \"E:\\Major Project\\Continual-Monument-Detection\\models\\datasets.py\", line 108, in __getitem__\n    sample = self.transforms(image = image_resized,\n             ^^^^^^^^^^^^^^^^^^^^^^^^^^^^^^^^^^^^^^\n  File \"E:\\Major Project\\Continual-Monument-Detection\\venv\\Lib\\site-packages\\albumentations\\core\\composition.py\", line 207, in __call__\n    p.preprocess(data)\n  File \"E:\\Major Project\\Continual-Monument-Detection\\venv\\Lib\\site-packages\\albumentations\\core\\utils.py\", line 79, in preprocess\n    data = self.add_label_fields_to_data(data)\n           ^^^^^^^^^^^^^^^^^^^^^^^^^^^^^^^^^^^\n  File \"E:\\Major Project\\Continual-Monument-Detection\\venv\\Lib\\site-packages\\albumentations\\core\\utils.py\", line 118, in add_label_fields_to_data\n    assert len(data[data_name]) == len(data[field])\n           ^^^^^^^^^^^^^^^^^^^^^^^^^^^^^^^^^^^^^^^^\nAssertionError\n"
     ]
    },
    {
     "data": {
      "image/png": "[encoded data removed]",
      "text/plain": [
       "<Figure size 640x480 with 1 Axes>"
      ]
     },
     "metadata": {},
     "output_type": "display_data"
    },
    {
     "data": {
      "image/png": "[encoded data removed]",
      "text/plain": [
       "<Figure size 640x480 with 1 Axes>"
      ]
     },
     "metadata": {},
     "output_type": "display_data"
    }
   ],
   "source": [
    "# initialize the model and move to the computation device\n",
    "VISUALIZE_TRANSFORMED_IMAGES=False\n",
    "from models.config import NUM_CLASSES, NUM_EPOCHS, OUT_DIR\n",
    "model = fasterrcnn.fasterrcnn_resnet50_fpn(num_classes=17)\n",
    "model = model.to(DEVICE)\n",
    "# get the model parameters\n",
    "params = [p for p in model.parameters() if p.requires_grad]\n",
    "# define the optimizer\n",
    "optimizer = torch.optim.SGD(params, lr=0.001, momentum=0.9, weight_decay=0.0005)\n",
    "# initialize the Averager class\n",
    "train_loss_hist = Averager()\n",
    "val_loss_hist = Averager()\n",
    "train_itr = 1\n",
    "val_itr = 1\n",
    "# train and validation loss lists to store loss values of all...\n",
    "# ... iterations till ena and plot graphs for all iterations\n",
    "train_loss_list = []\n",
    "val_loss_list = []\n",
    "# name to save the trained model with\n",
    "MODEL_NAME = 'model'\n",
    "# whether to show transformed images from data loader or not\n",
    "if VISUALIZE_TRANSFORMED_IMAGES:\n",
    "    from utils import show_tranformed_image\n",
    "    show_tranformed_image(train_loader)\n",
    "# start the training epochs\n",
    "for epoch in range(NUM_EPOCHS):\n",
    "    print(f\"\\nEPOCH {epoch+1} of {NUM_EPOCHS}\")\n",
    "    # reset the training and validation loss histories for the current epoch\n",
    "    train_loss_hist.reset()\n",
    "    val_loss_hist.reset()\n",
    "    # create two subplots, one for each, training and validation\n",
    "    figure_1, train_ax = plt.subplots()\n",
    "    figure_2, valid_ax = plt.subplots()\n",
    "    # start timer and carry out training and validation\n",
    "    start = time.time()\n",
    "    train_loss = train(train_loader, model)\n",
    "    val_loss = validate(valid_loader, model)\n",
    "    print(f\"Epoch #{epoch} train loss: {train_loss_hist.value:.3f}\")   \n",
    "    print(f\"Epoch #{epoch} validation loss: {val_loss_hist.value:.3f}\")   \n",
    "    end = time.time()\n",
    "    print(f\"Took {((end - start) / 60):.3f} minutes for epoch {epoch}\")\n",
    "    if (epoch+1) % SAVE_MODEL_EPOCH == 0: # save model after every n epochs\n",
    "        torch.save(model.state_dict(), f\"{OUT_DIR}/model{epoch+1}.pth\")\n",
    "        print('SAVING MODEL COMPLETE...\\n')\n",
    "\n",
    "    if (epoch+1) % SAVE_PLOTS_EPOCH == 0: # save loss plots after n epochs\n",
    "        train_ax.plot(train_loss, color='blue')\n",
    "        train_ax.set_xlabel('iterations')\n",
    "        train_ax.set_ylabel('train loss')\n",
    "        valid_ax.plot(val_loss, color='red')\n",
    "        valid_ax.set_xlabel('iterations')\n",
    "        valid_ax.set_ylabel('validation loss')\n",
    "        figure_1.savefig(f\"{OUT_DIR}/train_loss_{epoch+1}.png\")\n",
    "        figure_2.savefig(f\"{OUT_DIR}/valid_loss_{epoch+1}.png\")\n",
    "        print('SAVING PLOTS COMPLETE...')\n",
    "\n",
    "    if (epoch+1) == NUM_EPOCHS: # save loss plots and model once at the end\n",
    "        train_ax.plot(train_loss, color='blue')\n",
    "        train_ax.set_xlabel('iterations')\n",
    "        train_ax.set_ylabel('train loss')\n",
    "        valid_ax.plot(val_loss, color='red')\n",
    "        valid_ax.set_xlabel('iterations')\n",
    "        valid_ax.set_ylabel('validation loss')\n",
    "        figure_1.savefig(f\"{OUT_DIR}/train_loss_{epoch+1}.png\")\n",
    "        figure_2.savefig(f\"{OUT_DIR}/valid_loss_{epoch+1}.png\")\n",
    "        torch.save(model.state_dict(), f\"{OUT_DIR}/model{epoch+1}.pth\")\n",
    "\n",
    "    plt.close('all')"
   ]
  },
  {
   "cell_type": "code",
   "execution_count": null,
   "id": "9c156fb7",
   "metadata": {},
   "outputs": [],
   "source": [
    "!python --version"
   ]
  },
  {
   "cell_type": "code",
   "execution_count": null,
   "id": "210c8824",
   "metadata": {},
   "outputs": [],
   "source": [
    "boxes = torch.as_tensor(boxes, dtype=torch.float32)"
   ]
  },
  {
   "cell_type": "code",
   "execution_count": null,
   "id": "5bf1d3ee",
   "metadata": {},
   "outputs": [],
   "source": [
    "area = (boxes[:, 3] - boxes[:, 1]) * (boxes[:, 2] - boxes[:, 0])"
   ]
  },
  {
   "cell_type": "code",
   "execution_count": null,
   "id": "ef7750ea",
   "metadata": {},
   "outputs": [],
   "source": [
    "print(area)"
   ]
  },
  {
   "cell_type": "code",
   "execution_count": null,
   "id": "19940470",
   "metadata": {},
   "outputs": [],
   "source": []
  }
 ],
 "metadata": {
  "kernelspec": {
   "display_name": "Python 3 (ipykernel)",
   "language": "python",
   "name": "python3"
  },
  "language_info": {
   "codemirror_mode": {
    "name": "ipython",
    "version": 3
   },
   "file_extension": ".py",
   "mimetype": "text/x-python",
   "name": "python",
   "nbconvert_exporter": "python",
   "pygments_lexer": "ipython3",
   "version": "3.11.4"
  }
 },
 "nbformat": 4,
 "nbformat_minor": 5
}
