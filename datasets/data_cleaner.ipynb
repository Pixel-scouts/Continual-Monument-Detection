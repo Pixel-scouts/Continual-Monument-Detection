{
 "cells": [
  {
   "cell_type": "code",
   "execution_count": 1,
   "id": "236fdad9",
   "metadata": {},
   "outputs": [],
   "source": [
    "import class_list\n",
    "import operator"
   ]
  },
  {
   "cell_type": "code",
   "execution_count": 2,
   "id": "19774a15",
   "metadata": {},
   "outputs": [],
   "source": [
    "import os\n",
    "def delete_files(delete_files):\n",
    "    for file in delete_files:\n",
    "        try:\n",
    "            os.remove(file.decode())\n",
    "            print(f\"{file.decode()} Deleted\")\n",
    "        except:\n",
    "            print(f\"{file.decode()} Doesn't Exist\")"
   ]
  },
  {
   "cell_type": "code",
   "execution_count": 3,
   "id": "4e39bd2b-9297-4b75-ad81-3b49236083d1",
   "metadata": {},
   "outputs": [],
   "source": [
    "def get_img_from_annot(annotation_files,image_folder):\n",
    "    image_files=[]\n",
    "    for annot_path in annotation_files:\n",
    "        image_filename = os.path.splitext(os.path.basename(annot_path.decode()))[0] + '.jpg'\n",
    "        image_filepath = os.path.join(image_folder, image_filename)\n",
    "        image_files.append(image_filepath.encode(\"unicode-escape\"))\n",
    "    return image_files\n"
   ]
  },
  {
   "cell_type": "code",
   "execution_count": 38,
   "id": "9e9b0afb",
   "metadata": {},
   "outputs": [
    {
     "name": "stdout",
     "output_type": "stream",
     "text": [
      "Siddhi Lakshmi temple : 874\n",
      "Chayasilin Mandap : 759\n",
      "Fasidega Temple : 751\n",
      "bhairavnath temple : 739\n",
      "mahadev temple : 706\n",
      "Bhupatindra Malla Column : 702\n",
      "taleju bell_BDS : 698\n",
      "Gopinath Krishna Temple : 695\n",
      "Nyatapola temple : 631\n",
      "Dakshin Barahi : 507\n",
      "vastala temple : 432\n",
      "Bhimsen Temple : 406\n",
      "palace of the 55 windows : 369\n",
      "badrinath temple : 350\n",
      "golden gate : 301\n"
     ]
    }
   ],
   "source": [
    "test=class_list.get_classes(r'D:\\Major\\Dataset\\subset4\\annotations')\n",
    "sorted_result = dict(sorted(test.items(), key=operator.itemgetter(1),reverse=True))\n",
    "for subfolder, count in sorted_result.items():\n",
    "    print(f\"{subfolder} : {count}\")"
   ]
  },
  {
   "cell_type": "code",
   "execution_count": 17,
   "id": "fb6ee3cb-9af1-48a9-bdcb-110e6ce2c3f9",
   "metadata": {},
   "outputs": [
    {
     "name": "stdout",
     "output_type": "stream",
     "text": [
      "Siddhi Lakshmi temple : 369\n",
      "vishnu temple : 100\n",
      "kotilingeshvara : 81\n",
      "Vastala Temple : 70\n",
      "taleju bell_BDS : 69\n",
      "Kedamatha Tirtha : 65\n",
      "Bhupatindra Malla Column : 64\n",
      "Chayasilin Mandap : 63\n",
      "Badrinath : 48\n",
      "bhuvana lakshmeshvara : 44\n",
      "Fasidega Temple : 30\n",
      "taleju temple : 25\n",
      "jagannatha temple : 24\n",
      "pratap malla column : 23\n",
      "indrapura : 21\n",
      "narayan temple : 21\n",
      "Palace of 55 Windows : 16\n",
      "Mahadev Temple : 3\n",
      "Gopinath Krishna temple : 3\n"
     ]
    }
   ],
   "source": [
    "test1=class_list.get_classes(r'D:\\Major\\Dataset\\ALL_annotations\\multiple')\n",
    "sorted_result = dict(sorted(test1.items(), key=operator.itemgetter(1),reverse=True))\n",
    "for subfolder, count in sorted_result.items():\n",
    "    print(f\"{subfolder} : {count}\")"
   ]
  },
  {
   "cell_type": "code",
   "execution_count": 36,
   "id": "746f71c1-50c3-4138-b236-99026e212ad4",
   "metadata": {},
   "outputs": [
    {
     "name": "stdout",
     "output_type": "stream",
     "text": [
      "gaddi durbar : 671\n",
      "trailokya mohan : 643\n",
      "taleju temple : 484\n",
      "basantapur tower : 470\n",
      "kasthamandap : 414\n",
      "lalitpur tower : 388\n",
      "jagannatha temple : 384\n",
      "narayan temple : 382\n",
      "bhupatindra malla column : 380\n",
      "palace of the 55 windows : 380\n",
      "kumari ghar : 374\n",
      "chayasilin mandap : 363\n",
      "vastala temple : 360\n",
      "gopinath krishna temple : 338\n",
      "kala-bhairava : 310\n",
      "bhimeleshvara : 297\n",
      "bhuvana lakshmeshvara : 296\n",
      "siddhi lakshmi temple : 279\n",
      "taleju bell_BDS : 265\n",
      "vishnu temple : 230\n",
      "indrapura : 229\n",
      "garud : 226\n",
      "mahadev temple : 210\n",
      "pratap malla column : 180\n",
      "national gallery : 178\n",
      "degu tale : 176\n",
      "simha sattal : 174\n",
      "nyatapola temple : 160\n",
      "kavindrapura sattal : 158\n",
      "shveta bhairava : 148\n",
      "golden gate : 147\n",
      "chasin dega : 139\n",
      "kedamatha tirtha : 115\n",
      "shiva temple : 110\n",
      "dattatreya temple : 96\n",
      "bhagavati temple : 92\n",
      "badrinath temple : 80\n",
      "bhairavnath temple : 72\n",
      "taleju bell_KDS : 70\n",
      "fasidega temple : 69\n",
      "panchamukhi hanuman : 56\n",
      "bhimsen temple : 56\n",
      "bhaktapur tower : 55\n",
      "hanuman idol : 52\n",
      "kirtipur tower : 44\n",
      "til mahadev narayan temple : 21\n",
      "king statue : 13\n",
      "kotilingeshvara : 10\n"
     ]
    }
   ],
   "source": [
    "test1=class_list.get_classes(r'D:\\Major\\Dataset\\Minor data resized\\annotations')\n",
    "sorted_result = dict(sorted(test1.items(), key=operator.itemgetter(1),reverse=True))\n",
    "for subfolder, count in sorted_result.items():\n",
    "    print(f\"{subfolder} : {count}\")"
   ]
  },
  {
   "cell_type": "code",
   "execution_count": 4,
   "id": "4f0ab94a-daeb-4416-89fd-cd56e6a0f62b",
   "metadata": {},
   "outputs": [
    {
     "name": "stdout",
     "output_type": "stream",
     "text": [
      "kotilingeshvara : 10\n",
      "king statue : 13\n",
      "kritipur tower : 16\n",
      "til mahadev narayan temple : 21\n",
      "kirtipur tower : 28\n",
      "degu tale : 34\n",
      "hanuman idol : 52\n",
      "bhaktapur tower : 55\n",
      "panchamukhi hanuman : 56\n",
      "bhimsen temple : 56\n",
      "degutale temple : 62\n",
      "fasidega temple : 69\n",
      "taleju bell_KDS : 70\n",
      "bhairavnath temple : 72\n",
      "degu tale temple_KDS : 80\n",
      "badrinath temple : 80\n",
      "bhagavati temple : 92\n",
      "dattatreya temple : 96\n",
      "shiva temple : 110\n",
      "kedamatha tirtha : 115\n",
      "chasin dega : 139\n",
      "golden gate : 147\n",
      "shveta bhairava : 148\n",
      "kavindrapura sattal : 158\n",
      "nyatapola temple : 160\n",
      "simha sattal : 174\n",
      "national gallery : 178\n",
      "pratap malla column : 180\n",
      "mahadev temple : 210\n",
      "garud : 226\n",
      "indrapura : 229\n",
      "vishnu temple : 230\n",
      "taleju bell_BDS : 265\n",
      "siddhi lakshmi temple : 279\n",
      "bhuvana lakshmeshvara : 296\n",
      "bhimeleshvara : 297\n",
      "kala-bhairava : 310\n",
      "gopinath krishna temple : 338\n",
      "vastala temple : 360\n",
      "chayasilin mandap : 363\n",
      "kumari ghar : 374\n",
      "bhupatindra malla column : 380\n",
      "palace of the 55 windows : 380\n",
      "narayan temple : 382\n",
      "jagannatha temple : 384\n",
      "lalitpur tower : 388\n",
      "kasthamandap : 414\n",
      "basantapur tower : 470\n",
      "taleju temple : 484\n",
      "trailokya mohan : 643\n",
      "gaddi durbar : 671\n"
     ]
    }
   ],
   "source": [
    "import operator\n",
    "sorted_result = dict(sorted(test.items(), key=operator.itemgetter(1)))\n",
    "    # Print the count of images in each subfolder\n",
    "for subfolder, count in sorted_result.items():\n",
    "    print(f\"{subfolder} : {count}\")"
   ]
  },
  {
   "cell_type": "code",
   "execution_count": null,
   "id": "f016c6ed-8d32-4aa4-8f76-6076ef181849",
   "metadata": {},
   "outputs": [],
   "source": [
    "test=class_list.get_classes(r'D:\\Major\\Dataset\\ALL_annotations\\multiple')\n",
    "for key, value in test.items():\n",
    "    print(f'{key}:  {value}')"
   ]
  },
  {
   "cell_type": "code",
   "execution_count": null,
   "id": "e840639b-e48f-4c56-870e-f55524d34406",
   "metadata": {},
   "outputs": [],
   "source": [
    "print(\"HEllo\")"
   ]
  },
  {
   "cell_type": "code",
   "execution_count": 33,
   "id": "687a97c1-71e5-44cd-948d-96ae5f4b5fd4",
   "metadata": {},
   "outputs": [
    {
     "name": "stdout",
     "output_type": "stream",
     "text": [
      "badrinath temple:  80\n",
      "basantapur tower:  470\n",
      "bhagavati temple:  92\n",
      "bhairavnath temple:  72\n",
      "bhaktapur tower:  55\n",
      "bhimeleshvara:  297\n",
      "bhimsen temple:  56\n",
      "bhupatindra malla column:  380\n",
      "bhuvana lakshmeshvara:  296\n",
      "chasin dega:  139\n",
      "chayasilin mandap:  363\n",
      "dattatreya temple:  96\n",
      "degu tale:  34\n",
      "degu tale temple_KDS:  80\n",
      "degutale temple:  62\n",
      "fasidega temple:  69\n",
      "gaddi durbar:  671\n",
      "garud:  226\n",
      "golden gate:  147\n",
      "gopinath krishna temple:  338\n",
      "hanuman idol:  52\n",
      "indrapura:  229\n",
      "jagannatha temple:  384\n",
      "kala-bhairava:  310\n",
      "kasthamandap:  414\n",
      "kavindrapura sattal:  158\n",
      "kedamatha tirtha:  115\n",
      "king statue:  13\n",
      "kirtipur tower:  44\n",
      "kotilingeshvara:  10\n",
      "kumari ghar:  374\n",
      "lalitpur tower:  388\n",
      "mahadev temple:  210\n",
      "narayan temple:  382\n",
      "national gallery:  178\n",
      "nyatapola temple:  160\n",
      "palace of the 55 windows:  380\n",
      "panchamukhi hanuman:  56\n",
      "pratap malla column:  180\n",
      "shiva temple:  110\n",
      "shveta bhairava:  148\n",
      "siddhi lakshmi temple:  279\n",
      "simha sattal:  174\n",
      "taleju bell_BDS:  265\n",
      "taleju bell_KDS:  70\n",
      "taleju temple:  484\n",
      "til mahadev narayan temple:  21\n",
      "trailokya mohan:  643\n",
      "vastala temple:  360\n",
      "vishnu temple:  230\n"
     ]
    }
   ],
   "source": [
    "test1=class_list.get_classes(r'D:\\Major\\Dataset\\Minor data resized\\annotations')\n",
    "keys=list(test1.keys())\n",
    "keys.sort()\n",
    "for key in keys:\n",
    "    print(f'{key}:  {test1[key]}')"
   ]
  },
  {
   "cell_type": "code",
   "execution_count": 76,
   "id": "a49dd368-d318-452e-a650-1b7d6a3f13a2",
   "metadata": {},
   "outputs": [
    {
     "name": "stdout",
     "output_type": "stream",
     "text": [
      "Ghantaghar:  862\n"
     ]
    }
   ],
   "source": [
    "test=class_list.get_classes(r'D:\\Major\\inc_18\\train_set\\annotations')\n",
    "keys=list(test.keys())\n",
    "mykeys=keys.sort()\n",
    "for key in keys:\n",
    "    print(f'{key}:  {test[key]}')"
   ]
  },
  {
   "cell_type": "code",
   "execution_count": 139,
   "id": "68d6cee9",
   "metadata": {},
   "outputs": [
    {
     "name": "stdout",
     "output_type": "stream",
     "text": [
      "[b'D:\\\\\\\\Major\\\\\\\\Dataset\\\\\\\\subset3\\\\\\\\base_set\\\\\\\\annotations\\\\\\\\2157.xml', b'D:\\\\\\\\Major\\\\\\\\Dataset\\\\\\\\subset3\\\\\\\\base_set\\\\\\\\annotations\\\\\\\\2159.xml', b'D:\\\\\\\\Major\\\\\\\\Dataset\\\\\\\\subset3\\\\\\\\base_set\\\\\\\\annotations\\\\\\\\2160.xml', b'D:\\\\\\\\Major\\\\\\\\Dataset\\\\\\\\subset3\\\\\\\\base_set\\\\\\\\annotations\\\\\\\\2161.xml', b'D:\\\\\\\\Major\\\\\\\\Dataset\\\\\\\\subset3\\\\\\\\base_set\\\\\\\\annotations\\\\\\\\2162.xml', b'D:\\\\\\\\Major\\\\\\\\Dataset\\\\\\\\subset3\\\\\\\\base_set\\\\\\\\annotations\\\\\\\\2171.xml', b'D:\\\\\\\\Major\\\\\\\\Dataset\\\\\\\\subset3\\\\\\\\base_set\\\\\\\\annotations\\\\\\\\2172.xml', b'D:\\\\\\\\Major\\\\\\\\Dataset\\\\\\\\subset3\\\\\\\\base_set\\\\\\\\annotations\\\\\\\\2176.xml', b'D:\\\\\\\\Major\\\\\\\\Dataset\\\\\\\\subset3\\\\\\\\base_set\\\\\\\\annotations\\\\\\\\2177.xml', b'D:\\\\\\\\Major\\\\\\\\Dataset\\\\\\\\subset3\\\\\\\\base_set\\\\\\\\annotations\\\\\\\\2178.xml', b'D:\\\\\\\\Major\\\\\\\\Dataset\\\\\\\\subset3\\\\\\\\base_set\\\\\\\\annotations\\\\\\\\2179.xml', b'D:\\\\\\\\Major\\\\\\\\Dataset\\\\\\\\subset3\\\\\\\\base_set\\\\\\\\annotations\\\\\\\\2180.xml', b'D:\\\\\\\\Major\\\\\\\\Dataset\\\\\\\\subset3\\\\\\\\base_set\\\\\\\\annotations\\\\\\\\2181.xml', b'D:\\\\\\\\Major\\\\\\\\Dataset\\\\\\\\subset3\\\\\\\\base_set\\\\\\\\annotations\\\\\\\\2182.xml', b'D:\\\\\\\\Major\\\\\\\\Dataset\\\\\\\\subset3\\\\\\\\base_set\\\\\\\\annotations\\\\\\\\2183.xml', b'D:\\\\\\\\Major\\\\\\\\Dataset\\\\\\\\subset3\\\\\\\\base_set\\\\\\\\annotations\\\\\\\\2510.xml', b'D:\\\\\\\\Major\\\\\\\\Dataset\\\\\\\\subset3\\\\\\\\base_set\\\\\\\\annotations\\\\\\\\2511.xml', b'D:\\\\\\\\Major\\\\\\\\Dataset\\\\\\\\subset3\\\\\\\\base_set\\\\\\\\annotations\\\\\\\\2512.xml', b'D:\\\\\\\\Major\\\\\\\\Dataset\\\\\\\\subset3\\\\\\\\base_set\\\\\\\\annotations\\\\\\\\2513.xml', b'D:\\\\\\\\Major\\\\\\\\Dataset\\\\\\\\subset3\\\\\\\\base_set\\\\\\\\annotations\\\\\\\\2514.xml', b'D:\\\\\\\\Major\\\\\\\\Dataset\\\\\\\\subset3\\\\\\\\base_set\\\\\\\\annotations\\\\\\\\2783.xml', b'D:\\\\\\\\Major\\\\\\\\Dataset\\\\\\\\subset3\\\\\\\\base_set\\\\\\\\annotations\\\\\\\\2830.xml', b'D:\\\\\\\\Major\\\\\\\\Dataset\\\\\\\\subset3\\\\\\\\base_set\\\\\\\\annotations\\\\\\\\4672.xml', b'D:\\\\\\\\Major\\\\\\\\Dataset\\\\\\\\subset3\\\\\\\\base_set\\\\\\\\annotations\\\\\\\\4673.xml', b'D:\\\\\\\\Major\\\\\\\\Dataset\\\\\\\\subset3\\\\\\\\base_set\\\\\\\\annotations\\\\\\\\4674.xml', b'D:\\\\\\\\Major\\\\\\\\Dataset\\\\\\\\subset3\\\\\\\\base_set\\\\\\\\annotations\\\\\\\\4675.xml', b'D:\\\\\\\\Major\\\\\\\\Dataset\\\\\\\\subset3\\\\\\\\base_set\\\\\\\\annotations\\\\\\\\4676.xml', b'D:\\\\\\\\Major\\\\\\\\Dataset\\\\\\\\subset3\\\\\\\\base_set\\\\\\\\annotations\\\\\\\\4677.xml', b'D:\\\\\\\\Major\\\\\\\\Dataset\\\\\\\\subset3\\\\\\\\base_set\\\\\\\\annotations\\\\\\\\4679.xml', b'D:\\\\\\\\Major\\\\\\\\Dataset\\\\\\\\subset3\\\\\\\\base_set\\\\\\\\annotations\\\\\\\\4680.xml', b'D:\\\\\\\\Major\\\\\\\\Dataset\\\\\\\\subset3\\\\\\\\base_set\\\\\\\\annotations\\\\\\\\4681.xml', b'D:\\\\\\\\Major\\\\\\\\Dataset\\\\\\\\subset3\\\\\\\\base_set\\\\\\\\annotations\\\\\\\\4682.xml', b'D:\\\\\\\\Major\\\\\\\\Dataset\\\\\\\\subset3\\\\\\\\base_set\\\\\\\\annotations\\\\\\\\4698.xml', b'D:\\\\\\\\Major\\\\\\\\Dataset\\\\\\\\subset3\\\\\\\\base_set\\\\\\\\annotations\\\\\\\\4981.xml', b'D:\\\\\\\\Major\\\\\\\\Dataset\\\\\\\\subset3\\\\\\\\base_set\\\\\\\\annotations\\\\\\\\4982.xml', b'D:\\\\\\\\Major\\\\\\\\Dataset\\\\\\\\subset3\\\\\\\\base_set\\\\\\\\annotations\\\\\\\\4983.xml', b'D:\\\\\\\\Major\\\\\\\\Dataset\\\\\\\\subset3\\\\\\\\base_set\\\\\\\\annotations\\\\\\\\4984.xml', b'D:\\\\\\\\Major\\\\\\\\Dataset\\\\\\\\subset3\\\\\\\\base_set\\\\\\\\annotations\\\\\\\\4985.xml', b'D:\\\\\\\\Major\\\\\\\\Dataset\\\\\\\\subset3\\\\\\\\base_set\\\\\\\\annotations\\\\\\\\4986.xml', b'D:\\\\\\\\Major\\\\\\\\Dataset\\\\\\\\subset3\\\\\\\\base_set\\\\\\\\annotations\\\\\\\\4987.xml', b'D:\\\\\\\\Major\\\\\\\\Dataset\\\\\\\\subset3\\\\\\\\base_set\\\\\\\\annotations\\\\\\\\5567.xml', b'D:\\\\\\\\Major\\\\\\\\Dataset\\\\\\\\subset3\\\\\\\\base_set\\\\\\\\annotations\\\\\\\\5568.xml', b'D:\\\\\\\\Major\\\\\\\\Dataset\\\\\\\\subset3\\\\\\\\base_set\\\\\\\\annotations\\\\\\\\5882.xml', b'D:\\\\\\\\Major\\\\\\\\Dataset\\\\\\\\subset3\\\\\\\\base_set\\\\\\\\annotations\\\\\\\\5884.xml', b'D:\\\\\\\\Major\\\\\\\\Dataset\\\\\\\\subset3\\\\\\\\base_set\\\\\\\\annotations\\\\\\\\5887.xml', b'D:\\\\\\\\Major\\\\\\\\Dataset\\\\\\\\subset3\\\\\\\\base_set\\\\\\\\annotations\\\\\\\\5889.xml', b'D:\\\\\\\\Major\\\\\\\\Dataset\\\\\\\\subset3\\\\\\\\base_set\\\\\\\\annotations\\\\\\\\5891.xml', b'D:\\\\\\\\Major\\\\\\\\Dataset\\\\\\\\subset3\\\\\\\\base_set\\\\\\\\annotations\\\\\\\\5894.xml', b'D:\\\\\\\\Major\\\\\\\\Dataset\\\\\\\\subset3\\\\\\\\base_set\\\\\\\\annotations\\\\\\\\5895.xml', b'D:\\\\\\\\Major\\\\\\\\Dataset\\\\\\\\subset3\\\\\\\\base_set\\\\\\\\annotations\\\\\\\\5897.xml', b'D:\\\\\\\\Major\\\\\\\\Dataset\\\\\\\\subset3\\\\\\\\base_set\\\\\\\\annotations\\\\\\\\5901.xml', b'D:\\\\\\\\Major\\\\\\\\Dataset\\\\\\\\subset3\\\\\\\\base_set\\\\\\\\annotations\\\\\\\\5902.xml', b'D:\\\\\\\\Major\\\\\\\\Dataset\\\\\\\\subset3\\\\\\\\base_set\\\\\\\\annotations\\\\\\\\5903.xml', b'D:\\\\\\\\Major\\\\\\\\Dataset\\\\\\\\subset3\\\\\\\\base_set\\\\\\\\annotations\\\\\\\\5904.xml', b'D:\\\\\\\\Major\\\\\\\\Dataset\\\\\\\\subset3\\\\\\\\base_set\\\\\\\\annotations\\\\\\\\5905.xml', b'D:\\\\\\\\Major\\\\\\\\Dataset\\\\\\\\subset3\\\\\\\\base_set\\\\\\\\annotations\\\\\\\\5908.xml', b'D:\\\\\\\\Major\\\\\\\\Dataset\\\\\\\\subset3\\\\\\\\base_set\\\\\\\\annotations\\\\\\\\IMG_20230809_164923.xml', b'D:\\\\\\\\Major\\\\\\\\Dataset\\\\\\\\subset3\\\\\\\\base_set\\\\\\\\annotations\\\\\\\\IMG_20230809_164923_1.xml', b'D:\\\\\\\\Major\\\\\\\\Dataset\\\\\\\\subset3\\\\\\\\base_set\\\\\\\\annotations\\\\\\\\IMG_20230809_164924.xml', b'D:\\\\\\\\Major\\\\\\\\Dataset\\\\\\\\subset3\\\\\\\\base_set\\\\\\\\annotations\\\\\\\\IMG_20230809_164925.xml', b'D:\\\\\\\\Major\\\\\\\\Dataset\\\\\\\\subset3\\\\\\\\base_set\\\\\\\\annotations\\\\\\\\IMG_20230809_164925_1.xml', b'D:\\\\\\\\Major\\\\\\\\Dataset\\\\\\\\subset3\\\\\\\\base_set\\\\\\\\annotations\\\\\\\\IMG_20230809_164927.xml', b'D:\\\\\\\\Major\\\\\\\\Dataset\\\\\\\\subset3\\\\\\\\base_set\\\\\\\\annotations\\\\\\\\IMG_20230809_164927_1.xml', b'D:\\\\\\\\Major\\\\\\\\Dataset\\\\\\\\subset3\\\\\\\\base_set\\\\\\\\annotations\\\\\\\\IMG_20230809_164927_2.xml', b'D:\\\\\\\\Major\\\\\\\\Dataset\\\\\\\\subset3\\\\\\\\base_set\\\\\\\\annotations\\\\\\\\IMG_20230809_164928.xml', b'D:\\\\\\\\Major\\\\\\\\Dataset\\\\\\\\subset3\\\\\\\\base_set\\\\\\\\annotations\\\\\\\\IMG_20230809_164929.xml', b'D:\\\\\\\\Major\\\\\\\\Dataset\\\\\\\\subset3\\\\\\\\base_set\\\\\\\\annotations\\\\\\\\IMG_20230809_164929_1.xml', b'D:\\\\\\\\Major\\\\\\\\Dataset\\\\\\\\subset3\\\\\\\\base_set\\\\\\\\annotations\\\\\\\\IMG_20230809_164930.xml', b'D:\\\\\\\\Major\\\\\\\\Dataset\\\\\\\\subset3\\\\\\\\base_set\\\\\\\\annotations\\\\\\\\IMG_20230809_164930_1.xml', b'D:\\\\\\\\Major\\\\\\\\Dataset\\\\\\\\subset3\\\\\\\\base_set\\\\\\\\annotations\\\\\\\\IMG_20230809_164931.xml', b'D:\\\\\\\\Major\\\\\\\\Dataset\\\\\\\\subset3\\\\\\\\base_set\\\\\\\\annotations\\\\\\\\IMG_20230809_164931_1.xml', b'D:\\\\\\\\Major\\\\\\\\Dataset\\\\\\\\subset3\\\\\\\\base_set\\\\\\\\annotations\\\\\\\\IMG_20230809_164932.xml', b'D:\\\\\\\\Major\\\\\\\\Dataset\\\\\\\\subset3\\\\\\\\base_set\\\\\\\\annotations\\\\\\\\IMG_20230809_164934.xml', b'D:\\\\\\\\Major\\\\\\\\Dataset\\\\\\\\subset3\\\\\\\\base_set\\\\\\\\annotations\\\\\\\\IMG_20230809_164935.xml', b'D:\\\\\\\\Major\\\\\\\\Dataset\\\\\\\\subset3\\\\\\\\base_set\\\\\\\\annotations\\\\\\\\IMG_20230809_164937.xml', b'D:\\\\\\\\Major\\\\\\\\Dataset\\\\\\\\subset3\\\\\\\\base_set\\\\\\\\annotations\\\\\\\\IMG_20230809_164937_1.xml', b'D:\\\\\\\\Major\\\\\\\\Dataset\\\\\\\\subset3\\\\\\\\base_set\\\\\\\\annotations\\\\\\\\IMG_20230809_164938.xml', b'D:\\\\\\\\Major\\\\\\\\Dataset\\\\\\\\subset3\\\\\\\\base_set\\\\\\\\annotations\\\\\\\\IMG_20230809_164938_1.xml', b'D:\\\\\\\\Major\\\\\\\\Dataset\\\\\\\\subset3\\\\\\\\base_set\\\\\\\\annotations\\\\\\\\IMG_20230809_164940.xml', b'D:\\\\\\\\Major\\\\\\\\Dataset\\\\\\\\subset3\\\\\\\\base_set\\\\\\\\annotations\\\\\\\\IMG_20230809_164940_1.xml', b'D:\\\\\\\\Major\\\\\\\\Dataset\\\\\\\\subset3\\\\\\\\base_set\\\\\\\\annotations\\\\\\\\IMG_20230809_164940_2.xml', b'D:\\\\\\\\Major\\\\\\\\Dataset\\\\\\\\subset3\\\\\\\\base_set\\\\\\\\annotations\\\\\\\\IMG_20230809_164944.xml', b'D:\\\\\\\\Major\\\\\\\\Dataset\\\\\\\\subset3\\\\\\\\base_set\\\\\\\\annotations\\\\\\\\IMG_20230809_164944_1.xml', b'D:\\\\\\\\Major\\\\\\\\Dataset\\\\\\\\subset3\\\\\\\\base_set\\\\\\\\annotations\\\\\\\\IMG_20230809_164945.xml', b'D:\\\\\\\\Major\\\\\\\\Dataset\\\\\\\\subset3\\\\\\\\base_set\\\\\\\\annotations\\\\\\\\IMG_20230809_164946.xml', b'D:\\\\\\\\Major\\\\\\\\Dataset\\\\\\\\subset3\\\\\\\\base_set\\\\\\\\annotations\\\\\\\\IMG_20230809_164958.xml', b'D:\\\\\\\\Major\\\\\\\\Dataset\\\\\\\\subset3\\\\\\\\base_set\\\\\\\\annotations\\\\\\\\IMG_20230809_164959.xml', b'D:\\\\\\\\Major\\\\\\\\Dataset\\\\\\\\subset3\\\\\\\\base_set\\\\\\\\annotations\\\\\\\\IMG_20230809_164959_1.xml', b'D:\\\\\\\\Major\\\\\\\\Dataset\\\\\\\\subset3\\\\\\\\base_set\\\\\\\\annotations\\\\\\\\IMG_20230809_165000.xml', b'D:\\\\\\\\Major\\\\\\\\Dataset\\\\\\\\subset3\\\\\\\\base_set\\\\\\\\annotations\\\\\\\\IMG_20230809_165000_1.xml', b'D:\\\\\\\\Major\\\\\\\\Dataset\\\\\\\\subset3\\\\\\\\base_set\\\\\\\\annotations\\\\\\\\IMG_20230809_165000_2.xml', b'D:\\\\\\\\Major\\\\\\\\Dataset\\\\\\\\subset3\\\\\\\\base_set\\\\\\\\annotations\\\\\\\\IMG_20230809_165000_3.xml', b'D:\\\\\\\\Major\\\\\\\\Dataset\\\\\\\\subset3\\\\\\\\base_set\\\\\\\\annotations\\\\\\\\IMG_20230809_165000_4.xml', b'D:\\\\\\\\Major\\\\\\\\Dataset\\\\\\\\subset3\\\\\\\\base_set\\\\\\\\annotations\\\\\\\\IMG_20230809_165002.xml', b'D:\\\\\\\\Major\\\\\\\\Dataset\\\\\\\\subset3\\\\\\\\base_set\\\\\\\\annotations\\\\\\\\IMG_20230809_165002_1.xml', b'D:\\\\\\\\Major\\\\\\\\Dataset\\\\\\\\subset3\\\\\\\\base_set\\\\\\\\annotations\\\\\\\\IMG_20230809_165002_2.xml', b'D:\\\\\\\\Major\\\\\\\\Dataset\\\\\\\\subset3\\\\\\\\base_set\\\\\\\\annotations\\\\\\\\IMG_20230809_165002_3.xml', b'D:\\\\\\\\Major\\\\\\\\Dataset\\\\\\\\subset3\\\\\\\\base_set\\\\\\\\annotations\\\\\\\\IMG_20230809_165003.xml', b'D:\\\\\\\\Major\\\\\\\\Dataset\\\\\\\\subset3\\\\\\\\base_set\\\\\\\\annotations\\\\\\\\IMG_20230809_165004.xml', b'D:\\\\\\\\Major\\\\\\\\Dataset\\\\\\\\subset3\\\\\\\\base_set\\\\\\\\annotations\\\\\\\\IMG_20230809_165005.xml', b'D:\\\\\\\\Major\\\\\\\\Dataset\\\\\\\\subset3\\\\\\\\base_set\\\\\\\\annotations\\\\\\\\IMG_20230809_165007.xml', b'D:\\\\\\\\Major\\\\\\\\Dataset\\\\\\\\subset3\\\\\\\\base_set\\\\\\\\annotations\\\\\\\\IMG_20230809_165007_1.xml', b'D:\\\\\\\\Major\\\\\\\\Dataset\\\\\\\\subset3\\\\\\\\base_set\\\\\\\\annotations\\\\\\\\IMG_20230809_165007_2.xml', b'D:\\\\\\\\Major\\\\\\\\Dataset\\\\\\\\subset3\\\\\\\\base_set\\\\\\\\annotations\\\\\\\\IMG_20230809_165008.xml', b'D:\\\\\\\\Major\\\\\\\\Dataset\\\\\\\\subset3\\\\\\\\base_set\\\\\\\\annotations\\\\\\\\IMG_20230809_165008_1.xml', b'D:\\\\\\\\Major\\\\\\\\Dataset\\\\\\\\subset3\\\\\\\\base_set\\\\\\\\annotations\\\\\\\\IMG_20230809_165009.xml', b'D:\\\\\\\\Major\\\\\\\\Dataset\\\\\\\\subset3\\\\\\\\base_set\\\\\\\\annotations\\\\\\\\IMG_20230809_165009_1.xml', b'D:\\\\\\\\Major\\\\\\\\Dataset\\\\\\\\subset3\\\\\\\\base_set\\\\\\\\annotations\\\\\\\\IMG_20230809_165010.xml', b'D:\\\\\\\\Major\\\\\\\\Dataset\\\\\\\\subset3\\\\\\\\base_set\\\\\\\\annotations\\\\\\\\IMG_20230809_165020.xml', b'D:\\\\\\\\Major\\\\\\\\Dataset\\\\\\\\subset3\\\\\\\\base_set\\\\\\\\annotations\\\\\\\\IMG_20230809_165020_1.xml', b'D:\\\\\\\\Major\\\\\\\\Dataset\\\\\\\\subset3\\\\\\\\base_set\\\\\\\\annotations\\\\\\\\IMG_20230809_165021.xml', b'D:\\\\\\\\Major\\\\\\\\Dataset\\\\\\\\subset3\\\\\\\\base_set\\\\\\\\annotations\\\\\\\\IMG_20230809_165021_1.xml', b'D:\\\\\\\\Major\\\\\\\\Dataset\\\\\\\\subset3\\\\\\\\base_set\\\\\\\\annotations\\\\\\\\IMG_20230809_165021_2.xml', b'D:\\\\\\\\Major\\\\\\\\Dataset\\\\\\\\subset3\\\\\\\\base_set\\\\\\\\annotations\\\\\\\\IMG_20230809_165022.xml', b'D:\\\\\\\\Major\\\\\\\\Dataset\\\\\\\\subset3\\\\\\\\base_set\\\\\\\\annotations\\\\\\\\IMG_20230809_165022_1.xml', b'D:\\\\\\\\Major\\\\\\\\Dataset\\\\\\\\subset3\\\\\\\\base_set\\\\\\\\annotations\\\\\\\\IMG_20230809_165023.xml', b'D:\\\\\\\\Major\\\\\\\\Dataset\\\\\\\\subset3\\\\\\\\base_set\\\\\\\\annotations\\\\\\\\IMG_20230809_165024.xml', b'D:\\\\\\\\Major\\\\\\\\Dataset\\\\\\\\subset3\\\\\\\\base_set\\\\\\\\annotations\\\\\\\\IMG_20230809_165024_1.xml', b'D:\\\\\\\\Major\\\\\\\\Dataset\\\\\\\\subset3\\\\\\\\base_set\\\\\\\\annotations\\\\\\\\IMG_20230809_165025.xml', b'D:\\\\\\\\Major\\\\\\\\Dataset\\\\\\\\subset3\\\\\\\\base_set\\\\\\\\annotations\\\\\\\\IMG_20230809_165026.xml', b'D:\\\\\\\\Major\\\\\\\\Dataset\\\\\\\\subset3\\\\\\\\base_set\\\\\\\\annotations\\\\\\\\IMG_20230809_165026_1.xml', b'D:\\\\\\\\Major\\\\\\\\Dataset\\\\\\\\subset3\\\\\\\\base_set\\\\\\\\annotations\\\\\\\\IMG_20230809_165027.xml', b'D:\\\\\\\\Major\\\\\\\\Dataset\\\\\\\\subset3\\\\\\\\base_set\\\\\\\\annotations\\\\\\\\IMG_20230809_165027_1.xml', b'D:\\\\\\\\Major\\\\\\\\Dataset\\\\\\\\subset3\\\\\\\\base_set\\\\\\\\annotations\\\\\\\\IMG_20230809_165028.xml', b'D:\\\\\\\\Major\\\\\\\\Dataset\\\\\\\\subset3\\\\\\\\base_set\\\\\\\\annotations\\\\\\\\IMG_20230809_165028_1.xml', b'D:\\\\\\\\Major\\\\\\\\Dataset\\\\\\\\subset3\\\\\\\\base_set\\\\\\\\annotations\\\\\\\\IMG_20230809_165032.xml', b'D:\\\\\\\\Major\\\\\\\\Dataset\\\\\\\\subset3\\\\\\\\base_set\\\\\\\\annotations\\\\\\\\IMG_20230809_165032_1.xml', b'D:\\\\\\\\Major\\\\\\\\Dataset\\\\\\\\subset3\\\\\\\\base_set\\\\\\\\annotations\\\\\\\\IMG_20230809_165032_2.xml', b'D:\\\\\\\\Major\\\\\\\\Dataset\\\\\\\\subset3\\\\\\\\base_set\\\\\\\\annotations\\\\\\\\ris (582).xml', b'D:\\\\\\\\Major\\\\\\\\Dataset\\\\\\\\subset3\\\\\\\\base_set\\\\\\\\annotations\\\\\\\\ris (584).xml', b'D:\\\\\\\\Major\\\\\\\\Dataset\\\\\\\\subset3\\\\\\\\base_set\\\\\\\\annotations\\\\\\\\ris (585).xml', b'D:\\\\\\\\Major\\\\\\\\Dataset\\\\\\\\subset3\\\\\\\\base_set\\\\\\\\annotations\\\\\\\\ris (586).xml', b'D:\\\\\\\\Major\\\\\\\\Dataset\\\\\\\\subset3\\\\\\\\base_set\\\\\\\\annotations\\\\\\\\ris (587).xml', b'D:\\\\\\\\Major\\\\\\\\Dataset\\\\\\\\subset3\\\\\\\\base_set\\\\\\\\annotations\\\\\\\\ris (588).xml', b'D:\\\\\\\\Major\\\\\\\\Dataset\\\\\\\\subset3\\\\\\\\base_set\\\\\\\\annotations\\\\\\\\ris (589).xml', b'D:\\\\\\\\Major\\\\\\\\Dataset\\\\\\\\subset3\\\\\\\\base_set\\\\\\\\annotations\\\\\\\\ris (590).xml', b'D:\\\\\\\\Major\\\\\\\\Dataset\\\\\\\\subset3\\\\\\\\base_set\\\\\\\\annotations\\\\\\\\ris (591).xml', b'D:\\\\\\\\Major\\\\\\\\Dataset\\\\\\\\subset3\\\\\\\\base_set\\\\\\\\annotations\\\\\\\\ris (856).xml', b'D:\\\\\\\\Major\\\\\\\\Dataset\\\\\\\\subset3\\\\\\\\base_set\\\\\\\\annotations\\\\\\\\ris (857).xml', b'D:\\\\\\\\Major\\\\\\\\Dataset\\\\\\\\subset3\\\\\\\\base_set\\\\\\\\annotations\\\\\\\\ris (951).xml', b'D:\\\\\\\\Major\\\\\\\\Dataset\\\\\\\\subset3\\\\\\\\base_set\\\\\\\\annotations\\\\\\\\ujj (17).xml', b'D:\\\\\\\\Major\\\\\\\\Dataset\\\\\\\\subset3\\\\\\\\base_set\\\\\\\\annotations\\\\\\\\ujj (33).xml', b'D:\\\\\\\\Major\\\\\\\\Dataset\\\\\\\\subset3\\\\\\\\base_set\\\\\\\\annotations\\\\\\\\ujjj (152).xml', b'D:\\\\\\\\Major\\\\\\\\Dataset\\\\\\\\subset3\\\\\\\\base_set\\\\\\\\annotations\\\\\\\\ujjj (180).xml', b'D:\\\\\\\\Major\\\\\\\\Dataset\\\\\\\\subset3\\\\\\\\base_set\\\\\\\\annotations\\\\\\\\ujjj (219).xml', b'D:\\\\\\\\Major\\\\\\\\Dataset\\\\\\\\subset3\\\\\\\\base_set\\\\\\\\annotations\\\\\\\\ujjj (236).xml', b'D:\\\\\\\\Major\\\\\\\\Dataset\\\\\\\\subset3\\\\\\\\base_set\\\\\\\\annotations\\\\\\\\ujjj (237).xml', b'D:\\\\\\\\Major\\\\\\\\Dataset\\\\\\\\subset3\\\\\\\\base_set\\\\\\\\annotations\\\\\\\\ujjj (238).xml', b'D:\\\\\\\\Major\\\\\\\\Dataset\\\\\\\\subset3\\\\\\\\base_set\\\\\\\\annotations\\\\\\\\ujjj (239).xml', b'D:\\\\\\\\Major\\\\\\\\Dataset\\\\\\\\subset3\\\\\\\\base_set\\\\\\\\annotations\\\\\\\\ujjj (241).xml']\n"
     ]
    }
   ],
   "source": [
    "files=class_list.get_null_file(r'D:\\Major\\Dataset\\subset3\\base_set\\annotations')\n",
    "print(files)"
   ]
  },
  {
   "cell_type": "code",
   "execution_count": 140,
   "id": "202c927f-5f37-412b-844c-044c69ae77db",
   "metadata": {},
   "outputs": [
    {
     "name": "stdout",
     "output_type": "stream",
     "text": [
      "D:\\\\Major\\\\Dataset\\\\subset3\\\\base_set\\\\annotations\\\\2157.xml Deleted\n",
      "D:\\\\Major\\\\Dataset\\\\subset3\\\\base_set\\\\annotations\\\\2159.xml Deleted\n",
      "D:\\\\Major\\\\Dataset\\\\subset3\\\\base_set\\\\annotations\\\\2160.xml Deleted\n",
      "D:\\\\Major\\\\Dataset\\\\subset3\\\\base_set\\\\annotations\\\\2161.xml Deleted\n",
      "D:\\\\Major\\\\Dataset\\\\subset3\\\\base_set\\\\annotations\\\\2162.xml Deleted\n",
      "D:\\\\Major\\\\Dataset\\\\subset3\\\\base_set\\\\annotations\\\\2171.xml Deleted\n",
      "D:\\\\Major\\\\Dataset\\\\subset3\\\\base_set\\\\annotations\\\\2172.xml Deleted\n",
      "D:\\\\Major\\\\Dataset\\\\subset3\\\\base_set\\\\annotations\\\\2176.xml Deleted\n",
      "D:\\\\Major\\\\Dataset\\\\subset3\\\\base_set\\\\annotations\\\\2177.xml Deleted\n",
      "D:\\\\Major\\\\Dataset\\\\subset3\\\\base_set\\\\annotations\\\\2178.xml Deleted\n",
      "D:\\\\Major\\\\Dataset\\\\subset3\\\\base_set\\\\annotations\\\\2179.xml Deleted\n",
      "D:\\\\Major\\\\Dataset\\\\subset3\\\\base_set\\\\annotations\\\\2180.xml Deleted\n",
      "D:\\\\Major\\\\Dataset\\\\subset3\\\\base_set\\\\annotations\\\\2181.xml Deleted\n",
      "D:\\\\Major\\\\Dataset\\\\subset3\\\\base_set\\\\annotations\\\\2182.xml Deleted\n",
      "D:\\\\Major\\\\Dataset\\\\subset3\\\\base_set\\\\annotations\\\\2183.xml Deleted\n",
      "D:\\\\Major\\\\Dataset\\\\subset3\\\\base_set\\\\annotations\\\\2510.xml Deleted\n",
      "D:\\\\Major\\\\Dataset\\\\subset3\\\\base_set\\\\annotations\\\\2511.xml Deleted\n",
      "D:\\\\Major\\\\Dataset\\\\subset3\\\\base_set\\\\annotations\\\\2512.xml Deleted\n",
      "D:\\\\Major\\\\Dataset\\\\subset3\\\\base_set\\\\annotations\\\\2513.xml Deleted\n",
      "D:\\\\Major\\\\Dataset\\\\subset3\\\\base_set\\\\annotations\\\\2514.xml Deleted\n",
      "D:\\\\Major\\\\Dataset\\\\subset3\\\\base_set\\\\annotations\\\\2783.xml Deleted\n",
      "D:\\\\Major\\\\Dataset\\\\subset3\\\\base_set\\\\annotations\\\\2830.xml Deleted\n",
      "D:\\\\Major\\\\Dataset\\\\subset3\\\\base_set\\\\annotations\\\\4672.xml Deleted\n",
      "D:\\\\Major\\\\Dataset\\\\subset3\\\\base_set\\\\annotations\\\\4673.xml Deleted\n",
      "D:\\\\Major\\\\Dataset\\\\subset3\\\\base_set\\\\annotations\\\\4674.xml Deleted\n",
      "D:\\\\Major\\\\Dataset\\\\subset3\\\\base_set\\\\annotations\\\\4675.xml Deleted\n",
      "D:\\\\Major\\\\Dataset\\\\subset3\\\\base_set\\\\annotations\\\\4676.xml Deleted\n",
      "D:\\\\Major\\\\Dataset\\\\subset3\\\\base_set\\\\annotations\\\\4677.xml Deleted\n",
      "D:\\\\Major\\\\Dataset\\\\subset3\\\\base_set\\\\annotations\\\\4679.xml Deleted\n",
      "D:\\\\Major\\\\Dataset\\\\subset3\\\\base_set\\\\annotations\\\\4680.xml Deleted\n",
      "D:\\\\Major\\\\Dataset\\\\subset3\\\\base_set\\\\annotations\\\\4681.xml Deleted\n",
      "D:\\\\Major\\\\Dataset\\\\subset3\\\\base_set\\\\annotations\\\\4682.xml Deleted\n",
      "D:\\\\Major\\\\Dataset\\\\subset3\\\\base_set\\\\annotations\\\\4698.xml Deleted\n",
      "D:\\\\Major\\\\Dataset\\\\subset3\\\\base_set\\\\annotations\\\\4981.xml Deleted\n",
      "D:\\\\Major\\\\Dataset\\\\subset3\\\\base_set\\\\annotations\\\\4982.xml Deleted\n",
      "D:\\\\Major\\\\Dataset\\\\subset3\\\\base_set\\\\annotations\\\\4983.xml Deleted\n",
      "D:\\\\Major\\\\Dataset\\\\subset3\\\\base_set\\\\annotations\\\\4984.xml Deleted\n",
      "D:\\\\Major\\\\Dataset\\\\subset3\\\\base_set\\\\annotations\\\\4985.xml Deleted\n",
      "D:\\\\Major\\\\Dataset\\\\subset3\\\\base_set\\\\annotations\\\\4986.xml Deleted\n",
      "D:\\\\Major\\\\Dataset\\\\subset3\\\\base_set\\\\annotations\\\\4987.xml Deleted\n",
      "D:\\\\Major\\\\Dataset\\\\subset3\\\\base_set\\\\annotations\\\\5567.xml Deleted\n",
      "D:\\\\Major\\\\Dataset\\\\subset3\\\\base_set\\\\annotations\\\\5568.xml Deleted\n",
      "D:\\\\Major\\\\Dataset\\\\subset3\\\\base_set\\\\annotations\\\\5882.xml Deleted\n",
      "D:\\\\Major\\\\Dataset\\\\subset3\\\\base_set\\\\annotations\\\\5884.xml Deleted\n",
      "D:\\\\Major\\\\Dataset\\\\subset3\\\\base_set\\\\annotations\\\\5887.xml Deleted\n",
      "D:\\\\Major\\\\Dataset\\\\subset3\\\\base_set\\\\annotations\\\\5889.xml Deleted\n",
      "D:\\\\Major\\\\Dataset\\\\subset3\\\\base_set\\\\annotations\\\\5891.xml Deleted\n",
      "D:\\\\Major\\\\Dataset\\\\subset3\\\\base_set\\\\annotations\\\\5894.xml Deleted\n",
      "D:\\\\Major\\\\Dataset\\\\subset3\\\\base_set\\\\annotations\\\\5895.xml Deleted\n",
      "D:\\\\Major\\\\Dataset\\\\subset3\\\\base_set\\\\annotations\\\\5897.xml Deleted\n",
      "D:\\\\Major\\\\Dataset\\\\subset3\\\\base_set\\\\annotations\\\\5901.xml Deleted\n",
      "D:\\\\Major\\\\Dataset\\\\subset3\\\\base_set\\\\annotations\\\\5902.xml Deleted\n",
      "D:\\\\Major\\\\Dataset\\\\subset3\\\\base_set\\\\annotations\\\\5903.xml Deleted\n",
      "D:\\\\Major\\\\Dataset\\\\subset3\\\\base_set\\\\annotations\\\\5904.xml Deleted\n",
      "D:\\\\Major\\\\Dataset\\\\subset3\\\\base_set\\\\annotations\\\\5905.xml Deleted\n",
      "D:\\\\Major\\\\Dataset\\\\subset3\\\\base_set\\\\annotations\\\\5908.xml Deleted\n",
      "D:\\\\Major\\\\Dataset\\\\subset3\\\\base_set\\\\annotations\\\\IMG_20230809_164923.xml Deleted\n",
      "D:\\\\Major\\\\Dataset\\\\subset3\\\\base_set\\\\annotations\\\\IMG_20230809_164923_1.xml Deleted\n",
      "D:\\\\Major\\\\Dataset\\\\subset3\\\\base_set\\\\annotations\\\\IMG_20230809_164924.xml Deleted\n",
      "D:\\\\Major\\\\Dataset\\\\subset3\\\\base_set\\\\annotations\\\\IMG_20230809_164925.xml Deleted\n",
      "D:\\\\Major\\\\Dataset\\\\subset3\\\\base_set\\\\annotations\\\\IMG_20230809_164925_1.xml Deleted\n",
      "D:\\\\Major\\\\Dataset\\\\subset3\\\\base_set\\\\annotations\\\\IMG_20230809_164927.xml Deleted\n",
      "D:\\\\Major\\\\Dataset\\\\subset3\\\\base_set\\\\annotations\\\\IMG_20230809_164927_1.xml Deleted\n",
      "D:\\\\Major\\\\Dataset\\\\subset3\\\\base_set\\\\annotations\\\\IMG_20230809_164927_2.xml Deleted\n",
      "D:\\\\Major\\\\Dataset\\\\subset3\\\\base_set\\\\annotations\\\\IMG_20230809_164928.xml Deleted\n",
      "D:\\\\Major\\\\Dataset\\\\subset3\\\\base_set\\\\annotations\\\\IMG_20230809_164929.xml Deleted\n",
      "D:\\\\Major\\\\Dataset\\\\subset3\\\\base_set\\\\annotations\\\\IMG_20230809_164929_1.xml Deleted\n",
      "D:\\\\Major\\\\Dataset\\\\subset3\\\\base_set\\\\annotations\\\\IMG_20230809_164930.xml Deleted\n",
      "D:\\\\Major\\\\Dataset\\\\subset3\\\\base_set\\\\annotations\\\\IMG_20230809_164930_1.xml Deleted\n",
      "D:\\\\Major\\\\Dataset\\\\subset3\\\\base_set\\\\annotations\\\\IMG_20230809_164931.xml Deleted\n",
      "D:\\\\Major\\\\Dataset\\\\subset3\\\\base_set\\\\annotations\\\\IMG_20230809_164931_1.xml Deleted\n",
      "D:\\\\Major\\\\Dataset\\\\subset3\\\\base_set\\\\annotations\\\\IMG_20230809_164932.xml Deleted\n",
      "D:\\\\Major\\\\Dataset\\\\subset3\\\\base_set\\\\annotations\\\\IMG_20230809_164934.xml Deleted\n",
      "D:\\\\Major\\\\Dataset\\\\subset3\\\\base_set\\\\annotations\\\\IMG_20230809_164935.xml Deleted\n",
      "D:\\\\Major\\\\Dataset\\\\subset3\\\\base_set\\\\annotations\\\\IMG_20230809_164937.xml Deleted\n",
      "D:\\\\Major\\\\Dataset\\\\subset3\\\\base_set\\\\annotations\\\\IMG_20230809_164937_1.xml Deleted\n",
      "D:\\\\Major\\\\Dataset\\\\subset3\\\\base_set\\\\annotations\\\\IMG_20230809_164938.xml Deleted\n",
      "D:\\\\Major\\\\Dataset\\\\subset3\\\\base_set\\\\annotations\\\\IMG_20230809_164938_1.xml Deleted\n",
      "D:\\\\Major\\\\Dataset\\\\subset3\\\\base_set\\\\annotations\\\\IMG_20230809_164940.xml Deleted\n",
      "D:\\\\Major\\\\Dataset\\\\subset3\\\\base_set\\\\annotations\\\\IMG_20230809_164940_1.xml Deleted\n",
      "D:\\\\Major\\\\Dataset\\\\subset3\\\\base_set\\\\annotations\\\\IMG_20230809_164940_2.xml Deleted\n",
      "D:\\\\Major\\\\Dataset\\\\subset3\\\\base_set\\\\annotations\\\\IMG_20230809_164944.xml Deleted\n",
      "D:\\\\Major\\\\Dataset\\\\subset3\\\\base_set\\\\annotations\\\\IMG_20230809_164944_1.xml Deleted\n",
      "D:\\\\Major\\\\Dataset\\\\subset3\\\\base_set\\\\annotations\\\\IMG_20230809_164945.xml Deleted\n",
      "D:\\\\Major\\\\Dataset\\\\subset3\\\\base_set\\\\annotations\\\\IMG_20230809_164946.xml Deleted\n",
      "D:\\\\Major\\\\Dataset\\\\subset3\\\\base_set\\\\annotations\\\\IMG_20230809_164958.xml Deleted\n",
      "D:\\\\Major\\\\Dataset\\\\subset3\\\\base_set\\\\annotations\\\\IMG_20230809_164959.xml Deleted\n",
      "D:\\\\Major\\\\Dataset\\\\subset3\\\\base_set\\\\annotations\\\\IMG_20230809_164959_1.xml Deleted\n",
      "D:\\\\Major\\\\Dataset\\\\subset3\\\\base_set\\\\annotations\\\\IMG_20230809_165000.xml Deleted\n",
      "D:\\\\Major\\\\Dataset\\\\subset3\\\\base_set\\\\annotations\\\\IMG_20230809_165000_1.xml Deleted\n",
      "D:\\\\Major\\\\Dataset\\\\subset3\\\\base_set\\\\annotations\\\\IMG_20230809_165000_2.xml Deleted\n",
      "D:\\\\Major\\\\Dataset\\\\subset3\\\\base_set\\\\annotations\\\\IMG_20230809_165000_3.xml Deleted\n",
      "D:\\\\Major\\\\Dataset\\\\subset3\\\\base_set\\\\annotations\\\\IMG_20230809_165000_4.xml Deleted\n",
      "D:\\\\Major\\\\Dataset\\\\subset3\\\\base_set\\\\annotations\\\\IMG_20230809_165002.xml Deleted\n",
      "D:\\\\Major\\\\Dataset\\\\subset3\\\\base_set\\\\annotations\\\\IMG_20230809_165002_1.xml Deleted\n",
      "D:\\\\Major\\\\Dataset\\\\subset3\\\\base_set\\\\annotations\\\\IMG_20230809_165002_2.xml Deleted\n",
      "D:\\\\Major\\\\Dataset\\\\subset3\\\\base_set\\\\annotations\\\\IMG_20230809_165002_3.xml Deleted\n",
      "D:\\\\Major\\\\Dataset\\\\subset3\\\\base_set\\\\annotations\\\\IMG_20230809_165003.xml Deleted\n",
      "D:\\\\Major\\\\Dataset\\\\subset3\\\\base_set\\\\annotations\\\\IMG_20230809_165004.xml Deleted\n",
      "D:\\\\Major\\\\Dataset\\\\subset3\\\\base_set\\\\annotations\\\\IMG_20230809_165005.xml Deleted\n",
      "D:\\\\Major\\\\Dataset\\\\subset3\\\\base_set\\\\annotations\\\\IMG_20230809_165007.xml Deleted\n",
      "D:\\\\Major\\\\Dataset\\\\subset3\\\\base_set\\\\annotations\\\\IMG_20230809_165007_1.xml Deleted\n",
      "D:\\\\Major\\\\Dataset\\\\subset3\\\\base_set\\\\annotations\\\\IMG_20230809_165007_2.xml Deleted\n",
      "D:\\\\Major\\\\Dataset\\\\subset3\\\\base_set\\\\annotations\\\\IMG_20230809_165008.xml Deleted\n",
      "D:\\\\Major\\\\Dataset\\\\subset3\\\\base_set\\\\annotations\\\\IMG_20230809_165008_1.xml Deleted\n",
      "D:\\\\Major\\\\Dataset\\\\subset3\\\\base_set\\\\annotations\\\\IMG_20230809_165009.xml Deleted\n",
      "D:\\\\Major\\\\Dataset\\\\subset3\\\\base_set\\\\annotations\\\\IMG_20230809_165009_1.xml Deleted\n",
      "D:\\\\Major\\\\Dataset\\\\subset3\\\\base_set\\\\annotations\\\\IMG_20230809_165010.xml Deleted\n",
      "D:\\\\Major\\\\Dataset\\\\subset3\\\\base_set\\\\annotations\\\\IMG_20230809_165020.xml Deleted\n",
      "D:\\\\Major\\\\Dataset\\\\subset3\\\\base_set\\\\annotations\\\\IMG_20230809_165020_1.xml Deleted\n",
      "D:\\\\Major\\\\Dataset\\\\subset3\\\\base_set\\\\annotations\\\\IMG_20230809_165021.xml Deleted\n",
      "D:\\\\Major\\\\Dataset\\\\subset3\\\\base_set\\\\annotations\\\\IMG_20230809_165021_1.xml Deleted\n",
      "D:\\\\Major\\\\Dataset\\\\subset3\\\\base_set\\\\annotations\\\\IMG_20230809_165021_2.xml Deleted\n",
      "D:\\\\Major\\\\Dataset\\\\subset3\\\\base_set\\\\annotations\\\\IMG_20230809_165022.xml Deleted\n",
      "D:\\\\Major\\\\Dataset\\\\subset3\\\\base_set\\\\annotations\\\\IMG_20230809_165022_1.xml Deleted\n",
      "D:\\\\Major\\\\Dataset\\\\subset3\\\\base_set\\\\annotations\\\\IMG_20230809_165023.xml Deleted\n",
      "D:\\\\Major\\\\Dataset\\\\subset3\\\\base_set\\\\annotations\\\\IMG_20230809_165024.xml Deleted\n",
      "D:\\\\Major\\\\Dataset\\\\subset3\\\\base_set\\\\annotations\\\\IMG_20230809_165024_1.xml Deleted\n",
      "D:\\\\Major\\\\Dataset\\\\subset3\\\\base_set\\\\annotations\\\\IMG_20230809_165025.xml Deleted\n",
      "D:\\\\Major\\\\Dataset\\\\subset3\\\\base_set\\\\annotations\\\\IMG_20230809_165026.xml Deleted\n",
      "D:\\\\Major\\\\Dataset\\\\subset3\\\\base_set\\\\annotations\\\\IMG_20230809_165026_1.xml Deleted\n",
      "D:\\\\Major\\\\Dataset\\\\subset3\\\\base_set\\\\annotations\\\\IMG_20230809_165027.xml Deleted\n",
      "D:\\\\Major\\\\Dataset\\\\subset3\\\\base_set\\\\annotations\\\\IMG_20230809_165027_1.xml Deleted\n",
      "D:\\\\Major\\\\Dataset\\\\subset3\\\\base_set\\\\annotations\\\\IMG_20230809_165028.xml Deleted\n",
      "D:\\\\Major\\\\Dataset\\\\subset3\\\\base_set\\\\annotations\\\\IMG_20230809_165028_1.xml Deleted\n",
      "D:\\\\Major\\\\Dataset\\\\subset3\\\\base_set\\\\annotations\\\\IMG_20230809_165032.xml Deleted\n",
      "D:\\\\Major\\\\Dataset\\\\subset3\\\\base_set\\\\annotations\\\\IMG_20230809_165032_1.xml Deleted\n",
      "D:\\\\Major\\\\Dataset\\\\subset3\\\\base_set\\\\annotations\\\\IMG_20230809_165032_2.xml Deleted\n",
      "D:\\\\Major\\\\Dataset\\\\subset3\\\\base_set\\\\annotations\\\\ris (582).xml Deleted\n",
      "D:\\\\Major\\\\Dataset\\\\subset3\\\\base_set\\\\annotations\\\\ris (584).xml Deleted\n",
      "D:\\\\Major\\\\Dataset\\\\subset3\\\\base_set\\\\annotations\\\\ris (585).xml Deleted\n",
      "D:\\\\Major\\\\Dataset\\\\subset3\\\\base_set\\\\annotations\\\\ris (586).xml Deleted\n",
      "D:\\\\Major\\\\Dataset\\\\subset3\\\\base_set\\\\annotations\\\\ris (587).xml Deleted\n",
      "D:\\\\Major\\\\Dataset\\\\subset3\\\\base_set\\\\annotations\\\\ris (588).xml Deleted\n",
      "D:\\\\Major\\\\Dataset\\\\subset3\\\\base_set\\\\annotations\\\\ris (589).xml Deleted\n",
      "D:\\\\Major\\\\Dataset\\\\subset3\\\\base_set\\\\annotations\\\\ris (590).xml Deleted\n",
      "D:\\\\Major\\\\Dataset\\\\subset3\\\\base_set\\\\annotations\\\\ris (591).xml Deleted\n",
      "D:\\\\Major\\\\Dataset\\\\subset3\\\\base_set\\\\annotations\\\\ris (856).xml Deleted\n",
      "D:\\\\Major\\\\Dataset\\\\subset3\\\\base_set\\\\annotations\\\\ris (857).xml Deleted\n",
      "D:\\\\Major\\\\Dataset\\\\subset3\\\\base_set\\\\annotations\\\\ris (951).xml Deleted\n",
      "D:\\\\Major\\\\Dataset\\\\subset3\\\\base_set\\\\annotations\\\\ujj (17).xml Deleted\n",
      "D:\\\\Major\\\\Dataset\\\\subset3\\\\base_set\\\\annotations\\\\ujj (33).xml Deleted\n",
      "D:\\\\Major\\\\Dataset\\\\subset3\\\\base_set\\\\annotations\\\\ujjj (152).xml Deleted\n",
      "D:\\\\Major\\\\Dataset\\\\subset3\\\\base_set\\\\annotations\\\\ujjj (180).xml Deleted\n",
      "D:\\\\Major\\\\Dataset\\\\subset3\\\\base_set\\\\annotations\\\\ujjj (219).xml Deleted\n",
      "D:\\\\Major\\\\Dataset\\\\subset3\\\\base_set\\\\annotations\\\\ujjj (236).xml Deleted\n",
      "D:\\\\Major\\\\Dataset\\\\subset3\\\\base_set\\\\annotations\\\\ujjj (237).xml Deleted\n",
      "D:\\\\Major\\\\Dataset\\\\subset3\\\\base_set\\\\annotations\\\\ujjj (238).xml Deleted\n",
      "D:\\\\Major\\\\Dataset\\\\subset3\\\\base_set\\\\annotations\\\\ujjj (239).xml Deleted\n",
      "D:\\\\Major\\\\Dataset\\\\subset3\\\\base_set\\\\annotations\\\\ujjj (241).xml Deleted\n"
     ]
    }
   ],
   "source": [
    "delete_files(files)"
   ]
  },
  {
   "cell_type": "code",
   "execution_count": 141,
   "id": "f98ac1ca-0ead-4963-9593-f9254c99fa8a",
   "metadata": {},
   "outputs": [
    {
     "name": "stdout",
     "output_type": "stream",
     "text": [
      "[b'D:\\\\\\\\Major\\\\\\\\Dataset\\\\\\\\subset3\\\\\\\\base_set\\\\\\\\images\\\\\\\\2157.jpg', b'D:\\\\\\\\Major\\\\\\\\Dataset\\\\\\\\subset3\\\\\\\\base_set\\\\\\\\images\\\\\\\\2159.jpg', b'D:\\\\\\\\Major\\\\\\\\Dataset\\\\\\\\subset3\\\\\\\\base_set\\\\\\\\images\\\\\\\\2160.jpg', b'D:\\\\\\\\Major\\\\\\\\Dataset\\\\\\\\subset3\\\\\\\\base_set\\\\\\\\images\\\\\\\\2161.jpg', b'D:\\\\\\\\Major\\\\\\\\Dataset\\\\\\\\subset3\\\\\\\\base_set\\\\\\\\images\\\\\\\\2162.jpg', b'D:\\\\\\\\Major\\\\\\\\Dataset\\\\\\\\subset3\\\\\\\\base_set\\\\\\\\images\\\\\\\\2171.jpg', b'D:\\\\\\\\Major\\\\\\\\Dataset\\\\\\\\subset3\\\\\\\\base_set\\\\\\\\images\\\\\\\\2172.jpg', b'D:\\\\\\\\Major\\\\\\\\Dataset\\\\\\\\subset3\\\\\\\\base_set\\\\\\\\images\\\\\\\\2176.jpg', b'D:\\\\\\\\Major\\\\\\\\Dataset\\\\\\\\subset3\\\\\\\\base_set\\\\\\\\images\\\\\\\\2177.jpg', b'D:\\\\\\\\Major\\\\\\\\Dataset\\\\\\\\subset3\\\\\\\\base_set\\\\\\\\images\\\\\\\\2178.jpg', b'D:\\\\\\\\Major\\\\\\\\Dataset\\\\\\\\subset3\\\\\\\\base_set\\\\\\\\images\\\\\\\\2179.jpg', b'D:\\\\\\\\Major\\\\\\\\Dataset\\\\\\\\subset3\\\\\\\\base_set\\\\\\\\images\\\\\\\\2180.jpg', b'D:\\\\\\\\Major\\\\\\\\Dataset\\\\\\\\subset3\\\\\\\\base_set\\\\\\\\images\\\\\\\\2181.jpg', b'D:\\\\\\\\Major\\\\\\\\Dataset\\\\\\\\subset3\\\\\\\\base_set\\\\\\\\images\\\\\\\\2182.jpg', b'D:\\\\\\\\Major\\\\\\\\Dataset\\\\\\\\subset3\\\\\\\\base_set\\\\\\\\images\\\\\\\\2183.jpg', b'D:\\\\\\\\Major\\\\\\\\Dataset\\\\\\\\subset3\\\\\\\\base_set\\\\\\\\images\\\\\\\\2510.jpg', b'D:\\\\\\\\Major\\\\\\\\Dataset\\\\\\\\subset3\\\\\\\\base_set\\\\\\\\images\\\\\\\\2511.jpg', b'D:\\\\\\\\Major\\\\\\\\Dataset\\\\\\\\subset3\\\\\\\\base_set\\\\\\\\images\\\\\\\\2512.jpg', b'D:\\\\\\\\Major\\\\\\\\Dataset\\\\\\\\subset3\\\\\\\\base_set\\\\\\\\images\\\\\\\\2513.jpg', b'D:\\\\\\\\Major\\\\\\\\Dataset\\\\\\\\subset3\\\\\\\\base_set\\\\\\\\images\\\\\\\\2514.jpg', b'D:\\\\\\\\Major\\\\\\\\Dataset\\\\\\\\subset3\\\\\\\\base_set\\\\\\\\images\\\\\\\\2783.jpg', b'D:\\\\\\\\Major\\\\\\\\Dataset\\\\\\\\subset3\\\\\\\\base_set\\\\\\\\images\\\\\\\\2830.jpg', b'D:\\\\\\\\Major\\\\\\\\Dataset\\\\\\\\subset3\\\\\\\\base_set\\\\\\\\images\\\\\\\\4672.jpg', b'D:\\\\\\\\Major\\\\\\\\Dataset\\\\\\\\subset3\\\\\\\\base_set\\\\\\\\images\\\\\\\\4673.jpg', b'D:\\\\\\\\Major\\\\\\\\Dataset\\\\\\\\subset3\\\\\\\\base_set\\\\\\\\images\\\\\\\\4674.jpg', b'D:\\\\\\\\Major\\\\\\\\Dataset\\\\\\\\subset3\\\\\\\\base_set\\\\\\\\images\\\\\\\\4675.jpg', b'D:\\\\\\\\Major\\\\\\\\Dataset\\\\\\\\subset3\\\\\\\\base_set\\\\\\\\images\\\\\\\\4676.jpg', b'D:\\\\\\\\Major\\\\\\\\Dataset\\\\\\\\subset3\\\\\\\\base_set\\\\\\\\images\\\\\\\\4677.jpg', b'D:\\\\\\\\Major\\\\\\\\Dataset\\\\\\\\subset3\\\\\\\\base_set\\\\\\\\images\\\\\\\\4679.jpg', b'D:\\\\\\\\Major\\\\\\\\Dataset\\\\\\\\subset3\\\\\\\\base_set\\\\\\\\images\\\\\\\\4680.jpg', b'D:\\\\\\\\Major\\\\\\\\Dataset\\\\\\\\subset3\\\\\\\\base_set\\\\\\\\images\\\\\\\\4681.jpg', b'D:\\\\\\\\Major\\\\\\\\Dataset\\\\\\\\subset3\\\\\\\\base_set\\\\\\\\images\\\\\\\\4682.jpg', b'D:\\\\\\\\Major\\\\\\\\Dataset\\\\\\\\subset3\\\\\\\\base_set\\\\\\\\images\\\\\\\\4698.jpg', b'D:\\\\\\\\Major\\\\\\\\Dataset\\\\\\\\subset3\\\\\\\\base_set\\\\\\\\images\\\\\\\\4981.jpg', b'D:\\\\\\\\Major\\\\\\\\Dataset\\\\\\\\subset3\\\\\\\\base_set\\\\\\\\images\\\\\\\\4982.jpg', b'D:\\\\\\\\Major\\\\\\\\Dataset\\\\\\\\subset3\\\\\\\\base_set\\\\\\\\images\\\\\\\\4983.jpg', b'D:\\\\\\\\Major\\\\\\\\Dataset\\\\\\\\subset3\\\\\\\\base_set\\\\\\\\images\\\\\\\\4984.jpg', b'D:\\\\\\\\Major\\\\\\\\Dataset\\\\\\\\subset3\\\\\\\\base_set\\\\\\\\images\\\\\\\\4985.jpg', b'D:\\\\\\\\Major\\\\\\\\Dataset\\\\\\\\subset3\\\\\\\\base_set\\\\\\\\images\\\\\\\\4986.jpg', b'D:\\\\\\\\Major\\\\\\\\Dataset\\\\\\\\subset3\\\\\\\\base_set\\\\\\\\images\\\\\\\\4987.jpg', b'D:\\\\\\\\Major\\\\\\\\Dataset\\\\\\\\subset3\\\\\\\\base_set\\\\\\\\images\\\\\\\\5567.jpg', b'D:\\\\\\\\Major\\\\\\\\Dataset\\\\\\\\subset3\\\\\\\\base_set\\\\\\\\images\\\\\\\\5568.jpg', b'D:\\\\\\\\Major\\\\\\\\Dataset\\\\\\\\subset3\\\\\\\\base_set\\\\\\\\images\\\\\\\\5882.jpg', b'D:\\\\\\\\Major\\\\\\\\Dataset\\\\\\\\subset3\\\\\\\\base_set\\\\\\\\images\\\\\\\\5884.jpg', b'D:\\\\\\\\Major\\\\\\\\Dataset\\\\\\\\subset3\\\\\\\\base_set\\\\\\\\images\\\\\\\\5887.jpg', b'D:\\\\\\\\Major\\\\\\\\Dataset\\\\\\\\subset3\\\\\\\\base_set\\\\\\\\images\\\\\\\\5889.jpg', b'D:\\\\\\\\Major\\\\\\\\Dataset\\\\\\\\subset3\\\\\\\\base_set\\\\\\\\images\\\\\\\\5891.jpg', b'D:\\\\\\\\Major\\\\\\\\Dataset\\\\\\\\subset3\\\\\\\\base_set\\\\\\\\images\\\\\\\\5894.jpg', b'D:\\\\\\\\Major\\\\\\\\Dataset\\\\\\\\subset3\\\\\\\\base_set\\\\\\\\images\\\\\\\\5895.jpg', b'D:\\\\\\\\Major\\\\\\\\Dataset\\\\\\\\subset3\\\\\\\\base_set\\\\\\\\images\\\\\\\\5897.jpg', b'D:\\\\\\\\Major\\\\\\\\Dataset\\\\\\\\subset3\\\\\\\\base_set\\\\\\\\images\\\\\\\\5901.jpg', b'D:\\\\\\\\Major\\\\\\\\Dataset\\\\\\\\subset3\\\\\\\\base_set\\\\\\\\images\\\\\\\\5902.jpg', b'D:\\\\\\\\Major\\\\\\\\Dataset\\\\\\\\subset3\\\\\\\\base_set\\\\\\\\images\\\\\\\\5903.jpg', b'D:\\\\\\\\Major\\\\\\\\Dataset\\\\\\\\subset3\\\\\\\\base_set\\\\\\\\images\\\\\\\\5904.jpg', b'D:\\\\\\\\Major\\\\\\\\Dataset\\\\\\\\subset3\\\\\\\\base_set\\\\\\\\images\\\\\\\\5905.jpg', b'D:\\\\\\\\Major\\\\\\\\Dataset\\\\\\\\subset3\\\\\\\\base_set\\\\\\\\images\\\\\\\\5908.jpg', b'D:\\\\\\\\Major\\\\\\\\Dataset\\\\\\\\subset3\\\\\\\\base_set\\\\\\\\images\\\\\\\\IMG_20230809_164923.jpg', b'D:\\\\\\\\Major\\\\\\\\Dataset\\\\\\\\subset3\\\\\\\\base_set\\\\\\\\images\\\\\\\\IMG_20230809_164923_1.jpg', b'D:\\\\\\\\Major\\\\\\\\Dataset\\\\\\\\subset3\\\\\\\\base_set\\\\\\\\images\\\\\\\\IMG_20230809_164924.jpg', b'D:\\\\\\\\Major\\\\\\\\Dataset\\\\\\\\subset3\\\\\\\\base_set\\\\\\\\images\\\\\\\\IMG_20230809_164925.jpg', b'D:\\\\\\\\Major\\\\\\\\Dataset\\\\\\\\subset3\\\\\\\\base_set\\\\\\\\images\\\\\\\\IMG_20230809_164925_1.jpg', b'D:\\\\\\\\Major\\\\\\\\Dataset\\\\\\\\subset3\\\\\\\\base_set\\\\\\\\images\\\\\\\\IMG_20230809_164927.jpg', b'D:\\\\\\\\Major\\\\\\\\Dataset\\\\\\\\subset3\\\\\\\\base_set\\\\\\\\images\\\\\\\\IMG_20230809_164927_1.jpg', b'D:\\\\\\\\Major\\\\\\\\Dataset\\\\\\\\subset3\\\\\\\\base_set\\\\\\\\images\\\\\\\\IMG_20230809_164927_2.jpg', b'D:\\\\\\\\Major\\\\\\\\Dataset\\\\\\\\subset3\\\\\\\\base_set\\\\\\\\images\\\\\\\\IMG_20230809_164928.jpg', b'D:\\\\\\\\Major\\\\\\\\Dataset\\\\\\\\subset3\\\\\\\\base_set\\\\\\\\images\\\\\\\\IMG_20230809_164929.jpg', b'D:\\\\\\\\Major\\\\\\\\Dataset\\\\\\\\subset3\\\\\\\\base_set\\\\\\\\images\\\\\\\\IMG_20230809_164929_1.jpg', b'D:\\\\\\\\Major\\\\\\\\Dataset\\\\\\\\subset3\\\\\\\\base_set\\\\\\\\images\\\\\\\\IMG_20230809_164930.jpg', b'D:\\\\\\\\Major\\\\\\\\Dataset\\\\\\\\subset3\\\\\\\\base_set\\\\\\\\images\\\\\\\\IMG_20230809_164930_1.jpg', b'D:\\\\\\\\Major\\\\\\\\Dataset\\\\\\\\subset3\\\\\\\\base_set\\\\\\\\images\\\\\\\\IMG_20230809_164931.jpg', b'D:\\\\\\\\Major\\\\\\\\Dataset\\\\\\\\subset3\\\\\\\\base_set\\\\\\\\images\\\\\\\\IMG_20230809_164931_1.jpg', b'D:\\\\\\\\Major\\\\\\\\Dataset\\\\\\\\subset3\\\\\\\\base_set\\\\\\\\images\\\\\\\\IMG_20230809_164932.jpg', b'D:\\\\\\\\Major\\\\\\\\Dataset\\\\\\\\subset3\\\\\\\\base_set\\\\\\\\images\\\\\\\\IMG_20230809_164934.jpg', b'D:\\\\\\\\Major\\\\\\\\Dataset\\\\\\\\subset3\\\\\\\\base_set\\\\\\\\images\\\\\\\\IMG_20230809_164935.jpg', b'D:\\\\\\\\Major\\\\\\\\Dataset\\\\\\\\subset3\\\\\\\\base_set\\\\\\\\images\\\\\\\\IMG_20230809_164937.jpg', b'D:\\\\\\\\Major\\\\\\\\Dataset\\\\\\\\subset3\\\\\\\\base_set\\\\\\\\images\\\\\\\\IMG_20230809_164937_1.jpg', b'D:\\\\\\\\Major\\\\\\\\Dataset\\\\\\\\subset3\\\\\\\\base_set\\\\\\\\images\\\\\\\\IMG_20230809_164938.jpg', b'D:\\\\\\\\Major\\\\\\\\Dataset\\\\\\\\subset3\\\\\\\\base_set\\\\\\\\images\\\\\\\\IMG_20230809_164938_1.jpg', b'D:\\\\\\\\Major\\\\\\\\Dataset\\\\\\\\subset3\\\\\\\\base_set\\\\\\\\images\\\\\\\\IMG_20230809_164940.jpg', b'D:\\\\\\\\Major\\\\\\\\Dataset\\\\\\\\subset3\\\\\\\\base_set\\\\\\\\images\\\\\\\\IMG_20230809_164940_1.jpg', b'D:\\\\\\\\Major\\\\\\\\Dataset\\\\\\\\subset3\\\\\\\\base_set\\\\\\\\images\\\\\\\\IMG_20230809_164940_2.jpg', b'D:\\\\\\\\Major\\\\\\\\Dataset\\\\\\\\subset3\\\\\\\\base_set\\\\\\\\images\\\\\\\\IMG_20230809_164944.jpg', b'D:\\\\\\\\Major\\\\\\\\Dataset\\\\\\\\subset3\\\\\\\\base_set\\\\\\\\images\\\\\\\\IMG_20230809_164944_1.jpg', b'D:\\\\\\\\Major\\\\\\\\Dataset\\\\\\\\subset3\\\\\\\\base_set\\\\\\\\images\\\\\\\\IMG_20230809_164945.jpg', b'D:\\\\\\\\Major\\\\\\\\Dataset\\\\\\\\subset3\\\\\\\\base_set\\\\\\\\images\\\\\\\\IMG_20230809_164946.jpg', b'D:\\\\\\\\Major\\\\\\\\Dataset\\\\\\\\subset3\\\\\\\\base_set\\\\\\\\images\\\\\\\\IMG_20230809_164958.jpg', b'D:\\\\\\\\Major\\\\\\\\Dataset\\\\\\\\subset3\\\\\\\\base_set\\\\\\\\images\\\\\\\\IMG_20230809_164959.jpg', b'D:\\\\\\\\Major\\\\\\\\Dataset\\\\\\\\subset3\\\\\\\\base_set\\\\\\\\images\\\\\\\\IMG_20230809_164959_1.jpg', b'D:\\\\\\\\Major\\\\\\\\Dataset\\\\\\\\subset3\\\\\\\\base_set\\\\\\\\images\\\\\\\\IMG_20230809_165000.jpg', b'D:\\\\\\\\Major\\\\\\\\Dataset\\\\\\\\subset3\\\\\\\\base_set\\\\\\\\images\\\\\\\\IMG_20230809_165000_1.jpg', b'D:\\\\\\\\Major\\\\\\\\Dataset\\\\\\\\subset3\\\\\\\\base_set\\\\\\\\images\\\\\\\\IMG_20230809_165000_2.jpg', b'D:\\\\\\\\Major\\\\\\\\Dataset\\\\\\\\subset3\\\\\\\\base_set\\\\\\\\images\\\\\\\\IMG_20230809_165000_3.jpg', b'D:\\\\\\\\Major\\\\\\\\Dataset\\\\\\\\subset3\\\\\\\\base_set\\\\\\\\images\\\\\\\\IMG_20230809_165000_4.jpg', b'D:\\\\\\\\Major\\\\\\\\Dataset\\\\\\\\subset3\\\\\\\\base_set\\\\\\\\images\\\\\\\\IMG_20230809_165002.jpg', b'D:\\\\\\\\Major\\\\\\\\Dataset\\\\\\\\subset3\\\\\\\\base_set\\\\\\\\images\\\\\\\\IMG_20230809_165002_1.jpg', b'D:\\\\\\\\Major\\\\\\\\Dataset\\\\\\\\subset3\\\\\\\\base_set\\\\\\\\images\\\\\\\\IMG_20230809_165002_2.jpg', b'D:\\\\\\\\Major\\\\\\\\Dataset\\\\\\\\subset3\\\\\\\\base_set\\\\\\\\images\\\\\\\\IMG_20230809_165002_3.jpg', b'D:\\\\\\\\Major\\\\\\\\Dataset\\\\\\\\subset3\\\\\\\\base_set\\\\\\\\images\\\\\\\\IMG_20230809_165003.jpg', b'D:\\\\\\\\Major\\\\\\\\Dataset\\\\\\\\subset3\\\\\\\\base_set\\\\\\\\images\\\\\\\\IMG_20230809_165004.jpg', b'D:\\\\\\\\Major\\\\\\\\Dataset\\\\\\\\subset3\\\\\\\\base_set\\\\\\\\images\\\\\\\\IMG_20230809_165005.jpg', b'D:\\\\\\\\Major\\\\\\\\Dataset\\\\\\\\subset3\\\\\\\\base_set\\\\\\\\images\\\\\\\\IMG_20230809_165007.jpg', b'D:\\\\\\\\Major\\\\\\\\Dataset\\\\\\\\subset3\\\\\\\\base_set\\\\\\\\images\\\\\\\\IMG_20230809_165007_1.jpg', b'D:\\\\\\\\Major\\\\\\\\Dataset\\\\\\\\subset3\\\\\\\\base_set\\\\\\\\images\\\\\\\\IMG_20230809_165007_2.jpg', b'D:\\\\\\\\Major\\\\\\\\Dataset\\\\\\\\subset3\\\\\\\\base_set\\\\\\\\images\\\\\\\\IMG_20230809_165008.jpg', b'D:\\\\\\\\Major\\\\\\\\Dataset\\\\\\\\subset3\\\\\\\\base_set\\\\\\\\images\\\\\\\\IMG_20230809_165008_1.jpg', b'D:\\\\\\\\Major\\\\\\\\Dataset\\\\\\\\subset3\\\\\\\\base_set\\\\\\\\images\\\\\\\\IMG_20230809_165009.jpg', b'D:\\\\\\\\Major\\\\\\\\Dataset\\\\\\\\subset3\\\\\\\\base_set\\\\\\\\images\\\\\\\\IMG_20230809_165009_1.jpg', b'D:\\\\\\\\Major\\\\\\\\Dataset\\\\\\\\subset3\\\\\\\\base_set\\\\\\\\images\\\\\\\\IMG_20230809_165010.jpg', b'D:\\\\\\\\Major\\\\\\\\Dataset\\\\\\\\subset3\\\\\\\\base_set\\\\\\\\images\\\\\\\\IMG_20230809_165020.jpg', b'D:\\\\\\\\Major\\\\\\\\Dataset\\\\\\\\subset3\\\\\\\\base_set\\\\\\\\images\\\\\\\\IMG_20230809_165020_1.jpg', b'D:\\\\\\\\Major\\\\\\\\Dataset\\\\\\\\subset3\\\\\\\\base_set\\\\\\\\images\\\\\\\\IMG_20230809_165021.jpg', b'D:\\\\\\\\Major\\\\\\\\Dataset\\\\\\\\subset3\\\\\\\\base_set\\\\\\\\images\\\\\\\\IMG_20230809_165021_1.jpg', b'D:\\\\\\\\Major\\\\\\\\Dataset\\\\\\\\subset3\\\\\\\\base_set\\\\\\\\images\\\\\\\\IMG_20230809_165021_2.jpg', b'D:\\\\\\\\Major\\\\\\\\Dataset\\\\\\\\subset3\\\\\\\\base_set\\\\\\\\images\\\\\\\\IMG_20230809_165022.jpg', b'D:\\\\\\\\Major\\\\\\\\Dataset\\\\\\\\subset3\\\\\\\\base_set\\\\\\\\images\\\\\\\\IMG_20230809_165022_1.jpg', b'D:\\\\\\\\Major\\\\\\\\Dataset\\\\\\\\subset3\\\\\\\\base_set\\\\\\\\images\\\\\\\\IMG_20230809_165023.jpg', b'D:\\\\\\\\Major\\\\\\\\Dataset\\\\\\\\subset3\\\\\\\\base_set\\\\\\\\images\\\\\\\\IMG_20230809_165024.jpg', b'D:\\\\\\\\Major\\\\\\\\Dataset\\\\\\\\subset3\\\\\\\\base_set\\\\\\\\images\\\\\\\\IMG_20230809_165024_1.jpg', b'D:\\\\\\\\Major\\\\\\\\Dataset\\\\\\\\subset3\\\\\\\\base_set\\\\\\\\images\\\\\\\\IMG_20230809_165025.jpg', b'D:\\\\\\\\Major\\\\\\\\Dataset\\\\\\\\subset3\\\\\\\\base_set\\\\\\\\images\\\\\\\\IMG_20230809_165026.jpg', b'D:\\\\\\\\Major\\\\\\\\Dataset\\\\\\\\subset3\\\\\\\\base_set\\\\\\\\images\\\\\\\\IMG_20230809_165026_1.jpg', b'D:\\\\\\\\Major\\\\\\\\Dataset\\\\\\\\subset3\\\\\\\\base_set\\\\\\\\images\\\\\\\\IMG_20230809_165027.jpg', b'D:\\\\\\\\Major\\\\\\\\Dataset\\\\\\\\subset3\\\\\\\\base_set\\\\\\\\images\\\\\\\\IMG_20230809_165027_1.jpg', b'D:\\\\\\\\Major\\\\\\\\Dataset\\\\\\\\subset3\\\\\\\\base_set\\\\\\\\images\\\\\\\\IMG_20230809_165028.jpg', b'D:\\\\\\\\Major\\\\\\\\Dataset\\\\\\\\subset3\\\\\\\\base_set\\\\\\\\images\\\\\\\\IMG_20230809_165028_1.jpg', b'D:\\\\\\\\Major\\\\\\\\Dataset\\\\\\\\subset3\\\\\\\\base_set\\\\\\\\images\\\\\\\\IMG_20230809_165032.jpg', b'D:\\\\\\\\Major\\\\\\\\Dataset\\\\\\\\subset3\\\\\\\\base_set\\\\\\\\images\\\\\\\\IMG_20230809_165032_1.jpg', b'D:\\\\\\\\Major\\\\\\\\Dataset\\\\\\\\subset3\\\\\\\\base_set\\\\\\\\images\\\\\\\\IMG_20230809_165032_2.jpg', b'D:\\\\\\\\Major\\\\\\\\Dataset\\\\\\\\subset3\\\\\\\\base_set\\\\\\\\images\\\\\\\\ris (582).jpg', b'D:\\\\\\\\Major\\\\\\\\Dataset\\\\\\\\subset3\\\\\\\\base_set\\\\\\\\images\\\\\\\\ris (584).jpg', b'D:\\\\\\\\Major\\\\\\\\Dataset\\\\\\\\subset3\\\\\\\\base_set\\\\\\\\images\\\\\\\\ris (585).jpg', b'D:\\\\\\\\Major\\\\\\\\Dataset\\\\\\\\subset3\\\\\\\\base_set\\\\\\\\images\\\\\\\\ris (586).jpg', b'D:\\\\\\\\Major\\\\\\\\Dataset\\\\\\\\subset3\\\\\\\\base_set\\\\\\\\images\\\\\\\\ris (587).jpg', b'D:\\\\\\\\Major\\\\\\\\Dataset\\\\\\\\subset3\\\\\\\\base_set\\\\\\\\images\\\\\\\\ris (588).jpg', b'D:\\\\\\\\Major\\\\\\\\Dataset\\\\\\\\subset3\\\\\\\\base_set\\\\\\\\images\\\\\\\\ris (589).jpg', b'D:\\\\\\\\Major\\\\\\\\Dataset\\\\\\\\subset3\\\\\\\\base_set\\\\\\\\images\\\\\\\\ris (590).jpg', b'D:\\\\\\\\Major\\\\\\\\Dataset\\\\\\\\subset3\\\\\\\\base_set\\\\\\\\images\\\\\\\\ris (591).jpg', b'D:\\\\\\\\Major\\\\\\\\Dataset\\\\\\\\subset3\\\\\\\\base_set\\\\\\\\images\\\\\\\\ris (856).jpg', b'D:\\\\\\\\Major\\\\\\\\Dataset\\\\\\\\subset3\\\\\\\\base_set\\\\\\\\images\\\\\\\\ris (857).jpg', b'D:\\\\\\\\Major\\\\\\\\Dataset\\\\\\\\subset3\\\\\\\\base_set\\\\\\\\images\\\\\\\\ris (951).jpg', b'D:\\\\\\\\Major\\\\\\\\Dataset\\\\\\\\subset3\\\\\\\\base_set\\\\\\\\images\\\\\\\\ujj (17).jpg', b'D:\\\\\\\\Major\\\\\\\\Dataset\\\\\\\\subset3\\\\\\\\base_set\\\\\\\\images\\\\\\\\ujj (33).jpg', b'D:\\\\\\\\Major\\\\\\\\Dataset\\\\\\\\subset3\\\\\\\\base_set\\\\\\\\images\\\\\\\\ujjj (152).jpg', b'D:\\\\\\\\Major\\\\\\\\Dataset\\\\\\\\subset3\\\\\\\\base_set\\\\\\\\images\\\\\\\\ujjj (180).jpg', b'D:\\\\\\\\Major\\\\\\\\Dataset\\\\\\\\subset3\\\\\\\\base_set\\\\\\\\images\\\\\\\\ujjj (219).jpg', b'D:\\\\\\\\Major\\\\\\\\Dataset\\\\\\\\subset3\\\\\\\\base_set\\\\\\\\images\\\\\\\\ujjj (236).jpg', b'D:\\\\\\\\Major\\\\\\\\Dataset\\\\\\\\subset3\\\\\\\\base_set\\\\\\\\images\\\\\\\\ujjj (237).jpg', b'D:\\\\\\\\Major\\\\\\\\Dataset\\\\\\\\subset3\\\\\\\\base_set\\\\\\\\images\\\\\\\\ujjj (238).jpg', b'D:\\\\\\\\Major\\\\\\\\Dataset\\\\\\\\subset3\\\\\\\\base_set\\\\\\\\images\\\\\\\\ujjj (239).jpg', b'D:\\\\\\\\Major\\\\\\\\Dataset\\\\\\\\subset3\\\\\\\\base_set\\\\\\\\images\\\\\\\\ujjj (241).jpg']\n"
     ]
    }
   ],
   "source": [
    "img_file=get_img_from_annot(files,r\"D:\\Major\\Dataset\\subset3\\base_set\\images\")\n",
    "print(img_file)"
   ]
  },
  {
   "cell_type": "code",
   "execution_count": 142,
   "id": "980dc871-ecdc-4b59-b305-18fac4ee6949",
   "metadata": {},
   "outputs": [
    {
     "name": "stdout",
     "output_type": "stream",
     "text": [
      "D:\\\\Major\\\\Dataset\\\\subset3\\\\base_set\\\\images\\\\2157.jpg Deleted\n",
      "D:\\\\Major\\\\Dataset\\\\subset3\\\\base_set\\\\images\\\\2159.jpg Deleted\n",
      "D:\\\\Major\\\\Dataset\\\\subset3\\\\base_set\\\\images\\\\2160.jpg Deleted\n",
      "D:\\\\Major\\\\Dataset\\\\subset3\\\\base_set\\\\images\\\\2161.jpg Deleted\n",
      "D:\\\\Major\\\\Dataset\\\\subset3\\\\base_set\\\\images\\\\2162.jpg Deleted\n",
      "D:\\\\Major\\\\Dataset\\\\subset3\\\\base_set\\\\images\\\\2171.jpg Deleted\n",
      "D:\\\\Major\\\\Dataset\\\\subset3\\\\base_set\\\\images\\\\2172.jpg Deleted\n",
      "D:\\\\Major\\\\Dataset\\\\subset3\\\\base_set\\\\images\\\\2176.jpg Deleted\n",
      "D:\\\\Major\\\\Dataset\\\\subset3\\\\base_set\\\\images\\\\2177.jpg Deleted\n",
      "D:\\\\Major\\\\Dataset\\\\subset3\\\\base_set\\\\images\\\\2178.jpg Deleted\n",
      "D:\\\\Major\\\\Dataset\\\\subset3\\\\base_set\\\\images\\\\2179.jpg Deleted\n",
      "D:\\\\Major\\\\Dataset\\\\subset3\\\\base_set\\\\images\\\\2180.jpg Deleted\n",
      "D:\\\\Major\\\\Dataset\\\\subset3\\\\base_set\\\\images\\\\2181.jpg Deleted\n",
      "D:\\\\Major\\\\Dataset\\\\subset3\\\\base_set\\\\images\\\\2182.jpg Deleted\n",
      "D:\\\\Major\\\\Dataset\\\\subset3\\\\base_set\\\\images\\\\2183.jpg Deleted\n",
      "D:\\\\Major\\\\Dataset\\\\subset3\\\\base_set\\\\images\\\\2510.jpg Deleted\n",
      "D:\\\\Major\\\\Dataset\\\\subset3\\\\base_set\\\\images\\\\2511.jpg Deleted\n",
      "D:\\\\Major\\\\Dataset\\\\subset3\\\\base_set\\\\images\\\\2512.jpg Deleted\n",
      "D:\\\\Major\\\\Dataset\\\\subset3\\\\base_set\\\\images\\\\2513.jpg Deleted\n",
      "D:\\\\Major\\\\Dataset\\\\subset3\\\\base_set\\\\images\\\\2514.jpg Deleted\n",
      "D:\\\\Major\\\\Dataset\\\\subset3\\\\base_set\\\\images\\\\2783.jpg Deleted\n",
      "D:\\\\Major\\\\Dataset\\\\subset3\\\\base_set\\\\images\\\\2830.jpg Deleted\n",
      "D:\\\\Major\\\\Dataset\\\\subset3\\\\base_set\\\\images\\\\4672.jpg Deleted\n",
      "D:\\\\Major\\\\Dataset\\\\subset3\\\\base_set\\\\images\\\\4673.jpg Deleted\n",
      "D:\\\\Major\\\\Dataset\\\\subset3\\\\base_set\\\\images\\\\4674.jpg Deleted\n",
      "D:\\\\Major\\\\Dataset\\\\subset3\\\\base_set\\\\images\\\\4675.jpg Deleted\n",
      "D:\\\\Major\\\\Dataset\\\\subset3\\\\base_set\\\\images\\\\4676.jpg Deleted\n",
      "D:\\\\Major\\\\Dataset\\\\subset3\\\\base_set\\\\images\\\\4677.jpg Deleted\n",
      "D:\\\\Major\\\\Dataset\\\\subset3\\\\base_set\\\\images\\\\4679.jpg Deleted\n",
      "D:\\\\Major\\\\Dataset\\\\subset3\\\\base_set\\\\images\\\\4680.jpg Deleted\n",
      "D:\\\\Major\\\\Dataset\\\\subset3\\\\base_set\\\\images\\\\4681.jpg Deleted\n",
      "D:\\\\Major\\\\Dataset\\\\subset3\\\\base_set\\\\images\\\\4682.jpg Deleted\n",
      "D:\\\\Major\\\\Dataset\\\\subset3\\\\base_set\\\\images\\\\4698.jpg Deleted\n",
      "D:\\\\Major\\\\Dataset\\\\subset3\\\\base_set\\\\images\\\\4981.jpg Deleted\n",
      "D:\\\\Major\\\\Dataset\\\\subset3\\\\base_set\\\\images\\\\4982.jpg Deleted\n",
      "D:\\\\Major\\\\Dataset\\\\subset3\\\\base_set\\\\images\\\\4983.jpg Deleted\n",
      "D:\\\\Major\\\\Dataset\\\\subset3\\\\base_set\\\\images\\\\4984.jpg Deleted\n",
      "D:\\\\Major\\\\Dataset\\\\subset3\\\\base_set\\\\images\\\\4985.jpg Deleted\n",
      "D:\\\\Major\\\\Dataset\\\\subset3\\\\base_set\\\\images\\\\4986.jpg Deleted\n",
      "D:\\\\Major\\\\Dataset\\\\subset3\\\\base_set\\\\images\\\\4987.jpg Deleted\n",
      "D:\\\\Major\\\\Dataset\\\\subset3\\\\base_set\\\\images\\\\5567.jpg Deleted\n",
      "D:\\\\Major\\\\Dataset\\\\subset3\\\\base_set\\\\images\\\\5568.jpg Deleted\n",
      "D:\\\\Major\\\\Dataset\\\\subset3\\\\base_set\\\\images\\\\5882.jpg Deleted\n",
      "D:\\\\Major\\\\Dataset\\\\subset3\\\\base_set\\\\images\\\\5884.jpg Deleted\n",
      "D:\\\\Major\\\\Dataset\\\\subset3\\\\base_set\\\\images\\\\5887.jpg Deleted\n",
      "D:\\\\Major\\\\Dataset\\\\subset3\\\\base_set\\\\images\\\\5889.jpg Deleted\n",
      "D:\\\\Major\\\\Dataset\\\\subset3\\\\base_set\\\\images\\\\5891.jpg Deleted\n",
      "D:\\\\Major\\\\Dataset\\\\subset3\\\\base_set\\\\images\\\\5894.jpg Deleted\n",
      "D:\\\\Major\\\\Dataset\\\\subset3\\\\base_set\\\\images\\\\5895.jpg Deleted\n",
      "D:\\\\Major\\\\Dataset\\\\subset3\\\\base_set\\\\images\\\\5897.jpg Deleted\n",
      "D:\\\\Major\\\\Dataset\\\\subset3\\\\base_set\\\\images\\\\5901.jpg Deleted\n",
      "D:\\\\Major\\\\Dataset\\\\subset3\\\\base_set\\\\images\\\\5902.jpg Deleted\n",
      "D:\\\\Major\\\\Dataset\\\\subset3\\\\base_set\\\\images\\\\5903.jpg Deleted\n",
      "D:\\\\Major\\\\Dataset\\\\subset3\\\\base_set\\\\images\\\\5904.jpg Deleted\n",
      "D:\\\\Major\\\\Dataset\\\\subset3\\\\base_set\\\\images\\\\5905.jpg Deleted\n",
      "D:\\\\Major\\\\Dataset\\\\subset3\\\\base_set\\\\images\\\\5908.jpg Deleted\n",
      "D:\\\\Major\\\\Dataset\\\\subset3\\\\base_set\\\\images\\\\IMG_20230809_164923.jpg Deleted\n",
      "D:\\\\Major\\\\Dataset\\\\subset3\\\\base_set\\\\images\\\\IMG_20230809_164923_1.jpg Deleted\n",
      "D:\\\\Major\\\\Dataset\\\\subset3\\\\base_set\\\\images\\\\IMG_20230809_164924.jpg Deleted\n",
      "D:\\\\Major\\\\Dataset\\\\subset3\\\\base_set\\\\images\\\\IMG_20230809_164925.jpg Deleted\n",
      "D:\\\\Major\\\\Dataset\\\\subset3\\\\base_set\\\\images\\\\IMG_20230809_164925_1.jpg Deleted\n",
      "D:\\\\Major\\\\Dataset\\\\subset3\\\\base_set\\\\images\\\\IMG_20230809_164927.jpg Deleted\n",
      "D:\\\\Major\\\\Dataset\\\\subset3\\\\base_set\\\\images\\\\IMG_20230809_164927_1.jpg Deleted\n",
      "D:\\\\Major\\\\Dataset\\\\subset3\\\\base_set\\\\images\\\\IMG_20230809_164927_2.jpg Deleted\n",
      "D:\\\\Major\\\\Dataset\\\\subset3\\\\base_set\\\\images\\\\IMG_20230809_164928.jpg Deleted\n",
      "D:\\\\Major\\\\Dataset\\\\subset3\\\\base_set\\\\images\\\\IMG_20230809_164929.jpg Deleted\n",
      "D:\\\\Major\\\\Dataset\\\\subset3\\\\base_set\\\\images\\\\IMG_20230809_164929_1.jpg Deleted\n",
      "D:\\\\Major\\\\Dataset\\\\subset3\\\\base_set\\\\images\\\\IMG_20230809_164930.jpg Deleted\n",
      "D:\\\\Major\\\\Dataset\\\\subset3\\\\base_set\\\\images\\\\IMG_20230809_164930_1.jpg Deleted\n",
      "D:\\\\Major\\\\Dataset\\\\subset3\\\\base_set\\\\images\\\\IMG_20230809_164931.jpg Deleted\n",
      "D:\\\\Major\\\\Dataset\\\\subset3\\\\base_set\\\\images\\\\IMG_20230809_164931_1.jpg Deleted\n",
      "D:\\\\Major\\\\Dataset\\\\subset3\\\\base_set\\\\images\\\\IMG_20230809_164932.jpg Deleted\n",
      "D:\\\\Major\\\\Dataset\\\\subset3\\\\base_set\\\\images\\\\IMG_20230809_164934.jpg Deleted\n",
      "D:\\\\Major\\\\Dataset\\\\subset3\\\\base_set\\\\images\\\\IMG_20230809_164935.jpg Deleted\n",
      "D:\\\\Major\\\\Dataset\\\\subset3\\\\base_set\\\\images\\\\IMG_20230809_164937.jpg Deleted\n",
      "D:\\\\Major\\\\Dataset\\\\subset3\\\\base_set\\\\images\\\\IMG_20230809_164937_1.jpg Deleted\n",
      "D:\\\\Major\\\\Dataset\\\\subset3\\\\base_set\\\\images\\\\IMG_20230809_164938.jpg Deleted\n",
      "D:\\\\Major\\\\Dataset\\\\subset3\\\\base_set\\\\images\\\\IMG_20230809_164938_1.jpg Deleted\n",
      "D:\\\\Major\\\\Dataset\\\\subset3\\\\base_set\\\\images\\\\IMG_20230809_164940.jpg Deleted\n",
      "D:\\\\Major\\\\Dataset\\\\subset3\\\\base_set\\\\images\\\\IMG_20230809_164940_1.jpg Deleted\n",
      "D:\\\\Major\\\\Dataset\\\\subset3\\\\base_set\\\\images\\\\IMG_20230809_164940_2.jpg Deleted\n",
      "D:\\\\Major\\\\Dataset\\\\subset3\\\\base_set\\\\images\\\\IMG_20230809_164944.jpg Deleted\n",
      "D:\\\\Major\\\\Dataset\\\\subset3\\\\base_set\\\\images\\\\IMG_20230809_164944_1.jpg Deleted\n",
      "D:\\\\Major\\\\Dataset\\\\subset3\\\\base_set\\\\images\\\\IMG_20230809_164945.jpg Deleted\n",
      "D:\\\\Major\\\\Dataset\\\\subset3\\\\base_set\\\\images\\\\IMG_20230809_164946.jpg Deleted\n",
      "D:\\\\Major\\\\Dataset\\\\subset3\\\\base_set\\\\images\\\\IMG_20230809_164958.jpg Deleted\n",
      "D:\\\\Major\\\\Dataset\\\\subset3\\\\base_set\\\\images\\\\IMG_20230809_164959.jpg Deleted\n",
      "D:\\\\Major\\\\Dataset\\\\subset3\\\\base_set\\\\images\\\\IMG_20230809_164959_1.jpg Deleted\n",
      "D:\\\\Major\\\\Dataset\\\\subset3\\\\base_set\\\\images\\\\IMG_20230809_165000.jpg Deleted\n",
      "D:\\\\Major\\\\Dataset\\\\subset3\\\\base_set\\\\images\\\\IMG_20230809_165000_1.jpg Deleted\n",
      "D:\\\\Major\\\\Dataset\\\\subset3\\\\base_set\\\\images\\\\IMG_20230809_165000_2.jpg Deleted\n",
      "D:\\\\Major\\\\Dataset\\\\subset3\\\\base_set\\\\images\\\\IMG_20230809_165000_3.jpg Deleted\n",
      "D:\\\\Major\\\\Dataset\\\\subset3\\\\base_set\\\\images\\\\IMG_20230809_165000_4.jpg Deleted\n",
      "D:\\\\Major\\\\Dataset\\\\subset3\\\\base_set\\\\images\\\\IMG_20230809_165002.jpg Deleted\n",
      "D:\\\\Major\\\\Dataset\\\\subset3\\\\base_set\\\\images\\\\IMG_20230809_165002_1.jpg Deleted\n",
      "D:\\\\Major\\\\Dataset\\\\subset3\\\\base_set\\\\images\\\\IMG_20230809_165002_2.jpg Deleted\n",
      "D:\\\\Major\\\\Dataset\\\\subset3\\\\base_set\\\\images\\\\IMG_20230809_165002_3.jpg Deleted\n",
      "D:\\\\Major\\\\Dataset\\\\subset3\\\\base_set\\\\images\\\\IMG_20230809_165003.jpg Deleted\n",
      "D:\\\\Major\\\\Dataset\\\\subset3\\\\base_set\\\\images\\\\IMG_20230809_165004.jpg Deleted\n",
      "D:\\\\Major\\\\Dataset\\\\subset3\\\\base_set\\\\images\\\\IMG_20230809_165005.jpg Deleted\n",
      "D:\\\\Major\\\\Dataset\\\\subset3\\\\base_set\\\\images\\\\IMG_20230809_165007.jpg Deleted\n",
      "D:\\\\Major\\\\Dataset\\\\subset3\\\\base_set\\\\images\\\\IMG_20230809_165007_1.jpg Deleted\n",
      "D:\\\\Major\\\\Dataset\\\\subset3\\\\base_set\\\\images\\\\IMG_20230809_165007_2.jpg Deleted\n",
      "D:\\\\Major\\\\Dataset\\\\subset3\\\\base_set\\\\images\\\\IMG_20230809_165008.jpg Deleted\n",
      "D:\\\\Major\\\\Dataset\\\\subset3\\\\base_set\\\\images\\\\IMG_20230809_165008_1.jpg Deleted\n",
      "D:\\\\Major\\\\Dataset\\\\subset3\\\\base_set\\\\images\\\\IMG_20230809_165009.jpg Deleted\n",
      "D:\\\\Major\\\\Dataset\\\\subset3\\\\base_set\\\\images\\\\IMG_20230809_165009_1.jpg Deleted\n",
      "D:\\\\Major\\\\Dataset\\\\subset3\\\\base_set\\\\images\\\\IMG_20230809_165010.jpg Deleted\n",
      "D:\\\\Major\\\\Dataset\\\\subset3\\\\base_set\\\\images\\\\IMG_20230809_165020.jpg Deleted\n",
      "D:\\\\Major\\\\Dataset\\\\subset3\\\\base_set\\\\images\\\\IMG_20230809_165020_1.jpg Deleted\n",
      "D:\\\\Major\\\\Dataset\\\\subset3\\\\base_set\\\\images\\\\IMG_20230809_165021.jpg Deleted\n",
      "D:\\\\Major\\\\Dataset\\\\subset3\\\\base_set\\\\images\\\\IMG_20230809_165021_1.jpg Deleted\n",
      "D:\\\\Major\\\\Dataset\\\\subset3\\\\base_set\\\\images\\\\IMG_20230809_165021_2.jpg Deleted\n",
      "D:\\\\Major\\\\Dataset\\\\subset3\\\\base_set\\\\images\\\\IMG_20230809_165022.jpg Deleted\n",
      "D:\\\\Major\\\\Dataset\\\\subset3\\\\base_set\\\\images\\\\IMG_20230809_165022_1.jpg Deleted\n",
      "D:\\\\Major\\\\Dataset\\\\subset3\\\\base_set\\\\images\\\\IMG_20230809_165023.jpg Deleted\n",
      "D:\\\\Major\\\\Dataset\\\\subset3\\\\base_set\\\\images\\\\IMG_20230809_165024.jpg Deleted\n",
      "D:\\\\Major\\\\Dataset\\\\subset3\\\\base_set\\\\images\\\\IMG_20230809_165024_1.jpg Deleted\n",
      "D:\\\\Major\\\\Dataset\\\\subset3\\\\base_set\\\\images\\\\IMG_20230809_165025.jpg Deleted\n",
      "D:\\\\Major\\\\Dataset\\\\subset3\\\\base_set\\\\images\\\\IMG_20230809_165026.jpg Deleted\n",
      "D:\\\\Major\\\\Dataset\\\\subset3\\\\base_set\\\\images\\\\IMG_20230809_165026_1.jpg Deleted\n",
      "D:\\\\Major\\\\Dataset\\\\subset3\\\\base_set\\\\images\\\\IMG_20230809_165027.jpg Deleted\n",
      "D:\\\\Major\\\\Dataset\\\\subset3\\\\base_set\\\\images\\\\IMG_20230809_165027_1.jpg Deleted\n",
      "D:\\\\Major\\\\Dataset\\\\subset3\\\\base_set\\\\images\\\\IMG_20230809_165028.jpg Deleted\n",
      "D:\\\\Major\\\\Dataset\\\\subset3\\\\base_set\\\\images\\\\IMG_20230809_165028_1.jpg Deleted\n",
      "D:\\\\Major\\\\Dataset\\\\subset3\\\\base_set\\\\images\\\\IMG_20230809_165032.jpg Deleted\n",
      "D:\\\\Major\\\\Dataset\\\\subset3\\\\base_set\\\\images\\\\IMG_20230809_165032_1.jpg Deleted\n",
      "D:\\\\Major\\\\Dataset\\\\subset3\\\\base_set\\\\images\\\\IMG_20230809_165032_2.jpg Deleted\n",
      "D:\\\\Major\\\\Dataset\\\\subset3\\\\base_set\\\\images\\\\ris (582).jpg Deleted\n",
      "D:\\\\Major\\\\Dataset\\\\subset3\\\\base_set\\\\images\\\\ris (584).jpg Deleted\n",
      "D:\\\\Major\\\\Dataset\\\\subset3\\\\base_set\\\\images\\\\ris (585).jpg Deleted\n",
      "D:\\\\Major\\\\Dataset\\\\subset3\\\\base_set\\\\images\\\\ris (586).jpg Deleted\n",
      "D:\\\\Major\\\\Dataset\\\\subset3\\\\base_set\\\\images\\\\ris (587).jpg Deleted\n",
      "D:\\\\Major\\\\Dataset\\\\subset3\\\\base_set\\\\images\\\\ris (588).jpg Deleted\n",
      "D:\\\\Major\\\\Dataset\\\\subset3\\\\base_set\\\\images\\\\ris (589).jpg Deleted\n",
      "D:\\\\Major\\\\Dataset\\\\subset3\\\\base_set\\\\images\\\\ris (590).jpg Deleted\n",
      "D:\\\\Major\\\\Dataset\\\\subset3\\\\base_set\\\\images\\\\ris (591).jpg Deleted\n",
      "D:\\\\Major\\\\Dataset\\\\subset3\\\\base_set\\\\images\\\\ris (856).jpg Deleted\n",
      "D:\\\\Major\\\\Dataset\\\\subset3\\\\base_set\\\\images\\\\ris (857).jpg Deleted\n",
      "D:\\\\Major\\\\Dataset\\\\subset3\\\\base_set\\\\images\\\\ris (951).jpg Deleted\n",
      "D:\\\\Major\\\\Dataset\\\\subset3\\\\base_set\\\\images\\\\ujj (17).jpg Deleted\n",
      "D:\\\\Major\\\\Dataset\\\\subset3\\\\base_set\\\\images\\\\ujj (33).jpg Deleted\n",
      "D:\\\\Major\\\\Dataset\\\\subset3\\\\base_set\\\\images\\\\ujjj (152).jpg Deleted\n",
      "D:\\\\Major\\\\Dataset\\\\subset3\\\\base_set\\\\images\\\\ujjj (180).jpg Deleted\n",
      "D:\\\\Major\\\\Dataset\\\\subset3\\\\base_set\\\\images\\\\ujjj (219).jpg Deleted\n",
      "D:\\\\Major\\\\Dataset\\\\subset3\\\\base_set\\\\images\\\\ujjj (236).jpg Deleted\n",
      "D:\\\\Major\\\\Dataset\\\\subset3\\\\base_set\\\\images\\\\ujjj (237).jpg Deleted\n",
      "D:\\\\Major\\\\Dataset\\\\subset3\\\\base_set\\\\images\\\\ujjj (238).jpg Deleted\n",
      "D:\\\\Major\\\\Dataset\\\\subset3\\\\base_set\\\\images\\\\ujjj (239).jpg Deleted\n",
      "D:\\\\Major\\\\Dataset\\\\subset3\\\\base_set\\\\images\\\\ujjj (241).jpg Deleted\n"
     ]
    }
   ],
   "source": [
    "delete_files(img_file)"
   ]
  },
  {
   "cell_type": "code",
   "execution_count": 28,
   "id": "79c1f0cd",
   "metadata": {},
   "outputs": [],
   "source": [
    "train_xml_files=class_list.get_file(r'D:\\Major\\Dataset\\subset4\\annotations','kedamatha tirtha')"
   ]
  },
  {
   "cell_type": "code",
   "execution_count": 29,
   "id": "fdfaad48-b0e8-49f0-bdbc-a4a57017be71",
   "metadata": {},
   "outputs": [
    {
     "name": "stdout",
     "output_type": "stream",
     "text": [
      "b'D:\\\\\\\\Major\\\\\\\\Dataset\\\\\\\\subset4\\\\\\\\annotations\\\\\\\\1478.xml'\n",
      "b'D:\\\\\\\\Major\\\\\\\\Dataset\\\\\\\\subset4\\\\\\\\annotations\\\\\\\\1500.xml'\n",
      "b'D:\\\\\\\\Major\\\\\\\\Dataset\\\\\\\\subset4\\\\\\\\annotations\\\\\\\\1505.xml'\n",
      "b'D:\\\\\\\\Major\\\\\\\\Dataset\\\\\\\\subset4\\\\\\\\annotations\\\\\\\\1511.xml'\n",
      "b'D:\\\\\\\\Major\\\\\\\\Dataset\\\\\\\\subset4\\\\\\\\annotations\\\\\\\\1515.xml'\n",
      "b'D:\\\\\\\\Major\\\\\\\\Dataset\\\\\\\\subset4\\\\\\\\annotations\\\\\\\\1537.xml'\n",
      "b'D:\\\\\\\\Major\\\\\\\\Dataset\\\\\\\\subset4\\\\\\\\annotations\\\\\\\\1539.xml'\n",
      "b'D:\\\\\\\\Major\\\\\\\\Dataset\\\\\\\\subset4\\\\\\\\annotations\\\\\\\\1540.xml'\n",
      "b'D:\\\\\\\\Major\\\\\\\\Dataset\\\\\\\\subset4\\\\\\\\annotations\\\\\\\\1541.xml'\n",
      "b'D:\\\\\\\\Major\\\\\\\\Dataset\\\\\\\\subset4\\\\\\\\annotations\\\\\\\\1542.xml'\n",
      "b'D:\\\\\\\\Major\\\\\\\\Dataset\\\\\\\\subset4\\\\\\\\annotations\\\\\\\\1543.xml'\n",
      "b'D:\\\\\\\\Major\\\\\\\\Dataset\\\\\\\\subset4\\\\\\\\annotations\\\\\\\\1544.xml'\n",
      "b'D:\\\\\\\\Major\\\\\\\\Dataset\\\\\\\\subset4\\\\\\\\annotations\\\\\\\\8001.xml'\n",
      "b'D:\\\\\\\\Major\\\\\\\\Dataset\\\\\\\\subset4\\\\\\\\annotations\\\\\\\\8004.xml'\n",
      "b'D:\\\\\\\\Major\\\\\\\\Dataset\\\\\\\\subset4\\\\\\\\annotations\\\\\\\\8006.xml'\n",
      "b'D:\\\\\\\\Major\\\\\\\\Dataset\\\\\\\\subset4\\\\\\\\annotations\\\\\\\\8008.xml'\n",
      "b'D:\\\\\\\\Major\\\\\\\\Dataset\\\\\\\\subset4\\\\\\\\annotations\\\\\\\\8009.xml'\n",
      "b'D:\\\\\\\\Major\\\\\\\\Dataset\\\\\\\\subset4\\\\\\\\annotations\\\\\\\\8011.xml'\n",
      "b'D:\\\\\\\\Major\\\\\\\\Dataset\\\\\\\\subset4\\\\\\\\annotations\\\\\\\\8013.xml'\n",
      "b'D:\\\\\\\\Major\\\\\\\\Dataset\\\\\\\\subset4\\\\\\\\annotations\\\\\\\\8015.xml'\n",
      "b'D:\\\\\\\\Major\\\\\\\\Dataset\\\\\\\\subset4\\\\\\\\annotations\\\\\\\\8017.xml'\n",
      "b'D:\\\\\\\\Major\\\\\\\\Dataset\\\\\\\\subset4\\\\\\\\annotations\\\\\\\\8019.xml'\n",
      "b'D:\\\\\\\\Major\\\\\\\\Dataset\\\\\\\\subset4\\\\\\\\annotations\\\\\\\\8021.xml'\n",
      "b'D:\\\\\\\\Major\\\\\\\\Dataset\\\\\\\\subset4\\\\\\\\annotations\\\\\\\\8023.xml'\n",
      "b'D:\\\\\\\\Major\\\\\\\\Dataset\\\\\\\\subset4\\\\\\\\annotations\\\\\\\\8025.xml'\n",
      "b'D:\\\\\\\\Major\\\\\\\\Dataset\\\\\\\\subset4\\\\\\\\annotations\\\\\\\\8027.xml'\n",
      "b'D:\\\\\\\\Major\\\\\\\\Dataset\\\\\\\\subset4\\\\\\\\annotations\\\\\\\\8029.xml'\n",
      "b'D:\\\\\\\\Major\\\\\\\\Dataset\\\\\\\\subset4\\\\\\\\annotations\\\\\\\\8030.xml'\n",
      "b'D:\\\\\\\\Major\\\\\\\\Dataset\\\\\\\\subset4\\\\\\\\annotations\\\\\\\\8032.xml'\n",
      "b'D:\\\\\\\\Major\\\\\\\\Dataset\\\\\\\\subset4\\\\\\\\annotations\\\\\\\\8034.xml'\n",
      "b'D:\\\\\\\\Major\\\\\\\\Dataset\\\\\\\\subset4\\\\\\\\annotations\\\\\\\\8046.xml'\n",
      "b'D:\\\\\\\\Major\\\\\\\\Dataset\\\\\\\\subset4\\\\\\\\annotations\\\\\\\\8047.xml'\n",
      "b'D:\\\\\\\\Major\\\\\\\\Dataset\\\\\\\\subset4\\\\\\\\annotations\\\\\\\\8049.xml'\n",
      "b'D:\\\\\\\\Major\\\\\\\\Dataset\\\\\\\\subset4\\\\\\\\annotations\\\\\\\\8051.xml'\n",
      "b'D:\\\\\\\\Major\\\\\\\\Dataset\\\\\\\\subset4\\\\\\\\annotations\\\\\\\\8053.xml'\n",
      "b'D:\\\\\\\\Major\\\\\\\\Dataset\\\\\\\\subset4\\\\\\\\annotations\\\\\\\\8055.xml'\n",
      "b'D:\\\\\\\\Major\\\\\\\\Dataset\\\\\\\\subset4\\\\\\\\annotations\\\\\\\\8057.xml'\n",
      "b'D:\\\\\\\\Major\\\\\\\\Dataset\\\\\\\\subset4\\\\\\\\annotations\\\\\\\\8059.xml'\n",
      "b'D:\\\\\\\\Major\\\\\\\\Dataset\\\\\\\\subset4\\\\\\\\annotations\\\\\\\\8061.xml'\n",
      "b'D:\\\\\\\\Major\\\\\\\\Dataset\\\\\\\\subset4\\\\\\\\annotations\\\\\\\\8063.xml'\n",
      "b'D:\\\\\\\\Major\\\\\\\\Dataset\\\\\\\\subset4\\\\\\\\annotations\\\\\\\\8065.xml'\n",
      "b'D:\\\\\\\\Major\\\\\\\\Dataset\\\\\\\\subset4\\\\\\\\annotations\\\\\\\\8067.xml'\n",
      "b'D:\\\\\\\\Major\\\\\\\\Dataset\\\\\\\\subset4\\\\\\\\annotations\\\\\\\\8069.xml'\n",
      "b'D:\\\\\\\\Major\\\\\\\\Dataset\\\\\\\\subset4\\\\\\\\annotations\\\\\\\\8071.xml'\n",
      "b'D:\\\\\\\\Major\\\\\\\\Dataset\\\\\\\\subset4\\\\\\\\annotations\\\\\\\\8072.xml'\n",
      "b'D:\\\\\\\\Major\\\\\\\\Dataset\\\\\\\\subset4\\\\\\\\annotations\\\\\\\\8075.xml'\n",
      "b'D:\\\\\\\\Major\\\\\\\\Dataset\\\\\\\\subset4\\\\\\\\annotations\\\\\\\\8095.xml'\n",
      "b'D:\\\\\\\\Major\\\\\\\\Dataset\\\\\\\\subset4\\\\\\\\annotations\\\\\\\\8097.xml'\n",
      "b'D:\\\\\\\\Major\\\\\\\\Dataset\\\\\\\\subset4\\\\\\\\annotations\\\\\\\\8099.xml'\n",
      "b'D:\\\\\\\\Major\\\\\\\\Dataset\\\\\\\\subset4\\\\\\\\annotations\\\\\\\\8101.xml'\n",
      "b'D:\\\\\\\\Major\\\\\\\\Dataset\\\\\\\\subset4\\\\\\\\annotations\\\\\\\\8103.xml'\n",
      "b'D:\\\\\\\\Major\\\\\\\\Dataset\\\\\\\\subset4\\\\\\\\annotations\\\\\\\\8105.xml'\n",
      "b'D:\\\\\\\\Major\\\\\\\\Dataset\\\\\\\\subset4\\\\\\\\annotations\\\\\\\\8107.xml'\n",
      "b'D:\\\\\\\\Major\\\\\\\\Dataset\\\\\\\\subset4\\\\\\\\annotations\\\\\\\\8110.xml'\n",
      "b'D:\\\\\\\\Major\\\\\\\\Dataset\\\\\\\\subset4\\\\\\\\annotations\\\\\\\\8112.xml'\n",
      "b'D:\\\\\\\\Major\\\\\\\\Dataset\\\\\\\\subset4\\\\\\\\annotations\\\\\\\\8114.xml'\n",
      "b'D:\\\\\\\\Major\\\\\\\\Dataset\\\\\\\\subset4\\\\\\\\annotations\\\\\\\\8115.xml'\n",
      "b'D:\\\\\\\\Major\\\\\\\\Dataset\\\\\\\\subset4\\\\\\\\annotations\\\\\\\\8116.xml'\n",
      "b'D:\\\\\\\\Major\\\\\\\\Dataset\\\\\\\\subset4\\\\\\\\annotations\\\\\\\\8117.xml'\n",
      "b'D:\\\\\\\\Major\\\\\\\\Dataset\\\\\\\\subset4\\\\\\\\annotations\\\\\\\\8119.xml'\n",
      "b'D:\\\\\\\\Major\\\\\\\\Dataset\\\\\\\\subset4\\\\\\\\annotations\\\\\\\\8120.xml'\n",
      "b'D:\\\\\\\\Major\\\\\\\\Dataset\\\\\\\\subset4\\\\\\\\annotations\\\\\\\\8122.xml'\n",
      "b'D:\\\\\\\\Major\\\\\\\\Dataset\\\\\\\\subset4\\\\\\\\annotations\\\\\\\\8124.xml'\n",
      "b'D:\\\\\\\\Major\\\\\\\\Dataset\\\\\\\\subset4\\\\\\\\annotations\\\\\\\\8126.xml'\n",
      "b'D:\\\\\\\\Major\\\\\\\\Dataset\\\\\\\\subset4\\\\\\\\annotations\\\\\\\\8128.xml'\n",
      "b'D:\\\\\\\\Major\\\\\\\\Dataset\\\\\\\\subset4\\\\\\\\annotations\\\\\\\\8130.xml'\n",
      "b'D:\\\\\\\\Major\\\\\\\\Dataset\\\\\\\\subset4\\\\\\\\annotations\\\\\\\\8132.xml'\n",
      "b'D:\\\\\\\\Major\\\\\\\\Dataset\\\\\\\\subset4\\\\\\\\annotations\\\\\\\\8134.xml'\n",
      "b'D:\\\\\\\\Major\\\\\\\\Dataset\\\\\\\\subset4\\\\\\\\annotations\\\\\\\\8138.xml'\n",
      "b'D:\\\\\\\\Major\\\\\\\\Dataset\\\\\\\\subset4\\\\\\\\annotations\\\\\\\\8140.xml'\n",
      "b'D:\\\\\\\\Major\\\\\\\\Dataset\\\\\\\\subset4\\\\\\\\annotations\\\\\\\\8142.xml'\n",
      "b'D:\\\\\\\\Major\\\\\\\\Dataset\\\\\\\\subset4\\\\\\\\annotations\\\\\\\\8178.xml'\n",
      "b'D:\\\\\\\\Major\\\\\\\\Dataset\\\\\\\\subset4\\\\\\\\annotations\\\\\\\\8179.xml'\n",
      "b'D:\\\\\\\\Major\\\\\\\\Dataset\\\\\\\\subset4\\\\\\\\annotations\\\\\\\\8181.xml'\n",
      "b'D:\\\\\\\\Major\\\\\\\\Dataset\\\\\\\\subset4\\\\\\\\annotations\\\\\\\\8182.xml'\n",
      "b'D:\\\\\\\\Major\\\\\\\\Dataset\\\\\\\\subset4\\\\\\\\annotations\\\\\\\\8184.xml'\n",
      "b'D:\\\\\\\\Major\\\\\\\\Dataset\\\\\\\\subset4\\\\\\\\annotations\\\\\\\\8188.xml'\n",
      "b'D:\\\\\\\\Major\\\\\\\\Dataset\\\\\\\\subset4\\\\\\\\annotations\\\\\\\\8190.xml'\n",
      "b'D:\\\\\\\\Major\\\\\\\\Dataset\\\\\\\\subset4\\\\\\\\annotations\\\\\\\\8192.xml'\n",
      "b'D:\\\\\\\\Major\\\\\\\\Dataset\\\\\\\\subset4\\\\\\\\annotations\\\\\\\\8194.xml'\n",
      "b'D:\\\\\\\\Major\\\\\\\\Dataset\\\\\\\\subset4\\\\\\\\annotations\\\\\\\\8196.xml'\n",
      "b'D:\\\\\\\\Major\\\\\\\\Dataset\\\\\\\\subset4\\\\\\\\annotations\\\\\\\\8197.xml'\n",
      "b'D:\\\\\\\\Major\\\\\\\\Dataset\\\\\\\\subset4\\\\\\\\annotations\\\\\\\\8340.xml'\n",
      "b'D:\\\\\\\\Major\\\\\\\\Dataset\\\\\\\\subset4\\\\\\\\annotations\\\\\\\\8341.xml'\n",
      "b'D:\\\\\\\\Major\\\\\\\\Dataset\\\\\\\\subset4\\\\\\\\annotations\\\\\\\\8342.xml'\n",
      "b'D:\\\\\\\\Major\\\\\\\\Dataset\\\\\\\\subset4\\\\\\\\annotations\\\\\\\\8343.xml'\n",
      "b'D:\\\\\\\\Major\\\\\\\\Dataset\\\\\\\\subset4\\\\\\\\annotations\\\\\\\\8344.xml'\n",
      "b'D:\\\\\\\\Major\\\\\\\\Dataset\\\\\\\\subset4\\\\\\\\annotations\\\\\\\\8345.xml'\n",
      "b'D:\\\\\\\\Major\\\\\\\\Dataset\\\\\\\\subset4\\\\\\\\annotations\\\\\\\\8346.xml'\n",
      "b'D:\\\\\\\\Major\\\\\\\\Dataset\\\\\\\\subset4\\\\\\\\annotations\\\\\\\\8347.xml'\n",
      "b'D:\\\\\\\\Major\\\\\\\\Dataset\\\\\\\\subset4\\\\\\\\annotations\\\\\\\\8348.xml'\n",
      "b'D:\\\\\\\\Major\\\\\\\\Dataset\\\\\\\\subset4\\\\\\\\annotations\\\\\\\\8349.xml'\n",
      "b'D:\\\\\\\\Major\\\\\\\\Dataset\\\\\\\\subset4\\\\\\\\annotations\\\\\\\\8350.xml'\n",
      "b'D:\\\\\\\\Major\\\\\\\\Dataset\\\\\\\\subset4\\\\\\\\annotations\\\\\\\\8351.xml'\n",
      "b'D:\\\\\\\\Major\\\\\\\\Dataset\\\\\\\\subset4\\\\\\\\annotations\\\\\\\\8352.xml'\n",
      "b'D:\\\\\\\\Major\\\\\\\\Dataset\\\\\\\\subset4\\\\\\\\annotations\\\\\\\\8353.xml'\n",
      "b'D:\\\\\\\\Major\\\\\\\\Dataset\\\\\\\\subset4\\\\\\\\annotations\\\\\\\\8354.xml'\n",
      "b'D:\\\\\\\\Major\\\\\\\\Dataset\\\\\\\\subset4\\\\\\\\annotations\\\\\\\\8358.xml'\n",
      "b'D:\\\\\\\\Major\\\\\\\\Dataset\\\\\\\\subset4\\\\\\\\annotations\\\\\\\\8359.xml'\n",
      "b'D:\\\\\\\\Major\\\\\\\\Dataset\\\\\\\\subset4\\\\\\\\annotations\\\\\\\\8363.xml'\n",
      "b'D:\\\\\\\\Major\\\\\\\\Dataset\\\\\\\\subset4\\\\\\\\annotations\\\\\\\\ris (1361).xml'\n",
      "b'D:\\\\\\\\Major\\\\\\\\Dataset\\\\\\\\subset4\\\\\\\\annotations\\\\\\\\ris (1362).xml'\n",
      "b'D:\\\\\\\\Major\\\\\\\\Dataset\\\\\\\\subset4\\\\\\\\annotations\\\\\\\\ujj (630).xml'\n",
      "b'D:\\\\\\\\Major\\\\\\\\Dataset\\\\\\\\subset4\\\\\\\\annotations\\\\\\\\ujj (633).xml'\n",
      "b'D:\\\\\\\\Major\\\\\\\\Dataset\\\\\\\\subset4\\\\\\\\annotations\\\\\\\\ujj (640).xml'\n",
      "b'D:\\\\\\\\Major\\\\\\\\Dataset\\\\\\\\subset4\\\\\\\\annotations\\\\\\\\ujj (641).xml'\n",
      "b'D:\\\\\\\\Major\\\\\\\\Dataset\\\\\\\\subset4\\\\\\\\annotations\\\\\\\\ujj (642).xml'\n",
      "b'D:\\\\\\\\Major\\\\\\\\Dataset\\\\\\\\subset4\\\\\\\\annotations\\\\\\\\ujj (644).xml'\n",
      "b'D:\\\\\\\\Major\\\\\\\\Dataset\\\\\\\\subset4\\\\\\\\annotations\\\\\\\\ujj (651).xml'\n",
      "b'D:\\\\\\\\Major\\\\\\\\Dataset\\\\\\\\subset4\\\\\\\\annotations\\\\\\\\ujj (667).xml'\n",
      "b'D:\\\\\\\\Major\\\\\\\\Dataset\\\\\\\\subset4\\\\\\\\annotations\\\\\\\\ujj (723).xml'\n",
      "b'D:\\\\\\\\Major\\\\\\\\Dataset\\\\\\\\subset4\\\\\\\\annotations\\\\\\\\ujj (724).xml'\n",
      "b'D:\\\\\\\\Major\\\\\\\\Dataset\\\\\\\\subset4\\\\\\\\annotations\\\\\\\\ujj (746).xml'\n",
      "b'D:\\\\\\\\Major\\\\\\\\Dataset\\\\\\\\subset4\\\\\\\\annotations\\\\\\\\ujj (754).xml'\n",
      "b'D:\\\\\\\\Major\\\\\\\\Dataset\\\\\\\\subset4\\\\\\\\annotations\\\\\\\\ujj (755).xml'\n"
     ]
    }
   ],
   "source": [
    "for file in train_xml_files:\n",
    "    print(file)"
   ]
  },
  {
   "cell_type": "code",
   "execution_count": 30,
   "id": "a214f5ac",
   "metadata": {},
   "outputs": [
    {
     "name": "stdout",
     "output_type": "stream",
     "text": [
      "D:\\\\Major\\\\Dataset\\\\subset4\\\\annotations\\\\1478.xml Deleted\n",
      "D:\\\\Major\\\\Dataset\\\\subset4\\\\annotations\\\\1500.xml Deleted\n",
      "D:\\\\Major\\\\Dataset\\\\subset4\\\\annotations\\\\1505.xml Deleted\n",
      "D:\\\\Major\\\\Dataset\\\\subset4\\\\annotations\\\\1511.xml Deleted\n",
      "D:\\\\Major\\\\Dataset\\\\subset4\\\\annotations\\\\1515.xml Deleted\n",
      "D:\\\\Major\\\\Dataset\\\\subset4\\\\annotations\\\\1537.xml Deleted\n",
      "D:\\\\Major\\\\Dataset\\\\subset4\\\\annotations\\\\1539.xml Deleted\n",
      "D:\\\\Major\\\\Dataset\\\\subset4\\\\annotations\\\\1540.xml Deleted\n",
      "D:\\\\Major\\\\Dataset\\\\subset4\\\\annotations\\\\1541.xml Deleted\n",
      "D:\\\\Major\\\\Dataset\\\\subset4\\\\annotations\\\\1542.xml Deleted\n",
      "D:\\\\Major\\\\Dataset\\\\subset4\\\\annotations\\\\1543.xml Deleted\n",
      "D:\\\\Major\\\\Dataset\\\\subset4\\\\annotations\\\\1544.xml Deleted\n",
      "D:\\\\Major\\\\Dataset\\\\subset4\\\\annotations\\\\8001.xml Deleted\n",
      "D:\\\\Major\\\\Dataset\\\\subset4\\\\annotations\\\\8004.xml Deleted\n",
      "D:\\\\Major\\\\Dataset\\\\subset4\\\\annotations\\\\8006.xml Deleted\n",
      "D:\\\\Major\\\\Dataset\\\\subset4\\\\annotations\\\\8008.xml Deleted\n",
      "D:\\\\Major\\\\Dataset\\\\subset4\\\\annotations\\\\8009.xml Deleted\n",
      "D:\\\\Major\\\\Dataset\\\\subset4\\\\annotations\\\\8011.xml Deleted\n",
      "D:\\\\Major\\\\Dataset\\\\subset4\\\\annotations\\\\8013.xml Deleted\n",
      "D:\\\\Major\\\\Dataset\\\\subset4\\\\annotations\\\\8015.xml Deleted\n",
      "D:\\\\Major\\\\Dataset\\\\subset4\\\\annotations\\\\8017.xml Deleted\n",
      "D:\\\\Major\\\\Dataset\\\\subset4\\\\annotations\\\\8019.xml Deleted\n",
      "D:\\\\Major\\\\Dataset\\\\subset4\\\\annotations\\\\8021.xml Deleted\n",
      "D:\\\\Major\\\\Dataset\\\\subset4\\\\annotations\\\\8023.xml Deleted\n",
      "D:\\\\Major\\\\Dataset\\\\subset4\\\\annotations\\\\8025.xml Deleted\n",
      "D:\\\\Major\\\\Dataset\\\\subset4\\\\annotations\\\\8027.xml Deleted\n",
      "D:\\\\Major\\\\Dataset\\\\subset4\\\\annotations\\\\8029.xml Deleted\n",
      "D:\\\\Major\\\\Dataset\\\\subset4\\\\annotations\\\\8030.xml Deleted\n",
      "D:\\\\Major\\\\Dataset\\\\subset4\\\\annotations\\\\8032.xml Deleted\n",
      "D:\\\\Major\\\\Dataset\\\\subset4\\\\annotations\\\\8034.xml Deleted\n",
      "D:\\\\Major\\\\Dataset\\\\subset4\\\\annotations\\\\8046.xml Deleted\n",
      "D:\\\\Major\\\\Dataset\\\\subset4\\\\annotations\\\\8047.xml Deleted\n",
      "D:\\\\Major\\\\Dataset\\\\subset4\\\\annotations\\\\8049.xml Deleted\n",
      "D:\\\\Major\\\\Dataset\\\\subset4\\\\annotations\\\\8051.xml Deleted\n",
      "D:\\\\Major\\\\Dataset\\\\subset4\\\\annotations\\\\8053.xml Deleted\n",
      "D:\\\\Major\\\\Dataset\\\\subset4\\\\annotations\\\\8055.xml Deleted\n",
      "D:\\\\Major\\\\Dataset\\\\subset4\\\\annotations\\\\8057.xml Deleted\n",
      "D:\\\\Major\\\\Dataset\\\\subset4\\\\annotations\\\\8059.xml Deleted\n",
      "D:\\\\Major\\\\Dataset\\\\subset4\\\\annotations\\\\8061.xml Deleted\n",
      "D:\\\\Major\\\\Dataset\\\\subset4\\\\annotations\\\\8063.xml Deleted\n",
      "D:\\\\Major\\\\Dataset\\\\subset4\\\\annotations\\\\8065.xml Deleted\n",
      "D:\\\\Major\\\\Dataset\\\\subset4\\\\annotations\\\\8067.xml Deleted\n",
      "D:\\\\Major\\\\Dataset\\\\subset4\\\\annotations\\\\8069.xml Deleted\n",
      "D:\\\\Major\\\\Dataset\\\\subset4\\\\annotations\\\\8071.xml Deleted\n",
      "D:\\\\Major\\\\Dataset\\\\subset4\\\\annotations\\\\8072.xml Deleted\n",
      "D:\\\\Major\\\\Dataset\\\\subset4\\\\annotations\\\\8075.xml Deleted\n",
      "D:\\\\Major\\\\Dataset\\\\subset4\\\\annotations\\\\8095.xml Deleted\n",
      "D:\\\\Major\\\\Dataset\\\\subset4\\\\annotations\\\\8097.xml Deleted\n",
      "D:\\\\Major\\\\Dataset\\\\subset4\\\\annotations\\\\8099.xml Deleted\n",
      "D:\\\\Major\\\\Dataset\\\\subset4\\\\annotations\\\\8101.xml Deleted\n",
      "D:\\\\Major\\\\Dataset\\\\subset4\\\\annotations\\\\8103.xml Deleted\n",
      "D:\\\\Major\\\\Dataset\\\\subset4\\\\annotations\\\\8105.xml Deleted\n",
      "D:\\\\Major\\\\Dataset\\\\subset4\\\\annotations\\\\8107.xml Deleted\n",
      "D:\\\\Major\\\\Dataset\\\\subset4\\\\annotations\\\\8110.xml Deleted\n",
      "D:\\\\Major\\\\Dataset\\\\subset4\\\\annotations\\\\8112.xml Deleted\n",
      "D:\\\\Major\\\\Dataset\\\\subset4\\\\annotations\\\\8114.xml Deleted\n",
      "D:\\\\Major\\\\Dataset\\\\subset4\\\\annotations\\\\8115.xml Deleted\n",
      "D:\\\\Major\\\\Dataset\\\\subset4\\\\annotations\\\\8116.xml Deleted\n",
      "D:\\\\Major\\\\Dataset\\\\subset4\\\\annotations\\\\8117.xml Deleted\n",
      "D:\\\\Major\\\\Dataset\\\\subset4\\\\annotations\\\\8119.xml Deleted\n",
      "D:\\\\Major\\\\Dataset\\\\subset4\\\\annotations\\\\8120.xml Deleted\n",
      "D:\\\\Major\\\\Dataset\\\\subset4\\\\annotations\\\\8122.xml Deleted\n",
      "D:\\\\Major\\\\Dataset\\\\subset4\\\\annotations\\\\8124.xml Deleted\n",
      "D:\\\\Major\\\\Dataset\\\\subset4\\\\annotations\\\\8126.xml Deleted\n",
      "D:\\\\Major\\\\Dataset\\\\subset4\\\\annotations\\\\8128.xml Deleted\n",
      "D:\\\\Major\\\\Dataset\\\\subset4\\\\annotations\\\\8130.xml Deleted\n",
      "D:\\\\Major\\\\Dataset\\\\subset4\\\\annotations\\\\8132.xml Deleted\n",
      "D:\\\\Major\\\\Dataset\\\\subset4\\\\annotations\\\\8134.xml Deleted\n",
      "D:\\\\Major\\\\Dataset\\\\subset4\\\\annotations\\\\8138.xml Deleted\n",
      "D:\\\\Major\\\\Dataset\\\\subset4\\\\annotations\\\\8140.xml Deleted\n",
      "D:\\\\Major\\\\Dataset\\\\subset4\\\\annotations\\\\8142.xml Deleted\n",
      "D:\\\\Major\\\\Dataset\\\\subset4\\\\annotations\\\\8178.xml Deleted\n",
      "D:\\\\Major\\\\Dataset\\\\subset4\\\\annotations\\\\8179.xml Deleted\n",
      "D:\\\\Major\\\\Dataset\\\\subset4\\\\annotations\\\\8181.xml Deleted\n",
      "D:\\\\Major\\\\Dataset\\\\subset4\\\\annotations\\\\8182.xml Deleted\n",
      "D:\\\\Major\\\\Dataset\\\\subset4\\\\annotations\\\\8184.xml Deleted\n",
      "D:\\\\Major\\\\Dataset\\\\subset4\\\\annotations\\\\8188.xml Deleted\n",
      "D:\\\\Major\\\\Dataset\\\\subset4\\\\annotations\\\\8190.xml Deleted\n",
      "D:\\\\Major\\\\Dataset\\\\subset4\\\\annotations\\\\8192.xml Deleted\n",
      "D:\\\\Major\\\\Dataset\\\\subset4\\\\annotations\\\\8194.xml Deleted\n",
      "D:\\\\Major\\\\Dataset\\\\subset4\\\\annotations\\\\8196.xml Deleted\n",
      "D:\\\\Major\\\\Dataset\\\\subset4\\\\annotations\\\\8197.xml Deleted\n",
      "D:\\\\Major\\\\Dataset\\\\subset4\\\\annotations\\\\8340.xml Deleted\n",
      "D:\\\\Major\\\\Dataset\\\\subset4\\\\annotations\\\\8341.xml Deleted\n",
      "D:\\\\Major\\\\Dataset\\\\subset4\\\\annotations\\\\8342.xml Deleted\n",
      "D:\\\\Major\\\\Dataset\\\\subset4\\\\annotations\\\\8343.xml Deleted\n",
      "D:\\\\Major\\\\Dataset\\\\subset4\\\\annotations\\\\8344.xml Deleted\n",
      "D:\\\\Major\\\\Dataset\\\\subset4\\\\annotations\\\\8345.xml Deleted\n",
      "D:\\\\Major\\\\Dataset\\\\subset4\\\\annotations\\\\8346.xml Deleted\n",
      "D:\\\\Major\\\\Dataset\\\\subset4\\\\annotations\\\\8347.xml Deleted\n",
      "D:\\\\Major\\\\Dataset\\\\subset4\\\\annotations\\\\8348.xml Deleted\n",
      "D:\\\\Major\\\\Dataset\\\\subset4\\\\annotations\\\\8349.xml Deleted\n",
      "D:\\\\Major\\\\Dataset\\\\subset4\\\\annotations\\\\8350.xml Deleted\n",
      "D:\\\\Major\\\\Dataset\\\\subset4\\\\annotations\\\\8351.xml Deleted\n",
      "D:\\\\Major\\\\Dataset\\\\subset4\\\\annotations\\\\8352.xml Deleted\n",
      "D:\\\\Major\\\\Dataset\\\\subset4\\\\annotations\\\\8353.xml Deleted\n",
      "D:\\\\Major\\\\Dataset\\\\subset4\\\\annotations\\\\8354.xml Deleted\n",
      "D:\\\\Major\\\\Dataset\\\\subset4\\\\annotations\\\\8358.xml Deleted\n",
      "D:\\\\Major\\\\Dataset\\\\subset4\\\\annotations\\\\8359.xml Deleted\n",
      "D:\\\\Major\\\\Dataset\\\\subset4\\\\annotations\\\\8363.xml Deleted\n",
      "D:\\\\Major\\\\Dataset\\\\subset4\\\\annotations\\\\ris (1361).xml Deleted\n",
      "D:\\\\Major\\\\Dataset\\\\subset4\\\\annotations\\\\ris (1362).xml Deleted\n",
      "D:\\\\Major\\\\Dataset\\\\subset4\\\\annotations\\\\ujj (630).xml Deleted\n",
      "D:\\\\Major\\\\Dataset\\\\subset4\\\\annotations\\\\ujj (633).xml Deleted\n",
      "D:\\\\Major\\\\Dataset\\\\subset4\\\\annotations\\\\ujj (640).xml Deleted\n",
      "D:\\\\Major\\\\Dataset\\\\subset4\\\\annotations\\\\ujj (641).xml Deleted\n",
      "D:\\\\Major\\\\Dataset\\\\subset4\\\\annotations\\\\ujj (642).xml Deleted\n",
      "D:\\\\Major\\\\Dataset\\\\subset4\\\\annotations\\\\ujj (644).xml Deleted\n",
      "D:\\\\Major\\\\Dataset\\\\subset4\\\\annotations\\\\ujj (651).xml Deleted\n",
      "D:\\\\Major\\\\Dataset\\\\subset4\\\\annotations\\\\ujj (667).xml Deleted\n",
      "D:\\\\Major\\\\Dataset\\\\subset4\\\\annotations\\\\ujj (723).xml Deleted\n",
      "D:\\\\Major\\\\Dataset\\\\subset4\\\\annotations\\\\ujj (724).xml Deleted\n",
      "D:\\\\Major\\\\Dataset\\\\subset4\\\\annotations\\\\ujj (746).xml Deleted\n",
      "D:\\\\Major\\\\Dataset\\\\subset4\\\\annotations\\\\ujj (754).xml Deleted\n",
      "D:\\\\Major\\\\Dataset\\\\subset4\\\\annotations\\\\ujj (755).xml Deleted\n"
     ]
    }
   ],
   "source": [
    "delete_files(train_xml_files)"
   ]
  },
  {
   "cell_type": "code",
   "execution_count": 31,
   "id": "33e91bc0-5c9c-45f0-809c-c28d53bd99fb",
   "metadata": {},
   "outputs": [
    {
     "name": "stdout",
     "output_type": "stream",
     "text": [
      "[b'D:\\\\\\\\Major\\\\\\\\Dataset\\\\\\\\subset4\\\\\\\\images\\\\\\\\1478.jpg', b'D:\\\\\\\\Major\\\\\\\\Dataset\\\\\\\\subset4\\\\\\\\images\\\\\\\\1500.jpg', b'D:\\\\\\\\Major\\\\\\\\Dataset\\\\\\\\subset4\\\\\\\\images\\\\\\\\1505.jpg', b'D:\\\\\\\\Major\\\\\\\\Dataset\\\\\\\\subset4\\\\\\\\images\\\\\\\\1511.jpg', b'D:\\\\\\\\Major\\\\\\\\Dataset\\\\\\\\subset4\\\\\\\\images\\\\\\\\1515.jpg', b'D:\\\\\\\\Major\\\\\\\\Dataset\\\\\\\\subset4\\\\\\\\images\\\\\\\\1537.jpg', b'D:\\\\\\\\Major\\\\\\\\Dataset\\\\\\\\subset4\\\\\\\\images\\\\\\\\1539.jpg', b'D:\\\\\\\\Major\\\\\\\\Dataset\\\\\\\\subset4\\\\\\\\images\\\\\\\\1540.jpg', b'D:\\\\\\\\Major\\\\\\\\Dataset\\\\\\\\subset4\\\\\\\\images\\\\\\\\1541.jpg', b'D:\\\\\\\\Major\\\\\\\\Dataset\\\\\\\\subset4\\\\\\\\images\\\\\\\\1542.jpg', b'D:\\\\\\\\Major\\\\\\\\Dataset\\\\\\\\subset4\\\\\\\\images\\\\\\\\1543.jpg', b'D:\\\\\\\\Major\\\\\\\\Dataset\\\\\\\\subset4\\\\\\\\images\\\\\\\\1544.jpg', b'D:\\\\\\\\Major\\\\\\\\Dataset\\\\\\\\subset4\\\\\\\\images\\\\\\\\8001.jpg', b'D:\\\\\\\\Major\\\\\\\\Dataset\\\\\\\\subset4\\\\\\\\images\\\\\\\\8004.jpg', b'D:\\\\\\\\Major\\\\\\\\Dataset\\\\\\\\subset4\\\\\\\\images\\\\\\\\8006.jpg', b'D:\\\\\\\\Major\\\\\\\\Dataset\\\\\\\\subset4\\\\\\\\images\\\\\\\\8008.jpg', b'D:\\\\\\\\Major\\\\\\\\Dataset\\\\\\\\subset4\\\\\\\\images\\\\\\\\8009.jpg', b'D:\\\\\\\\Major\\\\\\\\Dataset\\\\\\\\subset4\\\\\\\\images\\\\\\\\8011.jpg', b'D:\\\\\\\\Major\\\\\\\\Dataset\\\\\\\\subset4\\\\\\\\images\\\\\\\\8013.jpg', b'D:\\\\\\\\Major\\\\\\\\Dataset\\\\\\\\subset4\\\\\\\\images\\\\\\\\8015.jpg', b'D:\\\\\\\\Major\\\\\\\\Dataset\\\\\\\\subset4\\\\\\\\images\\\\\\\\8017.jpg', b'D:\\\\\\\\Major\\\\\\\\Dataset\\\\\\\\subset4\\\\\\\\images\\\\\\\\8019.jpg', b'D:\\\\\\\\Major\\\\\\\\Dataset\\\\\\\\subset4\\\\\\\\images\\\\\\\\8021.jpg', b'D:\\\\\\\\Major\\\\\\\\Dataset\\\\\\\\subset4\\\\\\\\images\\\\\\\\8023.jpg', b'D:\\\\\\\\Major\\\\\\\\Dataset\\\\\\\\subset4\\\\\\\\images\\\\\\\\8025.jpg', b'D:\\\\\\\\Major\\\\\\\\Dataset\\\\\\\\subset4\\\\\\\\images\\\\\\\\8027.jpg', b'D:\\\\\\\\Major\\\\\\\\Dataset\\\\\\\\subset4\\\\\\\\images\\\\\\\\8029.jpg', b'D:\\\\\\\\Major\\\\\\\\Dataset\\\\\\\\subset4\\\\\\\\images\\\\\\\\8030.jpg', b'D:\\\\\\\\Major\\\\\\\\Dataset\\\\\\\\subset4\\\\\\\\images\\\\\\\\8032.jpg', b'D:\\\\\\\\Major\\\\\\\\Dataset\\\\\\\\subset4\\\\\\\\images\\\\\\\\8034.jpg', b'D:\\\\\\\\Major\\\\\\\\Dataset\\\\\\\\subset4\\\\\\\\images\\\\\\\\8046.jpg', b'D:\\\\\\\\Major\\\\\\\\Dataset\\\\\\\\subset4\\\\\\\\images\\\\\\\\8047.jpg', b'D:\\\\\\\\Major\\\\\\\\Dataset\\\\\\\\subset4\\\\\\\\images\\\\\\\\8049.jpg', b'D:\\\\\\\\Major\\\\\\\\Dataset\\\\\\\\subset4\\\\\\\\images\\\\\\\\8051.jpg', b'D:\\\\\\\\Major\\\\\\\\Dataset\\\\\\\\subset4\\\\\\\\images\\\\\\\\8053.jpg', b'D:\\\\\\\\Major\\\\\\\\Dataset\\\\\\\\subset4\\\\\\\\images\\\\\\\\8055.jpg', b'D:\\\\\\\\Major\\\\\\\\Dataset\\\\\\\\subset4\\\\\\\\images\\\\\\\\8057.jpg', b'D:\\\\\\\\Major\\\\\\\\Dataset\\\\\\\\subset4\\\\\\\\images\\\\\\\\8059.jpg', b'D:\\\\\\\\Major\\\\\\\\Dataset\\\\\\\\subset4\\\\\\\\images\\\\\\\\8061.jpg', b'D:\\\\\\\\Major\\\\\\\\Dataset\\\\\\\\subset4\\\\\\\\images\\\\\\\\8063.jpg', b'D:\\\\\\\\Major\\\\\\\\Dataset\\\\\\\\subset4\\\\\\\\images\\\\\\\\8065.jpg', b'D:\\\\\\\\Major\\\\\\\\Dataset\\\\\\\\subset4\\\\\\\\images\\\\\\\\8067.jpg', b'D:\\\\\\\\Major\\\\\\\\Dataset\\\\\\\\subset4\\\\\\\\images\\\\\\\\8069.jpg', b'D:\\\\\\\\Major\\\\\\\\Dataset\\\\\\\\subset4\\\\\\\\images\\\\\\\\8071.jpg', b'D:\\\\\\\\Major\\\\\\\\Dataset\\\\\\\\subset4\\\\\\\\images\\\\\\\\8072.jpg', b'D:\\\\\\\\Major\\\\\\\\Dataset\\\\\\\\subset4\\\\\\\\images\\\\\\\\8075.jpg', b'D:\\\\\\\\Major\\\\\\\\Dataset\\\\\\\\subset4\\\\\\\\images\\\\\\\\8095.jpg', b'D:\\\\\\\\Major\\\\\\\\Dataset\\\\\\\\subset4\\\\\\\\images\\\\\\\\8097.jpg', b'D:\\\\\\\\Major\\\\\\\\Dataset\\\\\\\\subset4\\\\\\\\images\\\\\\\\8099.jpg', b'D:\\\\\\\\Major\\\\\\\\Dataset\\\\\\\\subset4\\\\\\\\images\\\\\\\\8101.jpg', b'D:\\\\\\\\Major\\\\\\\\Dataset\\\\\\\\subset4\\\\\\\\images\\\\\\\\8103.jpg', b'D:\\\\\\\\Major\\\\\\\\Dataset\\\\\\\\subset4\\\\\\\\images\\\\\\\\8105.jpg', b'D:\\\\\\\\Major\\\\\\\\Dataset\\\\\\\\subset4\\\\\\\\images\\\\\\\\8107.jpg', b'D:\\\\\\\\Major\\\\\\\\Dataset\\\\\\\\subset4\\\\\\\\images\\\\\\\\8110.jpg', b'D:\\\\\\\\Major\\\\\\\\Dataset\\\\\\\\subset4\\\\\\\\images\\\\\\\\8112.jpg', b'D:\\\\\\\\Major\\\\\\\\Dataset\\\\\\\\subset4\\\\\\\\images\\\\\\\\8114.jpg', b'D:\\\\\\\\Major\\\\\\\\Dataset\\\\\\\\subset4\\\\\\\\images\\\\\\\\8115.jpg', b'D:\\\\\\\\Major\\\\\\\\Dataset\\\\\\\\subset4\\\\\\\\images\\\\\\\\8116.jpg', b'D:\\\\\\\\Major\\\\\\\\Dataset\\\\\\\\subset4\\\\\\\\images\\\\\\\\8117.jpg', b'D:\\\\\\\\Major\\\\\\\\Dataset\\\\\\\\subset4\\\\\\\\images\\\\\\\\8119.jpg', b'D:\\\\\\\\Major\\\\\\\\Dataset\\\\\\\\subset4\\\\\\\\images\\\\\\\\8120.jpg', b'D:\\\\\\\\Major\\\\\\\\Dataset\\\\\\\\subset4\\\\\\\\images\\\\\\\\8122.jpg', b'D:\\\\\\\\Major\\\\\\\\Dataset\\\\\\\\subset4\\\\\\\\images\\\\\\\\8124.jpg', b'D:\\\\\\\\Major\\\\\\\\Dataset\\\\\\\\subset4\\\\\\\\images\\\\\\\\8126.jpg', b'D:\\\\\\\\Major\\\\\\\\Dataset\\\\\\\\subset4\\\\\\\\images\\\\\\\\8128.jpg', b'D:\\\\\\\\Major\\\\\\\\Dataset\\\\\\\\subset4\\\\\\\\images\\\\\\\\8130.jpg', b'D:\\\\\\\\Major\\\\\\\\Dataset\\\\\\\\subset4\\\\\\\\images\\\\\\\\8132.jpg', b'D:\\\\\\\\Major\\\\\\\\Dataset\\\\\\\\subset4\\\\\\\\images\\\\\\\\8134.jpg', b'D:\\\\\\\\Major\\\\\\\\Dataset\\\\\\\\subset4\\\\\\\\images\\\\\\\\8138.jpg', b'D:\\\\\\\\Major\\\\\\\\Dataset\\\\\\\\subset4\\\\\\\\images\\\\\\\\8140.jpg', b'D:\\\\\\\\Major\\\\\\\\Dataset\\\\\\\\subset4\\\\\\\\images\\\\\\\\8142.jpg', b'D:\\\\\\\\Major\\\\\\\\Dataset\\\\\\\\subset4\\\\\\\\images\\\\\\\\8178.jpg', b'D:\\\\\\\\Major\\\\\\\\Dataset\\\\\\\\subset4\\\\\\\\images\\\\\\\\8179.jpg', b'D:\\\\\\\\Major\\\\\\\\Dataset\\\\\\\\subset4\\\\\\\\images\\\\\\\\8181.jpg', b'D:\\\\\\\\Major\\\\\\\\Dataset\\\\\\\\subset4\\\\\\\\images\\\\\\\\8182.jpg', b'D:\\\\\\\\Major\\\\\\\\Dataset\\\\\\\\subset4\\\\\\\\images\\\\\\\\8184.jpg', b'D:\\\\\\\\Major\\\\\\\\Dataset\\\\\\\\subset4\\\\\\\\images\\\\\\\\8188.jpg', b'D:\\\\\\\\Major\\\\\\\\Dataset\\\\\\\\subset4\\\\\\\\images\\\\\\\\8190.jpg', b'D:\\\\\\\\Major\\\\\\\\Dataset\\\\\\\\subset4\\\\\\\\images\\\\\\\\8192.jpg', b'D:\\\\\\\\Major\\\\\\\\Dataset\\\\\\\\subset4\\\\\\\\images\\\\\\\\8194.jpg', b'D:\\\\\\\\Major\\\\\\\\Dataset\\\\\\\\subset4\\\\\\\\images\\\\\\\\8196.jpg', b'D:\\\\\\\\Major\\\\\\\\Dataset\\\\\\\\subset4\\\\\\\\images\\\\\\\\8197.jpg', b'D:\\\\\\\\Major\\\\\\\\Dataset\\\\\\\\subset4\\\\\\\\images\\\\\\\\8340.jpg', b'D:\\\\\\\\Major\\\\\\\\Dataset\\\\\\\\subset4\\\\\\\\images\\\\\\\\8341.jpg', b'D:\\\\\\\\Major\\\\\\\\Dataset\\\\\\\\subset4\\\\\\\\images\\\\\\\\8342.jpg', b'D:\\\\\\\\Major\\\\\\\\Dataset\\\\\\\\subset4\\\\\\\\images\\\\\\\\8343.jpg', b'D:\\\\\\\\Major\\\\\\\\Dataset\\\\\\\\subset4\\\\\\\\images\\\\\\\\8344.jpg', b'D:\\\\\\\\Major\\\\\\\\Dataset\\\\\\\\subset4\\\\\\\\images\\\\\\\\8345.jpg', b'D:\\\\\\\\Major\\\\\\\\Dataset\\\\\\\\subset4\\\\\\\\images\\\\\\\\8346.jpg', b'D:\\\\\\\\Major\\\\\\\\Dataset\\\\\\\\subset4\\\\\\\\images\\\\\\\\8347.jpg', b'D:\\\\\\\\Major\\\\\\\\Dataset\\\\\\\\subset4\\\\\\\\images\\\\\\\\8348.jpg', b'D:\\\\\\\\Major\\\\\\\\Dataset\\\\\\\\subset4\\\\\\\\images\\\\\\\\8349.jpg', b'D:\\\\\\\\Major\\\\\\\\Dataset\\\\\\\\subset4\\\\\\\\images\\\\\\\\8350.jpg', b'D:\\\\\\\\Major\\\\\\\\Dataset\\\\\\\\subset4\\\\\\\\images\\\\\\\\8351.jpg', b'D:\\\\\\\\Major\\\\\\\\Dataset\\\\\\\\subset4\\\\\\\\images\\\\\\\\8352.jpg', b'D:\\\\\\\\Major\\\\\\\\Dataset\\\\\\\\subset4\\\\\\\\images\\\\\\\\8353.jpg', b'D:\\\\\\\\Major\\\\\\\\Dataset\\\\\\\\subset4\\\\\\\\images\\\\\\\\8354.jpg', b'D:\\\\\\\\Major\\\\\\\\Dataset\\\\\\\\subset4\\\\\\\\images\\\\\\\\8358.jpg', b'D:\\\\\\\\Major\\\\\\\\Dataset\\\\\\\\subset4\\\\\\\\images\\\\\\\\8359.jpg', b'D:\\\\\\\\Major\\\\\\\\Dataset\\\\\\\\subset4\\\\\\\\images\\\\\\\\8363.jpg', b'D:\\\\\\\\Major\\\\\\\\Dataset\\\\\\\\subset4\\\\\\\\images\\\\\\\\ris (1361).jpg', b'D:\\\\\\\\Major\\\\\\\\Dataset\\\\\\\\subset4\\\\\\\\images\\\\\\\\ris (1362).jpg', b'D:\\\\\\\\Major\\\\\\\\Dataset\\\\\\\\subset4\\\\\\\\images\\\\\\\\ujj (630).jpg', b'D:\\\\\\\\Major\\\\\\\\Dataset\\\\\\\\subset4\\\\\\\\images\\\\\\\\ujj (633).jpg', b'D:\\\\\\\\Major\\\\\\\\Dataset\\\\\\\\subset4\\\\\\\\images\\\\\\\\ujj (640).jpg', b'D:\\\\\\\\Major\\\\\\\\Dataset\\\\\\\\subset4\\\\\\\\images\\\\\\\\ujj (641).jpg', b'D:\\\\\\\\Major\\\\\\\\Dataset\\\\\\\\subset4\\\\\\\\images\\\\\\\\ujj (642).jpg', b'D:\\\\\\\\Major\\\\\\\\Dataset\\\\\\\\subset4\\\\\\\\images\\\\\\\\ujj (644).jpg', b'D:\\\\\\\\Major\\\\\\\\Dataset\\\\\\\\subset4\\\\\\\\images\\\\\\\\ujj (651).jpg', b'D:\\\\\\\\Major\\\\\\\\Dataset\\\\\\\\subset4\\\\\\\\images\\\\\\\\ujj (667).jpg', b'D:\\\\\\\\Major\\\\\\\\Dataset\\\\\\\\subset4\\\\\\\\images\\\\\\\\ujj (723).jpg', b'D:\\\\\\\\Major\\\\\\\\Dataset\\\\\\\\subset4\\\\\\\\images\\\\\\\\ujj (724).jpg', b'D:\\\\\\\\Major\\\\\\\\Dataset\\\\\\\\subset4\\\\\\\\images\\\\\\\\ujj (746).jpg', b'D:\\\\\\\\Major\\\\\\\\Dataset\\\\\\\\subset4\\\\\\\\images\\\\\\\\ujj (754).jpg', b'D:\\\\\\\\Major\\\\\\\\Dataset\\\\\\\\subset4\\\\\\\\images\\\\\\\\ujj (755).jpg']\n"
     ]
    }
   ],
   "source": [
    "image_file=get_img_from_annot(train_xml_files,r\"D:\\Major\\Dataset\\subset4\\images\")\n",
    "print(image_file)"
   ]
  },
  {
   "cell_type": "code",
   "execution_count": 32,
   "id": "21c08d61-008d-47ef-b13b-51a3c66037f8",
   "metadata": {},
   "outputs": [
    {
     "name": "stdout",
     "output_type": "stream",
     "text": [
      "D:\\\\Major\\\\Dataset\\\\subset4\\\\images\\\\1478.jpg Deleted\n",
      "D:\\\\Major\\\\Dataset\\\\subset4\\\\images\\\\1500.jpg Deleted\n",
      "D:\\\\Major\\\\Dataset\\\\subset4\\\\images\\\\1505.jpg Deleted\n",
      "D:\\\\Major\\\\Dataset\\\\subset4\\\\images\\\\1511.jpg Deleted\n",
      "D:\\\\Major\\\\Dataset\\\\subset4\\\\images\\\\1515.jpg Deleted\n",
      "D:\\\\Major\\\\Dataset\\\\subset4\\\\images\\\\1537.jpg Deleted\n",
      "D:\\\\Major\\\\Dataset\\\\subset4\\\\images\\\\1539.jpg Deleted\n",
      "D:\\\\Major\\\\Dataset\\\\subset4\\\\images\\\\1540.jpg Deleted\n",
      "D:\\\\Major\\\\Dataset\\\\subset4\\\\images\\\\1541.jpg Deleted\n",
      "D:\\\\Major\\\\Dataset\\\\subset4\\\\images\\\\1542.jpg Deleted\n",
      "D:\\\\Major\\\\Dataset\\\\subset4\\\\images\\\\1543.jpg Deleted\n",
      "D:\\\\Major\\\\Dataset\\\\subset4\\\\images\\\\1544.jpg Deleted\n",
      "D:\\\\Major\\\\Dataset\\\\subset4\\\\images\\\\8001.jpg Deleted\n",
      "D:\\\\Major\\\\Dataset\\\\subset4\\\\images\\\\8004.jpg Deleted\n",
      "D:\\\\Major\\\\Dataset\\\\subset4\\\\images\\\\8006.jpg Deleted\n",
      "D:\\\\Major\\\\Dataset\\\\subset4\\\\images\\\\8008.jpg Deleted\n",
      "D:\\\\Major\\\\Dataset\\\\subset4\\\\images\\\\8009.jpg Deleted\n",
      "D:\\\\Major\\\\Dataset\\\\subset4\\\\images\\\\8011.jpg Deleted\n",
      "D:\\\\Major\\\\Dataset\\\\subset4\\\\images\\\\8013.jpg Deleted\n",
      "D:\\\\Major\\\\Dataset\\\\subset4\\\\images\\\\8015.jpg Deleted\n",
      "D:\\\\Major\\\\Dataset\\\\subset4\\\\images\\\\8017.jpg Deleted\n",
      "D:\\\\Major\\\\Dataset\\\\subset4\\\\images\\\\8019.jpg Deleted\n",
      "D:\\\\Major\\\\Dataset\\\\subset4\\\\images\\\\8021.jpg Deleted\n",
      "D:\\\\Major\\\\Dataset\\\\subset4\\\\images\\\\8023.jpg Deleted\n",
      "D:\\\\Major\\\\Dataset\\\\subset4\\\\images\\\\8025.jpg Deleted\n",
      "D:\\\\Major\\\\Dataset\\\\subset4\\\\images\\\\8027.jpg Deleted\n",
      "D:\\\\Major\\\\Dataset\\\\subset4\\\\images\\\\8029.jpg Deleted\n",
      "D:\\\\Major\\\\Dataset\\\\subset4\\\\images\\\\8030.jpg Deleted\n",
      "D:\\\\Major\\\\Dataset\\\\subset4\\\\images\\\\8032.jpg Deleted\n",
      "D:\\\\Major\\\\Dataset\\\\subset4\\\\images\\\\8034.jpg Deleted\n",
      "D:\\\\Major\\\\Dataset\\\\subset4\\\\images\\\\8046.jpg Deleted\n",
      "D:\\\\Major\\\\Dataset\\\\subset4\\\\images\\\\8047.jpg Deleted\n",
      "D:\\\\Major\\\\Dataset\\\\subset4\\\\images\\\\8049.jpg Deleted\n",
      "D:\\\\Major\\\\Dataset\\\\subset4\\\\images\\\\8051.jpg Deleted\n",
      "D:\\\\Major\\\\Dataset\\\\subset4\\\\images\\\\8053.jpg Deleted\n",
      "D:\\\\Major\\\\Dataset\\\\subset4\\\\images\\\\8055.jpg Deleted\n",
      "D:\\\\Major\\\\Dataset\\\\subset4\\\\images\\\\8057.jpg Deleted\n",
      "D:\\\\Major\\\\Dataset\\\\subset4\\\\images\\\\8059.jpg Deleted\n",
      "D:\\\\Major\\\\Dataset\\\\subset4\\\\images\\\\8061.jpg Deleted\n",
      "D:\\\\Major\\\\Dataset\\\\subset4\\\\images\\\\8063.jpg Deleted\n",
      "D:\\\\Major\\\\Dataset\\\\subset4\\\\images\\\\8065.jpg Deleted\n",
      "D:\\\\Major\\\\Dataset\\\\subset4\\\\images\\\\8067.jpg Deleted\n",
      "D:\\\\Major\\\\Dataset\\\\subset4\\\\images\\\\8069.jpg Deleted\n",
      "D:\\\\Major\\\\Dataset\\\\subset4\\\\images\\\\8071.jpg Deleted\n",
      "D:\\\\Major\\\\Dataset\\\\subset4\\\\images\\\\8072.jpg Deleted\n",
      "D:\\\\Major\\\\Dataset\\\\subset4\\\\images\\\\8075.jpg Deleted\n",
      "D:\\\\Major\\\\Dataset\\\\subset4\\\\images\\\\8095.jpg Deleted\n",
      "D:\\\\Major\\\\Dataset\\\\subset4\\\\images\\\\8097.jpg Deleted\n",
      "D:\\\\Major\\\\Dataset\\\\subset4\\\\images\\\\8099.jpg Deleted\n",
      "D:\\\\Major\\\\Dataset\\\\subset4\\\\images\\\\8101.jpg Deleted\n",
      "D:\\\\Major\\\\Dataset\\\\subset4\\\\images\\\\8103.jpg Deleted\n",
      "D:\\\\Major\\\\Dataset\\\\subset4\\\\images\\\\8105.jpg Deleted\n",
      "D:\\\\Major\\\\Dataset\\\\subset4\\\\images\\\\8107.jpg Deleted\n",
      "D:\\\\Major\\\\Dataset\\\\subset4\\\\images\\\\8110.jpg Deleted\n",
      "D:\\\\Major\\\\Dataset\\\\subset4\\\\images\\\\8112.jpg Deleted\n",
      "D:\\\\Major\\\\Dataset\\\\subset4\\\\images\\\\8114.jpg Deleted\n",
      "D:\\\\Major\\\\Dataset\\\\subset4\\\\images\\\\8115.jpg Deleted\n",
      "D:\\\\Major\\\\Dataset\\\\subset4\\\\images\\\\8116.jpg Deleted\n",
      "D:\\\\Major\\\\Dataset\\\\subset4\\\\images\\\\8117.jpg Deleted\n",
      "D:\\\\Major\\\\Dataset\\\\subset4\\\\images\\\\8119.jpg Deleted\n",
      "D:\\\\Major\\\\Dataset\\\\subset4\\\\images\\\\8120.jpg Deleted\n",
      "D:\\\\Major\\\\Dataset\\\\subset4\\\\images\\\\8122.jpg Deleted\n",
      "D:\\\\Major\\\\Dataset\\\\subset4\\\\images\\\\8124.jpg Deleted\n",
      "D:\\\\Major\\\\Dataset\\\\subset4\\\\images\\\\8126.jpg Deleted\n",
      "D:\\\\Major\\\\Dataset\\\\subset4\\\\images\\\\8128.jpg Deleted\n",
      "D:\\\\Major\\\\Dataset\\\\subset4\\\\images\\\\8130.jpg Deleted\n",
      "D:\\\\Major\\\\Dataset\\\\subset4\\\\images\\\\8132.jpg Deleted\n",
      "D:\\\\Major\\\\Dataset\\\\subset4\\\\images\\\\8134.jpg Deleted\n",
      "D:\\\\Major\\\\Dataset\\\\subset4\\\\images\\\\8138.jpg Deleted\n",
      "D:\\\\Major\\\\Dataset\\\\subset4\\\\images\\\\8140.jpg Deleted\n",
      "D:\\\\Major\\\\Dataset\\\\subset4\\\\images\\\\8142.jpg Deleted\n",
      "D:\\\\Major\\\\Dataset\\\\subset4\\\\images\\\\8178.jpg Deleted\n",
      "D:\\\\Major\\\\Dataset\\\\subset4\\\\images\\\\8179.jpg Deleted\n",
      "D:\\\\Major\\\\Dataset\\\\subset4\\\\images\\\\8181.jpg Deleted\n",
      "D:\\\\Major\\\\Dataset\\\\subset4\\\\images\\\\8182.jpg Deleted\n",
      "D:\\\\Major\\\\Dataset\\\\subset4\\\\images\\\\8184.jpg Deleted\n",
      "D:\\\\Major\\\\Dataset\\\\subset4\\\\images\\\\8188.jpg Deleted\n",
      "D:\\\\Major\\\\Dataset\\\\subset4\\\\images\\\\8190.jpg Deleted\n",
      "D:\\\\Major\\\\Dataset\\\\subset4\\\\images\\\\8192.jpg Deleted\n",
      "D:\\\\Major\\\\Dataset\\\\subset4\\\\images\\\\8194.jpg Deleted\n",
      "D:\\\\Major\\\\Dataset\\\\subset4\\\\images\\\\8196.jpg Deleted\n",
      "D:\\\\Major\\\\Dataset\\\\subset4\\\\images\\\\8197.jpg Deleted\n",
      "D:\\\\Major\\\\Dataset\\\\subset4\\\\images\\\\8340.jpg Deleted\n",
      "D:\\\\Major\\\\Dataset\\\\subset4\\\\images\\\\8341.jpg Deleted\n",
      "D:\\\\Major\\\\Dataset\\\\subset4\\\\images\\\\8342.jpg Deleted\n",
      "D:\\\\Major\\\\Dataset\\\\subset4\\\\images\\\\8343.jpg Deleted\n",
      "D:\\\\Major\\\\Dataset\\\\subset4\\\\images\\\\8344.jpg Deleted\n",
      "D:\\\\Major\\\\Dataset\\\\subset4\\\\images\\\\8345.jpg Deleted\n",
      "D:\\\\Major\\\\Dataset\\\\subset4\\\\images\\\\8346.jpg Deleted\n",
      "D:\\\\Major\\\\Dataset\\\\subset4\\\\images\\\\8347.jpg Deleted\n",
      "D:\\\\Major\\\\Dataset\\\\subset4\\\\images\\\\8348.jpg Deleted\n",
      "D:\\\\Major\\\\Dataset\\\\subset4\\\\images\\\\8349.jpg Deleted\n",
      "D:\\\\Major\\\\Dataset\\\\subset4\\\\images\\\\8350.jpg Deleted\n",
      "D:\\\\Major\\\\Dataset\\\\subset4\\\\images\\\\8351.jpg Deleted\n",
      "D:\\\\Major\\\\Dataset\\\\subset4\\\\images\\\\8352.jpg Deleted\n",
      "D:\\\\Major\\\\Dataset\\\\subset4\\\\images\\\\8353.jpg Deleted\n",
      "D:\\\\Major\\\\Dataset\\\\subset4\\\\images\\\\8354.jpg Deleted\n",
      "D:\\\\Major\\\\Dataset\\\\subset4\\\\images\\\\8358.jpg Deleted\n",
      "D:\\\\Major\\\\Dataset\\\\subset4\\\\images\\\\8359.jpg Deleted\n",
      "D:\\\\Major\\\\Dataset\\\\subset4\\\\images\\\\8363.jpg Deleted\n",
      "D:\\\\Major\\\\Dataset\\\\subset4\\\\images\\\\ris (1361).jpg Deleted\n",
      "D:\\\\Major\\\\Dataset\\\\subset4\\\\images\\\\ris (1362).jpg Deleted\n",
      "D:\\\\Major\\\\Dataset\\\\subset4\\\\images\\\\ujj (630).jpg Deleted\n",
      "D:\\\\Major\\\\Dataset\\\\subset4\\\\images\\\\ujj (633).jpg Deleted\n",
      "D:\\\\Major\\\\Dataset\\\\subset4\\\\images\\\\ujj (640).jpg Deleted\n",
      "D:\\\\Major\\\\Dataset\\\\subset4\\\\images\\\\ujj (641).jpg Deleted\n",
      "D:\\\\Major\\\\Dataset\\\\subset4\\\\images\\\\ujj (642).jpg Deleted\n",
      "D:\\\\Major\\\\Dataset\\\\subset4\\\\images\\\\ujj (644).jpg Deleted\n",
      "D:\\\\Major\\\\Dataset\\\\subset4\\\\images\\\\ujj (651).jpg Deleted\n",
      "D:\\\\Major\\\\Dataset\\\\subset4\\\\images\\\\ujj (667).jpg Deleted\n",
      "D:\\\\Major\\\\Dataset\\\\subset4\\\\images\\\\ujj (723).jpg Deleted\n",
      "D:\\\\Major\\\\Dataset\\\\subset4\\\\images\\\\ujj (724).jpg Deleted\n",
      "D:\\\\Major\\\\Dataset\\\\subset4\\\\images\\\\ujj (746).jpg Deleted\n",
      "D:\\\\Major\\\\Dataset\\\\subset4\\\\images\\\\ujj (754).jpg Deleted\n",
      "D:\\\\Major\\\\Dataset\\\\subset4\\\\images\\\\ujj (755).jpg Deleted\n"
     ]
    }
   ],
   "source": [
    "delete_files(image_file)"
   ]
  },
  {
   "cell_type": "code",
   "execution_count": 81,
   "id": "701df149",
   "metadata": {},
   "outputs": [
    {
     "name": "stdout",
     "output_type": "stream",
     "text": [
      "kumaristhan:  537\n",
      "Ghantaghar:  431\n",
      "Yetkha Bahal:  436\n"
     ]
    }
   ],
   "source": [
    "val=class_list.get_classes(r'D:\\Major\\Dataset\\check\\dataset\\train_set\\annotations')\n",
    "for key, value in val.items():\n",
    "    print(f'{key}:  {value}')"
   ]
  },
  {
   "cell_type": "code",
   "execution_count": 175,
   "id": "1a267faf",
   "metadata": {},
   "outputs": [
    {
     "name": "stdout",
     "output_type": "stream",
     "text": [
      "[b'D:\\\\\\\\Major\\\\\\\\Dataset\\\\\\\\subset3\\\\\\\\inc17\\\\\\\\annotations\\\\\\\\ujj (1370).xml', b'D:\\\\\\\\Major\\\\\\\\Dataset\\\\\\\\subset3\\\\\\\\inc17\\\\\\\\annotations\\\\\\\\ujj (1371).xml']\n"
     ]
    }
   ],
   "source": [
    "train_xml_files=class_list.get_file(r'D:\\Major\\Dataset\\subset3\\inc17\\annotations','kala-bhairava')\n",
    "print(train_xml_files)"
   ]
  },
  {
   "cell_type": "code",
   "execution_count": 176,
   "id": "ea7754df-7c58-4f96-b08d-2032e18beee1",
   "metadata": {},
   "outputs": [
    {
     "name": "stdout",
     "output_type": "stream",
     "text": [
      "[b'D:\\\\\\\\Major\\\\\\\\Dataset\\\\\\\\subset3\\\\\\\\inc17\\\\\\\\annotations\\\\\\\\ujj (1370).xml', b'D:\\\\\\\\Major\\\\\\\\Dataset\\\\\\\\subset3\\\\\\\\inc17\\\\\\\\annotations\\\\\\\\ujj (1371).xml']\n"
     ]
    }
   ],
   "source": [
    "print(train_xml_files)"
   ]
  },
  {
   "cell_type": "code",
   "execution_count": 177,
   "id": "52c3dc45",
   "metadata": {},
   "outputs": [
    {
     "name": "stdout",
     "output_type": "stream",
     "text": [
      "D:\\\\Major\\\\Dataset\\\\subset3\\\\inc17\\\\annotations\\\\ujj (1370).xml Deleted\n",
      "D:\\\\Major\\\\Dataset\\\\subset3\\\\inc17\\\\annotations\\\\ujj (1371).xml Deleted\n"
     ]
    }
   ],
   "source": [
    "delete_files(train_xml_files)"
   ]
  },
  {
   "cell_type": "code",
   "execution_count": 178,
   "id": "a131b50b-8c95-42bf-b8c0-1bff1990cf72",
   "metadata": {},
   "outputs": [
    {
     "name": "stdout",
     "output_type": "stream",
     "text": [
      "[b'D:\\\\\\\\Major\\\\\\\\Dataset\\\\\\\\subset3\\\\\\\\inc17\\\\\\\\images\\\\\\\\ujj (1370).jpg', b'D:\\\\\\\\Major\\\\\\\\Dataset\\\\\\\\subset3\\\\\\\\inc17\\\\\\\\images\\\\\\\\ujj (1371).jpg']\n"
     ]
    }
   ],
   "source": [
    "train_image_file=get_img_from_annot(train_xml_files,r\"D:\\Major\\Dataset\\subset3\\inc17\\images\")\n",
    "print(train_image_file)"
   ]
  },
  {
   "cell_type": "code",
   "execution_count": 179,
   "id": "dee201e8-a2c7-47c0-9709-b67e3222cb9f",
   "metadata": {},
   "outputs": [
    {
     "name": "stdout",
     "output_type": "stream",
     "text": [
      "D:\\\\Major\\\\Dataset\\\\subset3\\\\inc17\\\\images\\\\ujj (1370).jpg Deleted\n",
      "D:\\\\Major\\\\Dataset\\\\subset3\\\\inc17\\\\images\\\\ujj (1371).jpg Deleted\n"
     ]
    }
   ],
   "source": [
    "delete_files(train_image_file)"
   ]
  },
  {
   "cell_type": "code",
   "execution_count": 73,
   "id": "0e09dd86",
   "metadata": {},
   "outputs": [
    {
     "name": "stdout",
     "output_type": "stream",
     "text": [
      "[]\n"
     ]
    }
   ],
   "source": [
    "test_xml_files=class_list.get_null_file(r'D:\\Major\\Dataset\\subset3\\base_set\\annotations')\n",
    "print(test_xml_files)"
   ]
  },
  {
   "cell_type": "code",
   "execution_count": 50,
   "id": "53874150",
   "metadata": {},
   "outputs": [],
   "source": [
    "delete_files(test_xml_files)"
   ]
  },
  {
   "cell_type": "code",
   "execution_count": 51,
   "id": "09626724-b6af-4c03-b4ab-987fbe04dc0c",
   "metadata": {},
   "outputs": [
    {
     "name": "stdout",
     "output_type": "stream",
     "text": [
      "[]\n"
     ]
    }
   ],
   "source": [
    "test_image_file=get_img_from_annot(test_xml_files,r\"D:\\Major\\Dataset\\subset2\\inc_16\\test_set\\images\")\n",
    "print(test_image_file)"
   ]
  },
  {
   "cell_type": "code",
   "execution_count": 47,
   "id": "f8e2f52b",
   "metadata": {},
   "outputs": [],
   "source": [
    "delete_files(test_image_file)"
   ]
  },
  {
   "cell_type": "code",
   "execution_count": 103,
   "id": "c6672c3e",
   "metadata": {},
   "outputs": [
    {
     "name": "stdout",
     "output_type": "stream",
     "text": [
      "kumaristhan:  66\n"
     ]
    }
   ],
   "source": [
    "train=class_list.get_classes(r'D:\\Major\\Dataset\\check\\dataset\\test_set\\annotations')\n",
    "for key, value in train.items():\n",
    "    print(f'{key}:  {value}')"
   ]
  },
  {
   "cell_type": "code",
   "execution_count": 76,
   "id": "2c3e766c",
   "metadata": {},
   "outputs": [],
   "source": [
    "test_xml_files=class_list.get_file(r'D:\\Major\\Dataset\\check\\dataset\\test_set\\annotations','Ghantaghar')\n"
   ]
  },
  {
   "cell_type": "code",
   "execution_count": 77,
   "id": "7226f2f6-a648-4497-8148-fcaba1aaaf41",
   "metadata": {},
   "outputs": [
    {
     "name": "stdout",
     "output_type": "stream",
     "text": [
      "[]\n"
     ]
    }
   ],
   "source": [
    "print(test_xml_files)"
   ]
  },
  {
   "cell_type": "code",
   "execution_count": 105,
   "id": "c4879c59",
   "metadata": {},
   "outputs": [
    {
     "name": "stdout",
     "output_type": "stream",
     "text": [
      "[]\n"
     ]
    }
   ],
   "source": [
    "test_null_files=class_list.get_null_file(r'D:\\Major\\Dataset\\check\\dataset\\test_set\\annotations')\n",
    "print(test_null_files)"
   ]
  },
  {
   "cell_type": "code",
   "execution_count": null,
   "id": "9434a867",
   "metadata": {},
   "outputs": [],
   "source": []
  }
 ],
 "metadata": {
  "kernelspec": {
   "display_name": "Python 3 (ipykernel)",
   "language": "python",
   "name": "python3"
  },
  "language_info": {
   "codemirror_mode": {
    "name": "ipython",
    "version": 3
   },
   "file_extension": ".py",
   "mimetype": "text/x-python",
   "name": "python",
   "nbconvert_exporter": "python",
   "pygments_lexer": "ipython3",
   "version": "3.11.4"
  }
 },
 "nbformat": 4,
 "nbformat_minor": 5
}
