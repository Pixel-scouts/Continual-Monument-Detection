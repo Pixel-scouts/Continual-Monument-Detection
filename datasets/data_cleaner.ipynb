{
 "cells": [
  {
   "cell_type": "code",
   "execution_count": 1,
   "id": "236fdad9",
   "metadata": {},
   "outputs": [],
   "source": [
    "import class_list"
   ]
  },
  {
   "cell_type": "code",
   "execution_count": 2,
   "id": "19774a15",
   "metadata": {},
   "outputs": [],
   "source": [
    "import os\n",
    "def delete_files(delete_files):\n",
    "    for file in delete_files:\n",
    "        try:\n",
    "            os.remove(file)\n",
    "            print(f\"{file} Deleted\")\n",
    "        except:\n",
    "            print(f\"{file} Doesn't Exist\")"
   ]
  },
  {
   "cell_type": "code",
   "execution_count": 12,
   "id": "9e9b0afb",
   "metadata": {},
   "outputs": [
    {
     "name": "stdout",
     "output_type": "stream",
     "text": [
      "birupakshya:  116\n",
      "charumati:  148\n",
      "Maitidevi Temple:  122\n",
      "ashok stupa:  138\n",
      "chamunda mai:  119\n",
      "Bhadrakali Temple:  113\n",
      "Lumadhi Bhadrakali Temple Sankata:  140\n",
      "Akash Bhairav:  106\n",
      "Tridevi Temple:  129\n",
      "mahadev temple:  107\n",
      "Sano Pashupati:  108\n",
      "taleju bell_KDS:  118\n",
      "Patan Dhoka:  105\n",
      "Swoyambhunath:  106\n",
      "pratappur temple:  145\n",
      "Jalbinayak:  109\n"
     ]
    }
   ],
   "source": [
    "test=class_list.get_classes(r'E:\\Major Project\\Images\\Resized Images\\IncData\\Inc_set\\test_set\\annotations')\n",
    "for key, value in test.items():\n",
    "    print(f'{key}:  {value}')"
   ]
  },
  {
   "cell_type": "code",
   "execution_count": 10,
   "id": "68d6cee9",
   "metadata": {},
   "outputs": [
    {
     "data": {
      "text/plain": [
       "[]"
      ]
     },
     "execution_count": 10,
     "metadata": {},
     "output_type": "execute_result"
    }
   ],
   "source": [
    "class_list.get_null_file(r'E:\\Major Project\\Images\\Resized Images\\IncData\\Inc_set\\test_set\\annotations')"
   ]
  },
  {
   "cell_type": "code",
   "execution_count": 5,
   "id": "79c1f0cd",
   "metadata": {},
   "outputs": [],
   "source": [
    "class_list.get_file(r'E:\\Major Project\\Images\\Resized Images\\IncData\\Inc_set\\test_set\\annotations','swayambhunath')"
   ]
  },
  {
   "cell_type": "code",
   "execution_count": 6,
   "id": "7b205c2b",
   "metadata": {},
   "outputs": [],
   "source": [
    "files = [r'E:\\Major Project\\Images\\Resized Images\\IncData\\Inc_set\\test_set\\annotations\\IMG_7440_augmented.xml',\n",
    "         r'E:\\Major Project\\Images\\Resized Images\\IncData\\Inc_set\\test_set\\annotations\\IMG20230729170707.xml',\n",
    "         r'E:\\Major Project\\Images\\Resized Images\\IncData\\Inc_set\\test_set\\annotations\\IMG_20230626_132135.xml',\n",
    "         r'E:\\Major Project\\Images\\Resized Images\\IncData\\Inc_set\\test_set\\annotations\\IMG_20230626_132135_1.xml',\n",
    "         r'E:\\Major Project\\Images\\Resized Images\\IncData\\Inc_set\\test_set\\annotations\\IMG_20230626_132135_1_augmented.xml',\n",
    "         r'E:\\Major Project\\Images\\Resized Images\\IncData\\Inc_set\\test_set\\annotations\\IMG_20230626_132136.xml',\n",
    "         r'E:\\Major Project\\Images\\Resized Images\\IncData\\Inc_set\\test_set\\annotations\\IMG20230816133538_augmented.xml',\n",
    "         r'E:\\Major Project\\Images\\Resized Images\\IncData\\Inc_set\\test_set\\annotations\\IMG_20230816_133523_1.xml',\n",
    "         r'E:\\Major Project\\Images\\Resized Images\\IncData\\Inc_set\\test_set\\annotations\\IMG_20230816_133524_augmented.xml',\n",
    "         r'E:\\Major Project\\Images\\Resized Images\\IncData\\Inc_set\\test_set\\annotations\\IMG_20230816_133525_1.xml',\n",
    "         r'E:\\Major Project\\Images\\Resized Images\\IncData\\Inc_set\\test_set\\annotations\\IMG_20230816_133537.xml',\n",
    "         r'E:\\Major Project\\Images\\Resized Images\\IncData\\Inc_set\\test_set\\annotations\\VID_20230809_165744_frame_120_augmented.xml',\n",
    "         r'E:\\Major Project\\Images\\Resized Images\\IncData\\Inc_set\\test_set\\annotations\\VID_20230809_165744_frame_200_augmented.xml',\n",
    "         r'E:\\Major Project\\Images\\Resized Images\\IncData\\Inc_set\\test_set\\annotations\\VID_20230809_165744_frame_205_augmented.xml',\n",
    "         r'E:\\Major Project\\Images\\Resized Images\\IncData\\Inc_set\\test_set\\annotations\\VID_20230809_165744_frame_395_augmented.xml',\n",
    "         r'E:\\Major Project\\Images\\Resized Images\\IncData\\Inc_set\\test_set\\annotations\\VID_20230809_165744_frame_40.xml',\n",
    "         r'E:\\Major Project\\Images\\Resized Images\\IncData\\Inc_set\\test_set\\annotations\\VID_20230809_165744_frame_400.xml',\n",
    "         r'E:\\Major Project\\Images\\Resized Images\\IncData\\Inc_set\\test_set\\images\\IMG_7440_augmented.jpg',\n",
    "         r'E:\\Major Project\\Images\\Resized Images\\IncData\\Inc_set\\test_set\\images\\IMG20230729170707.jpg',\n",
    "         r'E:\\Major Project\\Images\\Resized Images\\IncData\\Inc_set\\test_set\\images\\IMG_20230626_132135.jpg',\n",
    "         r'E:\\Major Project\\Images\\Resized Images\\IncData\\Inc_set\\test_set\\images\\IMG_20230626_132135_1.jpg',\n",
    "         r'E:\\Major Project\\Images\\Resized Images\\IncData\\Inc_set\\test_set\\images\\IMG_20230626_132135_1_augmented.jpg',\n",
    "         r'E:\\Major Project\\Images\\Resized Images\\IncData\\Inc_set\\test_set\\images\\IMG_20230626_132136.jpg',\n",
    "         r'E:\\Major Project\\Images\\Resized Images\\IncData\\Inc_set\\test_set\\images\\IMG20230816133538_augmented.jpg',\n",
    "         r'E:\\Major Project\\Images\\Resized Images\\IncData\\Inc_set\\test_set\\images\\IMG_20230816_133523_1.jpg',\n",
    "         r'E:\\Major Project\\Images\\Resized Images\\IncData\\Inc_set\\test_set\\images\\IMG_20230816_133524_augmented.jpg',\n",
    "         r'E:\\Major Project\\Images\\Resized Images\\IncData\\Inc_set\\test_set\\images\\IMG_20230816_133525_1.jpg',\n",
    "         r'E:\\Major Project\\Images\\Resized Images\\IncData\\Inc_set\\test_set\\images\\IMG_20230816_133537.jpg',\n",
    "         r'E:\\Major Project\\Images\\Resized Images\\IncData\\Inc_set\\test_set\\images\\VID_20230809_165744_frame_120_augmented.jpg',\n",
    "         r'E:\\Major Project\\Images\\Resized Images\\IncData\\Inc_set\\test_set\\images\\VID_20230809_165744_frame_200_augmented.jpg',\n",
    "         r'E:\\Major Project\\Images\\Resized Images\\IncData\\Inc_set\\test_set\\images\\VID_20230809_165744_frame_205_augmented.jpg',\n",
    "         r'E:\\Major Project\\Images\\Resized Images\\IncData\\Inc_set\\test_set\\images\\VID_20230809_165744_frame_395_augmented.jpg',\n",
    "         r'E:\\Major Project\\Images\\Resized Images\\IncData\\Inc_set\\test_set\\images\\VID_20230809_165744_frame_40.jpg',\n",
    "         r'E:\\Major Project\\Images\\Resized Images\\IncData\\Inc_set\\test_set\\images\\VID_20230809_165744_frame_400.jpg',\n",
    "         \n",
    "         r'E:\\Major Project\\Images\\Resized Images\\IncData\\Inc_set\\test_set\\annotations\\VID_20230708_112126_frame_1750_augmented.xml',\n",
    "         r'E:\\Major Project\\Images\\Resized Images\\IncData\\Inc_set\\test_set\\annotations\\VID_20230708_112126_frame_1760_augmented.xml',\n",
    "         r'E:\\Major Project\\Images\\Resized Images\\IncData\\Inc_set\\test_set\\annotations\\VID_20230708_112126_frame_1765_augmented.xml',\n",
    "         r'E:\\Major Project\\Images\\Resized Images\\IncData\\Inc_set\\test_set\\annotations\\VID_20230708_112126_frame_1815_augmented.xml',\n",
    "         r'E:\\Major Project\\Images\\Resized Images\\IncData\\Inc_set\\test_set\\annotations\\VID_20230708_112126_frame_1850_augmented.xml',\n",
    "         r'E:\\Major Project\\Images\\Resized Images\\IncData\\Inc_set\\test_set\\annotations\\VID_20230708_112126_frame_1855_augmented.xml',\n",
    "         r'E:\\Major Project\\Images\\Resized Images\\IncData\\Inc_set\\test_set\\annotations\\VID_20230708_112341_frame_655.xml',\n",
    "         r'E:\\Major Project\\Images\\Resized Images\\IncData\\Inc_set\\test_set\\annotations\\VID_20230708_112341_frame_660_augmented.xml',\n",
    "         r'E:\\Major Project\\Images\\Resized Images\\IncData\\Inc_set\\test_set\\annotations\\VID_20230708_112341_frame_690_augmented.xml',\n",
    "         r'E:\\Major Project\\Images\\Resized Images\\IncData\\Inc_set\\test_set\\annotations\\VID_20230708_112341_frame_700_augmented.xml',\n",
    "         \n",
    "         r'E:\\Major Project\\Images\\Resized Images\\IncData\\Inc_set\\test_set\\images\\VID_20230708_112126_frame_1750_augmented.jpg',\n",
    "         r'E:\\Major Project\\Images\\Resized Images\\IncData\\Inc_set\\test_set\\images\\VID_20230708_112126_frame_1760_augmented.jpg',\n",
    "         r'E:\\Major Project\\Images\\Resized Images\\IncData\\Inc_set\\test_set\\images\\VID_20230708_112126_frame_1765_augmented.jpg',\n",
    "         r'E:\\Major Project\\Images\\Resized Images\\IncData\\Inc_set\\test_set\\images\\VID_20230708_112126_frame_1815_augmented.jpg',\n",
    "         r'E:\\Major Project\\Images\\Resized Images\\IncData\\Inc_set\\test_set\\images\\VID_20230708_112126_frame_1850_augmented.jpg',\n",
    "         r'E:\\Major Project\\Images\\Resized Images\\IncData\\Inc_set\\test_set\\images\\VID_20230708_112126_frame_1855_augmented.jpg',\n",
    "         r'E:\\Major Project\\Images\\Resized Images\\IncData\\Inc_set\\test_set\\images\\VID_20230708_112341_frame_655.jpg',\n",
    "         r'E:\\Major Project\\Images\\Resized Images\\IncData\\Inc_set\\test_set\\images\\VID_20230708_112341_frame_660_augmented.jpg',\n",
    "         r'E:\\Major Project\\Images\\Resized Images\\IncData\\Inc_set\\test_set\\images\\VID_20230708_112341_frame_690_augmented.jpg',\n",
    "         r'E:\\Major Project\\Images\\Resized Images\\IncData\\Inc_set\\test_set\\images\\VID_20230708_112341_frame_700_augmented.jpg',\n",
    "         \n",
    "        ]"
   ]
  },
  {
   "cell_type": "code",
   "execution_count": 7,
   "id": "a214f5ac",
   "metadata": {},
   "outputs": [
    {
     "name": "stdout",
     "output_type": "stream",
     "text": [
      "E:\\Major Project\\Images\\Resized Images\\IncData\\Inc_set\\test_set\\annotations\\IMG_7440_augmented.xml Doesn't Exist\n",
      "E:\\Major Project\\Images\\Resized Images\\IncData\\Inc_set\\test_set\\annotations\\IMG20230729170707.xml Doesn't Exist\n",
      "E:\\Major Project\\Images\\Resized Images\\IncData\\Inc_set\\test_set\\annotations\\IMG_20230626_132135.xml Doesn't Exist\n",
      "E:\\Major Project\\Images\\Resized Images\\IncData\\Inc_set\\test_set\\annotations\\IMG_20230626_132135_1.xml Doesn't Exist\n",
      "E:\\Major Project\\Images\\Resized Images\\IncData\\Inc_set\\test_set\\annotations\\IMG_20230626_132135_1_augmented.xml Doesn't Exist\n",
      "E:\\Major Project\\Images\\Resized Images\\IncData\\Inc_set\\test_set\\annotations\\IMG_20230626_132136.xml Doesn't Exist\n",
      "E:\\Major Project\\Images\\Resized Images\\IncData\\Inc_set\\test_set\\annotations\\IMG20230816133538_augmented.xml Doesn't Exist\n",
      "E:\\Major Project\\Images\\Resized Images\\IncData\\Inc_set\\test_set\\annotations\\IMG_20230816_133523_1.xml Doesn't Exist\n",
      "E:\\Major Project\\Images\\Resized Images\\IncData\\Inc_set\\test_set\\annotations\\IMG_20230816_133524_augmented.xml Doesn't Exist\n",
      "E:\\Major Project\\Images\\Resized Images\\IncData\\Inc_set\\test_set\\annotations\\IMG_20230816_133525_1.xml Doesn't Exist\n",
      "E:\\Major Project\\Images\\Resized Images\\IncData\\Inc_set\\test_set\\annotations\\IMG_20230816_133537.xml Doesn't Exist\n",
      "E:\\Major Project\\Images\\Resized Images\\IncData\\Inc_set\\test_set\\annotations\\VID_20230809_165744_frame_120_augmented.xml Doesn't Exist\n",
      "E:\\Major Project\\Images\\Resized Images\\IncData\\Inc_set\\test_set\\annotations\\VID_20230809_165744_frame_200_augmented.xml Doesn't Exist\n",
      "E:\\Major Project\\Images\\Resized Images\\IncData\\Inc_set\\test_set\\annotations\\VID_20230809_165744_frame_205_augmented.xml Doesn't Exist\n",
      "E:\\Major Project\\Images\\Resized Images\\IncData\\Inc_set\\test_set\\annotations\\VID_20230809_165744_frame_395_augmented.xml Doesn't Exist\n",
      "E:\\Major Project\\Images\\Resized Images\\IncData\\Inc_set\\test_set\\annotations\\VID_20230809_165744_frame_40.xml Doesn't Exist\n",
      "E:\\Major Project\\Images\\Resized Images\\IncData\\Inc_set\\test_set\\annotations\\VID_20230809_165744_frame_400.xml Doesn't Exist\n",
      "E:\\Major Project\\Images\\Resized Images\\IncData\\Inc_set\\test_set\\images\\IMG_7440_augmented.jpg Doesn't Exist\n",
      "E:\\Major Project\\Images\\Resized Images\\IncData\\Inc_set\\test_set\\images\\IMG20230729170707.jpg Doesn't Exist\n",
      "E:\\Major Project\\Images\\Resized Images\\IncData\\Inc_set\\test_set\\images\\IMG_20230626_132135.jpg Doesn't Exist\n",
      "E:\\Major Project\\Images\\Resized Images\\IncData\\Inc_set\\test_set\\images\\IMG_20230626_132135_1.jpg Doesn't Exist\n",
      "E:\\Major Project\\Images\\Resized Images\\IncData\\Inc_set\\test_set\\images\\IMG_20230626_132135_1_augmented.jpg Doesn't Exist\n",
      "E:\\Major Project\\Images\\Resized Images\\IncData\\Inc_set\\test_set\\images\\IMG_20230626_132136.jpg Doesn't Exist\n",
      "E:\\Major Project\\Images\\Resized Images\\IncData\\Inc_set\\test_set\\images\\IMG20230816133538_augmented.jpg Doesn't Exist\n",
      "E:\\Major Project\\Images\\Resized Images\\IncData\\Inc_set\\test_set\\images\\IMG_20230816_133523_1.jpg Doesn't Exist\n",
      "E:\\Major Project\\Images\\Resized Images\\IncData\\Inc_set\\test_set\\images\\IMG_20230816_133524_augmented.jpg Doesn't Exist\n",
      "E:\\Major Project\\Images\\Resized Images\\IncData\\Inc_set\\test_set\\images\\IMG_20230816_133525_1.jpg Doesn't Exist\n",
      "E:\\Major Project\\Images\\Resized Images\\IncData\\Inc_set\\test_set\\images\\IMG_20230816_133537.jpg Doesn't Exist\n",
      "E:\\Major Project\\Images\\Resized Images\\IncData\\Inc_set\\test_set\\images\\VID_20230809_165744_frame_120_augmented.jpg Doesn't Exist\n",
      "E:\\Major Project\\Images\\Resized Images\\IncData\\Inc_set\\test_set\\images\\VID_20230809_165744_frame_200_augmented.jpg Doesn't Exist\n",
      "E:\\Major Project\\Images\\Resized Images\\IncData\\Inc_set\\test_set\\images\\VID_20230809_165744_frame_205_augmented.jpg Doesn't Exist\n",
      "E:\\Major Project\\Images\\Resized Images\\IncData\\Inc_set\\test_set\\images\\VID_20230809_165744_frame_395_augmented.jpg Doesn't Exist\n",
      "E:\\Major Project\\Images\\Resized Images\\IncData\\Inc_set\\test_set\\images\\VID_20230809_165744_frame_40.jpg Doesn't Exist\n",
      "E:\\Major Project\\Images\\Resized Images\\IncData\\Inc_set\\test_set\\images\\VID_20230809_165744_frame_400.jpg Doesn't Exist\n",
      "E:\\Major Project\\Images\\Resized Images\\IncData\\Inc_set\\test_set\\annotations\\VID_20230708_112126_frame_1750_augmented.xml Doesn't Exist\n",
      "E:\\Major Project\\Images\\Resized Images\\IncData\\Inc_set\\test_set\\annotations\\VID_20230708_112126_frame_1760_augmented.xml Doesn't Exist\n",
      "E:\\Major Project\\Images\\Resized Images\\IncData\\Inc_set\\test_set\\annotations\\VID_20230708_112126_frame_1765_augmented.xml Doesn't Exist\n",
      "E:\\Major Project\\Images\\Resized Images\\IncData\\Inc_set\\test_set\\annotations\\VID_20230708_112126_frame_1815_augmented.xml Doesn't Exist\n",
      "E:\\Major Project\\Images\\Resized Images\\IncData\\Inc_set\\test_set\\annotations\\VID_20230708_112126_frame_1850_augmented.xml Doesn't Exist\n",
      "E:\\Major Project\\Images\\Resized Images\\IncData\\Inc_set\\test_set\\annotations\\VID_20230708_112126_frame_1855_augmented.xml Doesn't Exist\n",
      "E:\\Major Project\\Images\\Resized Images\\IncData\\Inc_set\\test_set\\annotations\\VID_20230708_112341_frame_655.xml Doesn't Exist\n",
      "E:\\Major Project\\Images\\Resized Images\\IncData\\Inc_set\\test_set\\annotations\\VID_20230708_112341_frame_660_augmented.xml Doesn't Exist\n",
      "E:\\Major Project\\Images\\Resized Images\\IncData\\Inc_set\\test_set\\annotations\\VID_20230708_112341_frame_690_augmented.xml Doesn't Exist\n",
      "E:\\Major Project\\Images\\Resized Images\\IncData\\Inc_set\\test_set\\annotations\\VID_20230708_112341_frame_700_augmented.xml Doesn't Exist\n",
      "E:\\Major Project\\Images\\Resized Images\\IncData\\Inc_set\\test_set\\images\\VID_20230708_112126_frame_1750_augmented.jpg Doesn't Exist\n",
      "E:\\Major Project\\Images\\Resized Images\\IncData\\Inc_set\\test_set\\images\\VID_20230708_112126_frame_1760_augmented.jpg Doesn't Exist\n",
      "E:\\Major Project\\Images\\Resized Images\\IncData\\Inc_set\\test_set\\images\\VID_20230708_112126_frame_1765_augmented.jpg Doesn't Exist\n",
      "E:\\Major Project\\Images\\Resized Images\\IncData\\Inc_set\\test_set\\images\\VID_20230708_112126_frame_1815_augmented.jpg Doesn't Exist\n",
      "E:\\Major Project\\Images\\Resized Images\\IncData\\Inc_set\\test_set\\images\\VID_20230708_112126_frame_1850_augmented.jpg Doesn't Exist\n",
      "E:\\Major Project\\Images\\Resized Images\\IncData\\Inc_set\\test_set\\images\\VID_20230708_112126_frame_1855_augmented.jpg Doesn't Exist\n",
      "E:\\Major Project\\Images\\Resized Images\\IncData\\Inc_set\\test_set\\images\\VID_20230708_112341_frame_655.jpg Doesn't Exist\n",
      "E:\\Major Project\\Images\\Resized Images\\IncData\\Inc_set\\test_set\\images\\VID_20230708_112341_frame_660_augmented.jpg Doesn't Exist\n",
      "E:\\Major Project\\Images\\Resized Images\\IncData\\Inc_set\\test_set\\images\\VID_20230708_112341_frame_690_augmented.jpg Doesn't Exist\n",
      "E:\\Major Project\\Images\\Resized Images\\IncData\\Inc_set\\test_set\\images\\VID_20230708_112341_frame_700_augmented.jpg Doesn't Exist\n"
     ]
    }
   ],
   "source": [
    "delete_files(files)"
   ]
  },
  {
   "cell_type": "code",
   "execution_count": 9,
   "id": "701df149",
   "metadata": {},
   "outputs": [
    {
     "name": "stdout",
     "output_type": "stream",
     "text": [
      "birupakshya:  116\n",
      "charumati:  151\n",
      "Maitidevi Temple:  122\n",
      "ashok stupa:  138\n",
      "chamunda mai:  119\n",
      "Bhadrakali Temple:  113\n",
      "Lumadhi Bhadrakali Temple Sankata:  140\n",
      "Akash Bhairav:  106\n",
      "Tridevi Temple:  129\n",
      "mahadev temple:  106\n",
      "Sano Pashupati:  108\n",
      "taleju bell_KDS:  114\n",
      "Patan Dhoka:  105\n",
      "Swoyambhunath:  106\n",
      "Jalbinayak:  110\n"
     ]
    }
   ],
   "source": [
    "val=class_list.get_classes(r'E:\\Major Project\\Images\\Resized Images\\IncData\\Base_set\\val_set\\annotations')\n",
    "for key, value in val.items():\n",
    "    print(f'{key}:  {value}')"
   ]
  },
  {
   "cell_type": "code",
   "execution_count": 13,
   "id": "1a267faf",
   "metadata": {},
   "outputs": [],
   "source": [
    "class_list.get_file(r'E:\\Major Project\\Images\\Resized Images\\IncData\\Base_set\\val_set\\annotations','swayambhunath')"
   ]
  },
  {
   "cell_type": "code",
   "execution_count": 14,
   "id": "f72bfc6c",
   "metadata": {},
   "outputs": [],
   "source": [
    "val_xmls = [\n",
    "    r'E:\\Major Project\\Images\\Resized Images\\IncData\\Base_set\\val_set\\annotations\\IMG20230729170651.xml',\n",
    "    r'E:\\Major Project\\Images\\Resized Images\\IncData\\Base_set\\val_set\\annotations\\IMG20230729170708_augmented.xml',\n",
    "    \n",
    "    r'E:\\Major Project\\Images\\Resized Images\\IncData\\Base_set\\val_set\\annotations\\IMG20230816133545.xml',\n",
    "    r'E:\\Major Project\\Images\\Resized Images\\IncData\\Base_set\\val_set\\annotations\\IMG20230816133545_01_augmented.xml',\n",
    "    r'E:\\Major Project\\Images\\Resized Images\\IncData\\Base_set\\val_set\\annotations\\IMG20230816133546_03.xml',\n",
    "    r'E:\\Major Project\\Images\\Resized Images\\IncData\\Base_set\\val_set\\annotations\\IMG_20230816_133525_augmented.xml',\n",
    "    r'E:\\Major Project\\Images\\Resized Images\\IncData\\Base_set\\val_set\\annotations\\IMG_20230816_133529_augmented.xml',\n",
    "    r'E:\\Major Project\\Images\\Resized Images\\IncData\\Base_set\\val_set\\annotations\\IMG_20230816_133531_1_augmented.xml',\n",
    "    r'E:\\Major Project\\Images\\Resized Images\\IncData\\Base_set\\val_set\\annotations\\IMG_20230816_133539_augmented.xml',\n",
    "    r'E:\\Major Project\\Images\\Resized Images\\IncData\\Base_set\\val_set\\annotations\\IMG_20230816_133540_1.xml',\n",
    "    r'E:\\Major Project\\Images\\Resized Images\\IncData\\Base_set\\val_set\\annotations\\VID_20230809_165744_frame_125_augmented.xml',\n",
    "    r'E:\\Major Project\\Images\\Resized Images\\IncData\\Base_set\\val_set\\annotations\\VID_20230809_165744_frame_145.xml',\n",
    "    r'E:\\Major Project\\Images\\Resized Images\\IncData\\Base_set\\val_set\\annotations\\VID_20230809_165744_frame_150.xml',\n",
    "    r'E:\\Major Project\\Images\\Resized Images\\IncData\\Base_set\\val_set\\annotations\\VID_20230809_165744_frame_155.xml',\n",
    "    r'E:\\Major Project\\Images\\Resized Images\\IncData\\Base_set\\val_set\\annotations\\VID_20230809_165744_frame_55.xml',\n",
    "    r'E:\\Major Project\\Images\\Resized Images\\IncData\\Base_set\\val_set\\annotations\\VID_20230809_165744_frame_85.xml',\n",
    "    r'E:\\Major Project\\Images\\Resized Images\\IncData\\Base_set\\val_set\\annotations\\VID_20230809_165744_frame_90_augmented.xml',\n",
    "    r'E:\\Major Project\\Images\\Resized Images\\IncData\\Base_set\\val_set\\annotations\\IMG_20230626_132147.xml',\n",
    "    \n",
    "    r'E:\\Major Project\\Images\\Resized Images\\IncData\\Base_set\\val_set\\annotations\\IMG_20230708_112437_augmented.xml',\n",
    "    r'E:\\Major Project\\Images\\Resized Images\\IncData\\Base_set\\val_set\\annotations\\IMG_20230708_112438.xml',\n",
    "    r'E:\\Major Project\\Images\\Resized Images\\IncData\\Base_set\\val_set\\annotations\\VID_20230708_112126_frame_1745_augmented.xml',\n",
    "    r'E:\\Major Project\\Images\\Resized Images\\IncData\\Base_set\\val_set\\annotations\\VID_20230708_112126_frame_1775_augmented.xml',\n",
    "    r'E:\\Major Project\\Images\\Resized Images\\IncData\\Base_set\\val_set\\annotations\\VID_20230708_112126_frame_1790_augmented.xml',\n",
    "    r'E:\\Major Project\\Images\\Resized Images\\IncData\\Base_set\\val_set\\annotations\\VID_20230708_112126_frame_1835.xml',\n",
    "    r'E:\\Major Project\\Images\\Resized Images\\IncData\\Base_set\\val_set\\annotations\\VID_20230708_112126_frame_1845.xml',\n",
    "    r'E:\\Major Project\\Images\\Resized Images\\IncData\\Base_set\\val_set\\annotations\\VID_20230708_112341_frame_675_augmented.xml',\n",
    "    r'E:\\Major Project\\Images\\Resized Images\\IncData\\Base_set\\val_set\\annotations\\VID_20230708_112341_frame_705.xml',\n",
    "    r'E:\\Major Project\\Images\\Resized Images\\IncData\\Base_set\\val_set\\annotations\\VID_20230708_112341_frame_710.xml',\n",
    "    r'E:\\Major Project\\Images\\Resized Images\\IncData\\Base_set\\val_set\\annotations\\VID_20230708_112341_frame_755_augmented.xml',\n",
    "      \n",
    "]"
   ]
  },
  {
   "cell_type": "code",
   "execution_count": 15,
   "id": "b670d872",
   "metadata": {},
   "outputs": [],
   "source": [
    "val_imgs = [\n",
    "    r'E:\\Major Project\\Images\\Resized Images\\IncData\\Base_set\\val_set\\images\\IMG20230729170651.jpg',\n",
    "    r'E:\\Major Project\\Images\\Resized Images\\IncData\\Base_set\\val_set\\images\\IMG20230729170708_augmented.jpg',\n",
    "    \n",
    "    r'E:\\Major Project\\Images\\Resized Images\\IncData\\Base_set\\val_set\\images\\IMG20230816133545.jpg',\n",
    "    r'E:\\Major Project\\Images\\Resized Images\\IncData\\Base_set\\val_set\\images\\IMG20230816133545_01_augmented.jpg',\n",
    "    r'E:\\Major Project\\Images\\Resized Images\\IncData\\Base_set\\val_set\\images\\IMG20230816133546_03.jpg',\n",
    "    r'E:\\Major Project\\Images\\Resized Images\\IncData\\Base_set\\val_set\\images\\IMG_20230816_133525_augmented.jpg',\n",
    "    r'E:\\Major Project\\Images\\Resized Images\\IncData\\Base_set\\val_set\\images\\IMG_20230816_133529_augmented.jpg',\n",
    "    r'E:\\Major Project\\Images\\Resized Images\\IncData\\Base_set\\val_set\\images\\IMG_20230816_133531_1_augmented.jpg',\n",
    "    r'E:\\Major Project\\Images\\Resized Images\\IncData\\Base_set\\val_set\\images\\IMG_20230816_133539_augmented.jpg',\n",
    "    r'E:\\Major Project\\Images\\Resized Images\\IncData\\Base_set\\val_set\\images\\IMG_20230816_133540_1.jpg',\n",
    "    r'E:\\Major Project\\Images\\Resized Images\\IncData\\Base_set\\val_set\\images\\VID_20230809_165744_frame_125_augmented.jpg',\n",
    "    r'E:\\Major Project\\Images\\Resized Images\\IncData\\Base_set\\val_set\\images\\VID_20230809_165744_frame_145.jpg',\n",
    "    r'E:\\Major Project\\Images\\Resized Images\\IncData\\Base_set\\val_set\\images\\VID_20230809_165744_frame_150.jpg',\n",
    "    r'E:\\Major Project\\Images\\Resized Images\\IncData\\Base_set\\val_set\\images\\VID_20230809_165744_frame_155.jpg',\n",
    "    r'E:\\Major Project\\Images\\Resized Images\\IncData\\Base_set\\val_set\\images\\VID_20230809_165744_frame_55.jpg',\n",
    "    r'E:\\Major Project\\Images\\Resized Images\\IncData\\Base_set\\val_set\\images\\VID_20230809_165744_frame_85.jpg',\n",
    "    r'E:\\Major Project\\Images\\Resized Images\\IncData\\Base_set\\val_set\\images\\VID_20230809_165744_frame_90_augmented.jpg',\n",
    "    r'E:\\Major Project\\Images\\Resized Images\\IncData\\Base_set\\val_set\\images\\IMG_20230626_132147.jpg',\n",
    "    \n",
    "    r'E:\\Major Project\\Images\\Resized Images\\IncData\\Base_set\\val_set\\images\\IMG_20230708_112437_augmented.jpg',\n",
    "    r'E:\\Major Project\\Images\\Resized Images\\IncData\\Base_set\\val_set\\images\\IMG_20230708_112438.jpg',\n",
    "    r'E:\\Major Project\\Images\\Resized Images\\IncData\\Base_set\\val_set\\images\\VID_20230708_112126_frame_1745_augmented.jpg',\n",
    "    r'E:\\Major Project\\Images\\Resized Images\\IncData\\Base_set\\val_set\\images\\VID_20230708_112126_frame_1775_augmented.jpg',\n",
    "    r'E:\\Major Project\\Images\\Resized Images\\IncData\\Base_set\\val_set\\images\\VID_20230708_112126_frame_1790_augmented.jpg',\n",
    "    r'E:\\Major Project\\Images\\Resized Images\\IncData\\Base_set\\val_set\\images\\VID_20230708_112126_frame_1835.jpg',\n",
    "    r'E:\\Major Project\\Images\\Resized Images\\IncData\\Base_set\\val_set\\images\\VID_20230708_112126_frame_1845.jpg',\n",
    "    r'E:\\Major Project\\Images\\Resized Images\\IncData\\Base_set\\val_set\\images\\VID_20230708_112341_frame_675_augmented.jpg',\n",
    "    r'E:\\Major Project\\Images\\Resized Images\\IncData\\Base_set\\val_set\\images\\VID_20230708_112341_frame_705.jpg',\n",
    "    r'E:\\Major Project\\Images\\Resized Images\\IncData\\Base_set\\val_set\\images\\VID_20230708_112341_frame_710.jpg',\n",
    "    r'E:\\Major Project\\Images\\Resized Images\\IncData\\Base_set\\val_set\\images\\VID_20230708_112341_frame_755_augmented.jpg',\n",
    "      \n",
    "]"
   ]
  },
  {
   "cell_type": "code",
   "execution_count": 16,
   "id": "52c3dc45",
   "metadata": {},
   "outputs": [
    {
     "name": "stdout",
     "output_type": "stream",
     "text": [
      "E:\\Major Project\\Images\\Resized Images\\IncData\\Base_set\\val_set\\annotations\\IMG20230729170651.xml Doesn't Exist\n",
      "E:\\Major Project\\Images\\Resized Images\\IncData\\Base_set\\val_set\\annotations\\IMG20230729170708_augmented.xml Doesn't Exist\n",
      "E:\\Major Project\\Images\\Resized Images\\IncData\\Base_set\\val_set\\annotations\\IMG20230816133545.xml Doesn't Exist\n",
      "E:\\Major Project\\Images\\Resized Images\\IncData\\Base_set\\val_set\\annotations\\IMG20230816133545_01_augmented.xml Doesn't Exist\n",
      "E:\\Major Project\\Images\\Resized Images\\IncData\\Base_set\\val_set\\annotations\\IMG20230816133546_03.xml Doesn't Exist\n",
      "E:\\Major Project\\Images\\Resized Images\\IncData\\Base_set\\val_set\\annotations\\IMG_20230816_133525_augmented.xml Doesn't Exist\n",
      "E:\\Major Project\\Images\\Resized Images\\IncData\\Base_set\\val_set\\annotations\\IMG_20230816_133529_augmented.xml Doesn't Exist\n",
      "E:\\Major Project\\Images\\Resized Images\\IncData\\Base_set\\val_set\\annotations\\IMG_20230816_133531_1_augmented.xml Doesn't Exist\n",
      "E:\\Major Project\\Images\\Resized Images\\IncData\\Base_set\\val_set\\annotations\\IMG_20230816_133539_augmented.xml Doesn't Exist\n",
      "E:\\Major Project\\Images\\Resized Images\\IncData\\Base_set\\val_set\\annotations\\IMG_20230816_133540_1.xml Doesn't Exist\n",
      "E:\\Major Project\\Images\\Resized Images\\IncData\\Base_set\\val_set\\annotations\\VID_20230809_165744_frame_125_augmented.xml Doesn't Exist\n",
      "E:\\Major Project\\Images\\Resized Images\\IncData\\Base_set\\val_set\\annotations\\VID_20230809_165744_frame_145.xml Doesn't Exist\n",
      "E:\\Major Project\\Images\\Resized Images\\IncData\\Base_set\\val_set\\annotations\\VID_20230809_165744_frame_150.xml Doesn't Exist\n",
      "E:\\Major Project\\Images\\Resized Images\\IncData\\Base_set\\val_set\\annotations\\VID_20230809_165744_frame_155.xml Doesn't Exist\n",
      "E:\\Major Project\\Images\\Resized Images\\IncData\\Base_set\\val_set\\annotations\\VID_20230809_165744_frame_55.xml Doesn't Exist\n",
      "E:\\Major Project\\Images\\Resized Images\\IncData\\Base_set\\val_set\\annotations\\VID_20230809_165744_frame_85.xml Doesn't Exist\n",
      "E:\\Major Project\\Images\\Resized Images\\IncData\\Base_set\\val_set\\annotations\\VID_20230809_165744_frame_90_augmented.xml Doesn't Exist\n",
      "E:\\Major Project\\Images\\Resized Images\\IncData\\Base_set\\val_set\\annotations\\IMG_20230626_132147.xml Doesn't Exist\n",
      "E:\\Major Project\\Images\\Resized Images\\IncData\\Base_set\\val_set\\annotations\\IMG_20230708_112437_augmented.xml Doesn't Exist\n",
      "E:\\Major Project\\Images\\Resized Images\\IncData\\Base_set\\val_set\\annotations\\IMG_20230708_112438.xml Doesn't Exist\n",
      "E:\\Major Project\\Images\\Resized Images\\IncData\\Base_set\\val_set\\annotations\\VID_20230708_112126_frame_1745_augmented.xml Doesn't Exist\n",
      "E:\\Major Project\\Images\\Resized Images\\IncData\\Base_set\\val_set\\annotations\\VID_20230708_112126_frame_1775_augmented.xml Doesn't Exist\n",
      "E:\\Major Project\\Images\\Resized Images\\IncData\\Base_set\\val_set\\annotations\\VID_20230708_112126_frame_1790_augmented.xml Doesn't Exist\n",
      "E:\\Major Project\\Images\\Resized Images\\IncData\\Base_set\\val_set\\annotations\\VID_20230708_112126_frame_1835.xml Doesn't Exist\n",
      "E:\\Major Project\\Images\\Resized Images\\IncData\\Base_set\\val_set\\annotations\\VID_20230708_112126_frame_1845.xml Doesn't Exist\n",
      "E:\\Major Project\\Images\\Resized Images\\IncData\\Base_set\\val_set\\annotations\\VID_20230708_112341_frame_675_augmented.xml Doesn't Exist\n",
      "E:\\Major Project\\Images\\Resized Images\\IncData\\Base_set\\val_set\\annotations\\VID_20230708_112341_frame_705.xml Doesn't Exist\n",
      "E:\\Major Project\\Images\\Resized Images\\IncData\\Base_set\\val_set\\annotations\\VID_20230708_112341_frame_710.xml Doesn't Exist\n",
      "E:\\Major Project\\Images\\Resized Images\\IncData\\Base_set\\val_set\\annotations\\VID_20230708_112341_frame_755_augmented.xml Doesn't Exist\n"
     ]
    }
   ],
   "source": [
    "delete_files(val_xmls)"
   ]
  },
  {
   "cell_type": "code",
   "execution_count": 47,
   "id": "5870af92",
   "metadata": {},
   "outputs": [
    {
     "name": "stdout",
     "output_type": "stream",
     "text": [
      "E:\\Major Project\\Images\\Resized Images\\IncData\\Base_set\\val_set\\images\\IMG20230729170651.jpg Deleted\n",
      "E:\\Major Project\\Images\\Resized Images\\IncData\\Base_set\\val_set\\images\\IMG20230729170708_augmented.jpg Deleted\n",
      "E:\\Major Project\\Images\\Resized Images\\IncData\\Base_set\\val_set\\images\\IMG20230816133545.jpg Deleted\n",
      "E:\\Major Project\\Images\\Resized Images\\IncData\\Base_set\\val_set\\images\\IMG20230816133545_01_augmented.jpg Deleted\n",
      "E:\\Major Project\\Images\\Resized Images\\IncData\\Base_set\\val_set\\images\\IMG20230816133546_03.jpg Deleted\n",
      "E:\\Major Project\\Images\\Resized Images\\IncData\\Base_set\\val_set\\images\\IMG_20230816_133525_augmented.jpg Deleted\n",
      "E:\\Major Project\\Images\\Resized Images\\IncData\\Base_set\\val_set\\images\\IMG_20230816_133529_augmented.jpg Deleted\n",
      "E:\\Major Project\\Images\\Resized Images\\IncData\\Base_set\\val_set\\images\\IMG_20230816_133531_1_augmented.jpg Deleted\n",
      "E:\\Major Project\\Images\\Resized Images\\IncData\\Base_set\\val_set\\images\\IMG_20230816_133539_augmented.jpg Deleted\n",
      "E:\\Major Project\\Images\\Resized Images\\IncData\\Base_set\\val_set\\images\\IMG_20230816_133540_1.jpg Deleted\n",
      "E:\\Major Project\\Images\\Resized Images\\IncData\\Base_set\\val_set\\images\\VID_20230809_165744_frame_125_augmented.jpg Deleted\n",
      "E:\\Major Project\\Images\\Resized Images\\IncData\\Base_set\\val_set\\images\\VID_20230809_165744_frame_145.jpg Deleted\n",
      "E:\\Major Project\\Images\\Resized Images\\IncData\\Base_set\\val_set\\images\\VID_20230809_165744_frame_150.jpg Deleted\n",
      "E:\\Major Project\\Images\\Resized Images\\IncData\\Base_set\\val_set\\images\\VID_20230809_165744_frame_155.jpg Deleted\n",
      "E:\\Major Project\\Images\\Resized Images\\IncData\\Base_set\\val_set\\images\\VID_20230809_165744_frame_55.jpg Deleted\n",
      "E:\\Major Project\\Images\\Resized Images\\IncData\\Base_set\\val_set\\images\\VID_20230809_165744_frame_85.jpg Deleted\n",
      "E:\\Major Project\\Images\\Resized Images\\IncData\\Base_set\\val_set\\images\\VID_20230809_165744_frame_90_augmented.jpg Deleted\n",
      "E:\\Major Project\\Images\\Resized Images\\IncData\\Base_set\\val_set\\images\\IMG_20230626_132147.jpg Deleted\n",
      "E:\\Major Project\\Images\\Resized Images\\IncData\\Base_set\\val_set\\images\\IMG_20230708_112437_augmented.jpg Doesn't Exist\n",
      "E:\\Major Project\\Images\\Resized Images\\IncData\\Base_set\\val_set\\images\\IMG_20230708_112438.jpg Doesn't Exist\n",
      "E:\\Major Project\\Images\\Resized Images\\IncData\\Base_set\\val_set\\images\\VID_20230708_112126_frame_1745_augmented.jpg Doesn't Exist\n",
      "E:\\Major Project\\Images\\Resized Images\\IncData\\Base_set\\val_set\\images\\VID_20230708_112126_frame_1775_augmented.jpg Doesn't Exist\n",
      "E:\\Major Project\\Images\\Resized Images\\IncData\\Base_set\\val_set\\images\\VID_20230708_112126_frame_1790_augmented.jpg Doesn't Exist\n",
      "E:\\Major Project\\Images\\Resized Images\\IncData\\Base_set\\val_set\\images\\VID_20230708_112126_frame_1835.jpg Doesn't Exist\n",
      "E:\\Major Project\\Images\\Resized Images\\IncData\\Base_set\\val_set\\images\\VID_20230708_112126_frame_1845.jpg Doesn't Exist\n",
      "E:\\Major Project\\Images\\Resized Images\\IncData\\Base_set\\val_set\\images\\VID_20230708_112341_frame_675_augmented.jpg Doesn't Exist\n",
      "E:\\Major Project\\Images\\Resized Images\\IncData\\Base_set\\val_set\\images\\VID_20230708_112341_frame_705.jpg Doesn't Exist\n",
      "E:\\Major Project\\Images\\Resized Images\\IncData\\Base_set\\val_set\\images\\VID_20230708_112341_frame_710.jpg Doesn't Exist\n",
      "E:\\Major Project\\Images\\Resized Images\\IncData\\Base_set\\val_set\\images\\VID_20230708_112341_frame_755_augmented.jpg Doesn't Exist\n"
     ]
    }
   ],
   "source": [
    "delete_files(val_imgs)"
   ]
  },
  {
   "cell_type": "code",
   "execution_count": 17,
   "id": "0e09dd86",
   "metadata": {},
   "outputs": [
    {
     "data": {
      "text/plain": [
       "[]"
      ]
     },
     "execution_count": 17,
     "metadata": {},
     "output_type": "execute_result"
    }
   ],
   "source": [
    "class_list.get_null_file(r'E:\\Major Project\\Images\\Resized Images\\IncData\\Inc_set\\val_set\\annotations')"
   ]
  },
  {
   "cell_type": "code",
   "execution_count": 28,
   "id": "c6672c3e",
   "metadata": {},
   "outputs": [
    {
     "name": "stdout",
     "output_type": "stream",
     "text": [
      "pratappur temple:  1174\n"
     ]
    }
   ],
   "source": [
    "train=class_list.get_classes(r'E:\\Major Project\\Images\\Resized Images\\IncData\\Inc_set\\train_set\\annotations')\n",
    "for key, value in train.items():\n",
    "    print(f'{key}:  {value}')"
   ]
  },
  {
   "cell_type": "code",
   "execution_count": 20,
   "id": "2c3e766c",
   "metadata": {},
   "outputs": [],
   "source": [
    "class_list.get_file(r'E:\\Major Project\\Images\\Resized Images\\IncData\\Inc_set\\train_set\\annotations','swayambhunath')\n"
   ]
  },
  {
   "cell_type": "code",
   "execution_count": 21,
   "id": "4f34a1e9",
   "metadata": {},
   "outputs": [],
   "source": [
    "train_xmls =[\n",
    "    r'E:\\Major Project\\Images\\Resized Images\\IncData\\Inc_set\\train_set\\annotations\\VID_20230708_112341_frame_715.xml',\n",
    "    r'E:\\Major Project\\Images\\Resized Images\\IncData\\Inc_set\\train_set\\annotations\\VID_20230708_112341_frame_715_augmented.xml',\n",
    "    r'E:\\Major Project\\Images\\Resized Images\\IncData\\Inc_set\\train_set\\annotations\\VID_20230708_112341_frame_725.xml',\n",
    "    r'E:\\Major Project\\Images\\Resized Images\\IncData\\Inc_set\\train_set\\annotations\\VID_20230708_112341_frame_725_augmented.xml',\n",
    "    r'E:\\Major Project\\Images\\Resized Images\\IncData\\Inc_set\\train_set\\annotations\\VID_20230708_112341_frame_745.xml',\n",
    "    r'E:\\Major Project\\Images\\Resized Images\\IncData\\Inc_set\\train_set\\annotations\\VID_20230708_112341_frame_745_augmented.xml',\n",
    "    r'E:\\Major Project\\Images\\Resized Images\\IncData\\Inc_set\\train_set\\annotations\\VID_20230708_112341_frame_750.xml',\n",
    "    r'E:\\Major Project\\Images\\Resized Images\\IncData\\Inc_set\\train_set\\annotations\\VID_20230708_112341_frame_750_augmented.xml',\n",
    "    r'E:\\Major Project\\Images\\Resized Images\\IncData\\Inc_set\\train_set\\annotations\\VID_20230708_112341_frame_755.xml',\n",
    "]"
   ]
  },
  {
   "cell_type": "code",
   "execution_count": 22,
   "id": "6c1ca3c5",
   "metadata": {},
   "outputs": [],
   "source": [
    "train_jpgs =  [\n",
    "    r'E:\\Major Project\\Images\\Resized Images\\IncData\\Inc_set\\train_set\\images\\VID_20230708_112341_frame_715.jpg',\n",
    "    r'E:\\Major Project\\Images\\Resized Images\\IncData\\Inc_set\\train_set\\images\\VID_20230708_112341_frame_715_augmented.jpg',\n",
    "    r'E:\\Major Project\\Images\\Resized Images\\IncData\\Inc_set\\train_set\\images\\VID_20230708_112341_frame_725.jpg',\n",
    "    r'E:\\Major Project\\Images\\Resized Images\\IncData\\Inc_set\\train_set\\images\\VID_20230708_112341_frame_725_augmented.jpg',\n",
    "    r'E:\\Major Project\\Images\\Resized Images\\IncData\\Inc_set\\train_set\\images\\VID_20230708_112341_frame_745.jpg',\n",
    "    r'E:\\Major Project\\Images\\Resized Images\\IncData\\Inc_set\\train_set\\images\\VID_20230708_112341_frame_745_augmented.jpg',\n",
    "    r'E:\\Major Project\\Images\\Resized Images\\IncData\\Inc_set\\train_set\\images\\VID_20230708_112341_frame_750.jpg',\n",
    "    r'E:\\Major Project\\Images\\Resized Images\\IncData\\Inc_set\\train_set\\images\\VID_20230708_112341_frame_750_augmented.jpg',\n",
    "    r'E:\\Major Project\\Images\\Resized Images\\IncData\\Inc_set\\train_set\\images\\VID_20230708_112341_frame_755.jpg',\n",
    "]"
   ]
  },
  {
   "cell_type": "code",
   "execution_count": 23,
   "id": "53874150",
   "metadata": {},
   "outputs": [
    {
     "name": "stdout",
     "output_type": "stream",
     "text": [
      "E:\\Major Project\\Images\\Resized Images\\IncData\\Inc_set\\train_set\\annotations\\VID_20230708_112341_frame_715.xml Doesn't Exist\n",
      "E:\\Major Project\\Images\\Resized Images\\IncData\\Inc_set\\train_set\\annotations\\VID_20230708_112341_frame_715_augmented.xml Doesn't Exist\n",
      "E:\\Major Project\\Images\\Resized Images\\IncData\\Inc_set\\train_set\\annotations\\VID_20230708_112341_frame_725.xml Doesn't Exist\n",
      "E:\\Major Project\\Images\\Resized Images\\IncData\\Inc_set\\train_set\\annotations\\VID_20230708_112341_frame_725_augmented.xml Doesn't Exist\n",
      "E:\\Major Project\\Images\\Resized Images\\IncData\\Inc_set\\train_set\\annotations\\VID_20230708_112341_frame_745.xml Doesn't Exist\n",
      "E:\\Major Project\\Images\\Resized Images\\IncData\\Inc_set\\train_set\\annotations\\VID_20230708_112341_frame_745_augmented.xml Doesn't Exist\n",
      "E:\\Major Project\\Images\\Resized Images\\IncData\\Inc_set\\train_set\\annotations\\VID_20230708_112341_frame_750.xml Doesn't Exist\n",
      "E:\\Major Project\\Images\\Resized Images\\IncData\\Inc_set\\train_set\\annotations\\VID_20230708_112341_frame_750_augmented.xml Doesn't Exist\n",
      "E:\\Major Project\\Images\\Resized Images\\IncData\\Inc_set\\train_set\\annotations\\VID_20230708_112341_frame_755.xml Doesn't Exist\n"
     ]
    }
   ],
   "source": [
    "delete_files(train_xmls)"
   ]
  },
  {
   "cell_type": "code",
   "execution_count": 24,
   "id": "f8e2f52b",
   "metadata": {},
   "outputs": [
    {
     "name": "stdout",
     "output_type": "stream",
     "text": [
      "E:\\Major Project\\Images\\Resized Images\\IncData\\Inc_set\\train_set\\images\\VID_20230708_112341_frame_715.jpg Doesn't Exist\n",
      "E:\\Major Project\\Images\\Resized Images\\IncData\\Inc_set\\train_set\\images\\VID_20230708_112341_frame_715_augmented.jpg Doesn't Exist\n",
      "E:\\Major Project\\Images\\Resized Images\\IncData\\Inc_set\\train_set\\images\\VID_20230708_112341_frame_725.jpg Doesn't Exist\n",
      "E:\\Major Project\\Images\\Resized Images\\IncData\\Inc_set\\train_set\\images\\VID_20230708_112341_frame_725_augmented.jpg Doesn't Exist\n",
      "E:\\Major Project\\Images\\Resized Images\\IncData\\Inc_set\\train_set\\images\\VID_20230708_112341_frame_745.jpg Doesn't Exist\n",
      "E:\\Major Project\\Images\\Resized Images\\IncData\\Inc_set\\train_set\\images\\VID_20230708_112341_frame_745_augmented.jpg Doesn't Exist\n",
      "E:\\Major Project\\Images\\Resized Images\\IncData\\Inc_set\\train_set\\images\\VID_20230708_112341_frame_750.jpg Doesn't Exist\n",
      "E:\\Major Project\\Images\\Resized Images\\IncData\\Inc_set\\train_set\\images\\VID_20230708_112341_frame_750_augmented.jpg Doesn't Exist\n",
      "E:\\Major Project\\Images\\Resized Images\\IncData\\Inc_set\\train_set\\images\\VID_20230708_112341_frame_755.jpg Doesn't Exist\n"
     ]
    }
   ],
   "source": [
    "delete_files(train_jpgs)"
   ]
  },
  {
   "cell_type": "code",
   "execution_count": 26,
   "id": "c4879c59",
   "metadata": {
    "scrolled": false
   },
   "outputs": [
    {
     "data": {
      "text/plain": [
       "[]"
      ]
     },
     "execution_count": 26,
     "metadata": {},
     "output_type": "execute_result"
    }
   ],
   "source": [
    "class_list.get_null_file(r'E:\\Major Project\\Images\\Resized Images\\IncData\\Base_set\\train_set\\annotations')"
   ]
  },
  {
   "cell_type": "code",
   "execution_count": null,
   "id": "9434a867",
   "metadata": {},
   "outputs": [],
   "source": []
  }
 ],
 "metadata": {
  "kernelspec": {
   "display_name": "Python 3 (ipykernel)",
   "language": "python",
   "name": "python3"
  },
  "language_info": {
   "codemirror_mode": {
    "name": "ipython",
    "version": 3
   },
   "file_extension": ".py",
   "mimetype": "text/x-python",
   "name": "python",
   "nbconvert_exporter": "python",
   "pygments_lexer": "ipython3",
   "version": "3.11.4"
  }
 },
 "nbformat": 4,
 "nbformat_minor": 5
}
