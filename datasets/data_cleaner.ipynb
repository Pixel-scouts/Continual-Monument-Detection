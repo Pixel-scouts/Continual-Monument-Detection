{
 "cells": [
  {
   "cell_type": "code",
   "execution_count": 1,
   "id": "236fdad9",
   "metadata": {},
   "outputs": [],
   "source": [
    "import class_list"
   ]
  },
  {
   "cell_type": "code",
   "execution_count": 7,
   "id": "4ed891ad",
   "metadata": {},
   "outputs": [],
   "source": [
    "class_list.get_file(r'E:\\Major Project\\Images\\Resized Images\\MajorV2\\train_set\\annotations',\"tv\")"
   ]
  },
  {
   "cell_type": "code",
   "execution_count": 3,
   "id": "9e9b0afb",
   "metadata": {},
   "outputs": [
    {
     "name": "stdout",
     "output_type": "stream",
     "text": [
      "birupakshya:  58\n",
      "Ram Mandir:  59\n",
      "jaya bageshwori:  74\n",
      "charumati:  76\n",
      "kiranteshwor mahadev:  41\n",
      "guyeshwori:  66\n",
      "Maitidevi Temple:  61\n",
      "kumaristhan:  66\n",
      "Naxal Bhagwati:  52\n",
      "chakku bakku:  51\n",
      "ume_maheshwara:  47\n",
      "golden temple:  80\n",
      "Krishna_temple _kobahal:  48\n",
      "uma maheshwor:  64\n",
      "Jalbinayak:  55\n",
      "nagarmandap shree kriti bihar:  43\n"
     ]
    }
   ],
   "source": [
    "test=class_list.get_classes(r'E:\\Major Project\\Images\\Resized Images\\MajorV2\\test_set\\annotations')\n",
    "for key, value in test.items():\n",
    "    print(f'{key}:  {value}')"
   ]
  },
  {
   "cell_type": "code",
   "execution_count": 4,
   "id": "701df149",
   "metadata": {},
   "outputs": [
    {
     "name": "stdout",
     "output_type": "stream",
     "text": [
      "birupakshya:  58\n",
      "Ram Mandir:  59\n",
      "jaya bageshwori:  74\n",
      "charumati:  75\n",
      "kiranteshwor mahadev:  42\n",
      "guyeshwori:  66\n",
      "Maitidevi Temple:  61\n",
      "kumaristhan:  66\n",
      "Naxal Bhagwati:  52\n",
      "chakku bakku:  51\n",
      "ume_maheshwara:  47\n",
      "golden temple:  80\n",
      "Krishna_temple _kobahal:  47\n",
      "uma maheshwor:  64\n",
      "Jalbinayak:  55\n",
      "nagarmandap shree kriti bihar:  43\n"
     ]
    }
   ],
   "source": [
    "val=class_list.get_classes(r'E:\\Major Project\\Images\\Resized Images\\MajorV2\\val_set\\annotations')\n",
    "for key, value in val.items():\n",
    "    print(f'{key}:  {value}')"
   ]
  },
  {
   "cell_type": "code",
   "execution_count": 5,
   "id": "c6672c3e",
   "metadata": {},
   "outputs": [
    {
     "name": "stdout",
     "output_type": "stream",
     "text": [
      "birupakshya:  465\n",
      "Ram Mandir:  477\n",
      "jaya bageshwori:  591\n",
      "charumati:  598\n",
      "kiranteshwor mahadev:  339\n",
      "guyeshwori:  532\n",
      "Maitidevi Temple:  489\n",
      "kumaristhan:  537\n",
      "Naxal Bhagwati:  424\n",
      "chakku bakku:  415\n",
      "ume_maheshwara:  376\n",
      "golden temple:  642\n",
      "Krishna_temple _kobahal:  391\n",
      "uma maheshwor:  515\n",
      "Jalbinayak:  440\n",
      "tv:  2\n",
      "nagarmandap shree kriti bihar:  346\n"
     ]
    }
   ],
   "source": [
    "train=class_list.get_classes(r'E:\\Major Project\\Images\\Resized Images\\MajorV2\\train_set\\annotations')\n",
    "for key, value in train.items():\n",
    "    print(f'{key}:  {value}')"
   ]
  },
  {
   "cell_type": "code",
   "execution_count": 8,
   "id": "eb5fac12",
   "metadata": {},
   "outputs": [
    {
     "name": "stdout",
     "output_type": "stream",
     "text": [
      "E:\\Major Project\\Images\\Resized Images\\MajorV2\\train_set\\annotations\\VID_20230626_120544_frame_185.xml\n",
      "E:\\Major Project\\Images\\Resized Images\\MajorV2\\train_set\\annotations\\VID_20230626_120544_frame_190.xml\n",
      "E:\\Major Project\\Images\\Resized Images\\MajorV2\\train_set\\annotations\\VID_20230626_120544_frame_195.xml\n",
      "E:\\Major Project\\Images\\Resized Images\\MajorV2\\train_set\\annotations\\VID_20230626_120544_frame_200.xml\n",
      "E:\\Major Project\\Images\\Resized Images\\MajorV2\\train_set\\annotations\\VID_20230626_120544_frame_295.xml\n",
      "E:\\Major Project\\Images\\Resized Images\\MajorV2\\train_set\\annotations\\VID_20230626_171920_frame_415.xml\n"
     ]
    },
    {
     "data": {
      "text/plain": [
       "['E:\\\\Major Project\\\\Images\\\\Resized Images\\\\MajorV2\\\\train_set\\\\annotations\\\\VID_20230626_120544_frame_185.xml',\n",
       " 'E:\\\\Major Project\\\\Images\\\\Resized Images\\\\MajorV2\\\\train_set\\\\annotations\\\\VID_20230626_120544_frame_190.xml',\n",
       " 'E:\\\\Major Project\\\\Images\\\\Resized Images\\\\MajorV2\\\\train_set\\\\annotations\\\\VID_20230626_120544_frame_195.xml',\n",
       " 'E:\\\\Major Project\\\\Images\\\\Resized Images\\\\MajorV2\\\\train_set\\\\annotations\\\\VID_20230626_120544_frame_200.xml',\n",
       " 'E:\\\\Major Project\\\\Images\\\\Resized Images\\\\MajorV2\\\\train_set\\\\annotations\\\\VID_20230626_120544_frame_295.xml',\n",
       " 'E:\\\\Major Project\\\\Images\\\\Resized Images\\\\MajorV2\\\\train_set\\\\annotations\\\\VID_20230626_171920_frame_415.xml']"
      ]
     },
     "execution_count": 8,
     "metadata": {},
     "output_type": "execute_result"
    }
   ],
   "source": [
    "class_list.get_null_file(r'E:\\Major Project\\Images\\Resized Images\\MajorV2\\train_set\\annotations')"
   ]
  },
  {
   "cell_type": "code",
   "execution_count": 12,
   "id": "69e8de98",
   "metadata": {},
   "outputs": [],
   "source": [
    "delete_files=[r'E:\\\\Major Project\\\\Images\\\\Resized Images\\\\MajorV2\\\\train_set\\\\annotations\\\\VID_20230626_120544_frame_185.xml',\n",
    "              r'E:\\\\Major Project\\\\Images\\\\Resized Images\\\\MajorV2\\\\train_set\\\\annotations\\\\VID_20230626_120544_frame_190.xml',\n",
    "              r'E:\\\\Major Project\\\\Images\\\\Resized Images\\\\MajorV2\\\\train_set\\\\annotations\\\\VID_20230626_120544_frame_195.xml',\n",
    "              r'E:\\\\Major Project\\\\Images\\\\Resized Images\\\\MajorV2\\\\train_set\\\\annotations\\\\VID_20230626_120544_frame_200.xml',\n",
    "              r'E:\\\\Major Project\\\\Images\\\\Resized Images\\\\MajorV2\\\\train_set\\\\annotations\\\\VID_20230626_120544_frame_295.xml',\n",
    "              r'E:\\\\Major Project\\\\Images\\\\Resized Images\\\\MajorV2\\\\train_set\\\\annotations\\\\VID_20230626_171920_frame_415.xml',\n",
    "              r'E:\\\\Major Project\\\\Images\\\\Resized Images\\\\MajorV2\\\\train_set\\\\images\\\\VID_20230626_120544_frame_185.jpg',\n",
    "              r'E:\\\\Major Project\\\\Images\\\\Resized Images\\\\MajorV2\\\\train_set\\\\images\\\\VID_20230626_120544_frame_190.jpg',\n",
    "              r'E:\\\\Major Project\\\\Images\\\\Resized Images\\\\MajorV2\\\\train_set\\\\images\\\\VID_20230626_120544_frame_195.jpg',\n",
    "              r'E:\\\\Major Project\\\\Images\\\\Resized Images\\\\MajorV2\\\\train_set\\\\images\\\\VID_20230626_120544_frame_200.jpg',\n",
    "              r'E:\\\\Major Project\\\\Images\\\\Resized Images\\\\MajorV2\\\\train_set\\\\images\\\\VID_20230626_120544_frame_295.jpg',\n",
    "              r'E:\\\\Major Project\\\\Images\\\\Resized Images\\\\MajorV2\\\\train_set\\\\images\\\\VID_20230626_171920_frame_415.jpg']\n"
   ]
  },
  {
   "cell_type": "code",
   "execution_count": 13,
   "id": "27434771",
   "metadata": {},
   "outputs": [
    {
     "name": "stdout",
     "output_type": "stream",
     "text": [
      "E:\\\\Major Project\\\\Images\\\\Resized Images\\\\MajorV2\\\\train_set\\\\annotations\\\\VID_20230626_120544_frame_185.xml Doesn't Exist\n",
      "E:\\\\Major Project\\\\Images\\\\Resized Images\\\\MajorV2\\\\train_set\\\\annotations\\\\VID_20230626_120544_frame_190.xml Doesn't Exist\n",
      "E:\\\\Major Project\\\\Images\\\\Resized Images\\\\MajorV2\\\\train_set\\\\annotations\\\\VID_20230626_120544_frame_195.xml Deleted\n",
      "E:\\\\Major Project\\\\Images\\\\Resized Images\\\\MajorV2\\\\train_set\\\\annotations\\\\VID_20230626_120544_frame_200.xml Doesn't Exist\n",
      "E:\\\\Major Project\\\\Images\\\\Resized Images\\\\MajorV2\\\\train_set\\\\annotations\\\\VID_20230626_120544_frame_295.xml Doesn't Exist\n",
      "E:\\\\Major Project\\\\Images\\\\Resized Images\\\\MajorV2\\\\train_set\\\\annotations\\\\VID_20230626_171920_frame_415.xml Doesn't Exist\n",
      "E:\\\\Major Project\\\\Images\\\\Resized Images\\\\MajorV2\\\\train_set\\\\images\\\\VID_20230626_120544_frame_185.jpg Doesn't Exist\n",
      "E:\\\\Major Project\\\\Images\\\\Resized Images\\\\MajorV2\\\\train_set\\\\images\\\\VID_20230626_120544_frame_190.jpg Doesn't Exist\n",
      "E:\\\\Major Project\\\\Images\\\\Resized Images\\\\MajorV2\\\\train_set\\\\images\\\\VID_20230626_120544_frame_195.jpg Deleted\n",
      "E:\\\\Major Project\\\\Images\\\\Resized Images\\\\MajorV2\\\\train_set\\\\images\\\\VID_20230626_120544_frame_200.jpg Doesn't Exist\n",
      "E:\\\\Major Project\\\\Images\\\\Resized Images\\\\MajorV2\\\\train_set\\\\images\\\\VID_20230626_120544_frame_295.jpg Doesn't Exist\n",
      "E:\\\\Major Project\\\\Images\\\\Resized Images\\\\MajorV2\\\\train_set\\\\images\\\\VID_20230626_171920_frame_415.jpg Doesn't Exist\n"
     ]
    }
   ],
   "source": [
    "import os\n",
    "for file in delete_files:\n",
    "    try:\n",
    "        os.remove(file)\n",
    "        print(f\"{file} Deleted\")\n",
    "    except:\n",
    "        print(f\"{file} Doesn't Exist\")"
   ]
  },
  {
   "cell_type": "code",
   "execution_count": 14,
   "id": "877b2850",
   "metadata": {},
   "outputs": [
    {
     "data": {
      "text/plain": [
       "[]"
      ]
     },
     "execution_count": 14,
     "metadata": {},
     "output_type": "execute_result"
    }
   ],
   "source": [
    "class_list.get_null_file(r'E:\\Major Project\\Images\\Resized Images\\MajorV2\\train_set\\annotations')"
   ]
  },
  {
   "cell_type": "code",
   "execution_count": 15,
   "id": "16da65ac",
   "metadata": {},
   "outputs": [
    {
     "data": {
      "text/plain": [
       "[]"
      ]
     },
     "execution_count": 15,
     "metadata": {},
     "output_type": "execute_result"
    }
   ],
   "source": [
    "class_list.get_null_file(r'E:\\Major Project\\Images\\Resized Images\\MajorV2\\test_set\\annotations')"
   ]
  },
  {
   "cell_type": "code",
   "execution_count": 16,
   "id": "1c65e7aa",
   "metadata": {},
   "outputs": [
    {
     "name": "stdout",
     "output_type": "stream",
     "text": [
      "E:\\Major Project\\Images\\Resized Images\\MajorV2\\val_set\\annotations\\IMG20230710123849.xml\n"
     ]
    },
    {
     "data": {
      "text/plain": [
       "['E:\\\\Major Project\\\\Images\\\\Resized Images\\\\MajorV2\\\\val_set\\\\annotations\\\\IMG20230710123849.xml']"
      ]
     },
     "execution_count": 16,
     "metadata": {},
     "output_type": "execute_result"
    }
   ],
   "source": [
    "class_list.get_null_file(r'E:\\Major Project\\Images\\Resized Images\\MajorV2\\val_set\\annotations')"
   ]
  },
  {
   "cell_type": "code",
   "execution_count": 17,
   "id": "8701f1f7",
   "metadata": {},
   "outputs": [],
   "source": [
    "delete_file=[r'E:\\\\Major Project\\\\Images\\\\Resized Images\\\\MajorV2\\\\val_set\\\\annotations\\\\IMG20230710123849.xml',\n",
    "             r'E:\\\\Major Project\\\\Images\\\\Resized Images\\\\MajorV2\\\\val_set\\\\images\\\\IMG20230710123849.jpg']"
   ]
  },
  {
   "cell_type": "code",
   "execution_count": 18,
   "id": "f4fed12f",
   "metadata": {},
   "outputs": [
    {
     "name": "stdout",
     "output_type": "stream",
     "text": [
      "E:\\\\Major Project\\\\Images\\\\Resized Images\\\\MajorV2\\\\val_set\\\\annotations\\\\IMG20230710123849.xml Deleted\n",
      "E:\\\\Major Project\\\\Images\\\\Resized Images\\\\MajorV2\\\\val_set\\\\images\\\\IMG20230710123849.jpg Deleted\n"
     ]
    }
   ],
   "source": [
    "for file in delete_file:\n",
    "    try:\n",
    "        os.remove(file)\n",
    "        print(f\"{file} Deleted\")\n",
    "    except:\n",
    "        print(f\"{file} Doesn't Exist\")"
   ]
  },
  {
   "cell_type": "code",
   "execution_count": 19,
   "id": "be845646",
   "metadata": {},
   "outputs": [
    {
     "data": {
      "text/plain": [
       "[]"
      ]
     },
     "execution_count": 19,
     "metadata": {},
     "output_type": "execute_result"
    }
   ],
   "source": [
    "class_list.get_null_file(r'E:\\Major Project\\Images\\Resized Images\\MajorV2\\val_set\\annotations')"
   ]
  },
  {
   "cell_type": "code",
   "execution_count": null,
   "id": "d2e9aed1",
   "metadata": {},
   "outputs": [],
   "source": []
  }
 ],
 "metadata": {
  "kernelspec": {
   "display_name": "Python 3 (ipykernel)",
   "language": "python",
   "name": "python3"
  },
  "language_info": {
   "codemirror_mode": {
    "name": "ipython",
    "version": 3
   },
   "file_extension": ".py",
   "mimetype": "text/x-python",
   "name": "python",
   "nbconvert_exporter": "python",
   "pygments_lexer": "ipython3",
   "version": "3.11.4"
  }
 },
 "nbformat": 4,
 "nbformat_minor": 5
}
