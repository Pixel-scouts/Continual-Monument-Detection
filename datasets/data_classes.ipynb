{
 "cells": [
  {
   "cell_type": "code",
   "execution_count": 14,
   "id": "236fdad9",
   "metadata": {},
   "outputs": [],
   "source": [
    "import class_list"
   ]
  },
  {
   "cell_type": "code",
   "execution_count": 2,
   "id": "fb061f8f",
   "metadata": {},
   "outputs": [],
   "source": [
    "\n",
    "def get_classes(path):\n",
    "    \"\"\"\n",
    "    counts the number of instance of each class present in the dataset and returns it as a dictionary.\n",
    "    Args:\n",
    "        path: path to folder containing the annotation in XML format\n",
    "        \n",
    "    \"\"\"\n",
    "    classes={}\n",
    "    for xml_file in glob.glob(path + '/*.xml'):\n",
    "        tree = et.parse(xml_file)\n",
    "        root = tree.getroot()\n",
    "        for member in root.findall('object'):\n",
    "            class_name = member.find('name').text\n",
    "            if(class_name=='\\\\'):\n",
    "               print(xml_file)\n",
    "            classes[class_name] = classes.get(class_name, 0) + 1\n",
    "    return classes\n",
    "\n",
    "        "
   ]
  },
  {
   "cell_type": "code",
   "execution_count": 3,
   "id": "17918f0b",
   "metadata": {},
   "outputs": [
    {
     "name": "stdout",
     "output_type": "stream",
     "text": [
      "indrapura:  229\n",
      "kala-bhairava:  310\n",
      "taleju bell_KDS:  70\n",
      "taleju temple:  484\n",
      "bhuvana lakshmeshvara:  296\n",
      "vishnu temple:  230\n",
      "trailokya mohan:  643\n",
      "gaddi durbar:  671\n",
      "kumari ghar:  374\n",
      "basantapur tower:  470\n",
      "lalitpur tower:  388\n",
      "narayan temple:  382\n",
      "jagannatha temple:  384\n",
      "degu tale temple_KDS:  80\n",
      "panchamukhi hanuman:  56\n",
      "shveta bhairava:  148\n",
      "kritipur tower:  16\n",
      "chasin dega:  139\n",
      "pratap malla column:  180\n",
      "gopinath krishna temple:  338\n",
      "kedamatha tirtha:  115\n",
      "badrinath temple:  80\n",
      "vastala temple:  360\n",
      "siddhi lakshmi temple:  279\n",
      "chayasilin mandap:  363\n",
      "bhupatindra malla column:  380\n",
      "mahadev temple:  210\n",
      "national gallery:  178\n",
      "palace of the 55 windows:  380\n",
      "taleju bell_BDS:  265\n",
      "golden gate:  147\n",
      "bhimeleshvara:  297\n",
      "garud:  226\n",
      "kasthamandap:  414\n",
      "shiva temple:  110\n",
      "simha sattal:  174\n",
      "kavindrapura sattal:  158\n",
      "bhagavati temple:  92\n",
      "hanuman idol:  52\n",
      "bhaktapur tower:  55\n",
      "king statue:  13\n",
      "degutale temple:  62\n",
      "kotilingeshvara:  10\n",
      "dattatreya temple:  96\n",
      "nyatapola temple:  160\n",
      "bhimsen temple:  56\n",
      "bhairavnath temple:  72\n",
      "kirtipur tower:  28\n",
      "til mahadev narayan temple:  21\n",
      "fasidega temple:  69\n",
      "degu tale:  34\n"
     ]
    }
   ],
   "source": [
    "classes=get_classes('./dataset/annotations')\n",
    "for key, value in classes.items():\n",
    "    print(f'{key}:  {value}')"
   ]
  },
  {
   "cell_type": "code",
   "execution_count": 4,
   "id": "9eb548a8",
   "metadata": {},
   "outputs": [
    {
     "data": {
      "text/plain": [
       "['indrapura',\n",
       " 'kala-bhairava',\n",
       " 'taleju bell_KDS',\n",
       " 'taleju temple',\n",
       " 'bhuvana lakshmeshvara',\n",
       " 'vishnu temple',\n",
       " 'trailokya mohan',\n",
       " 'gaddi durbar',\n",
       " 'kumari ghar',\n",
       " 'basantapur tower',\n",
       " 'lalitpur tower',\n",
       " 'narayan temple',\n",
       " 'jagannatha temple',\n",
       " 'degu tale temple_KDS',\n",
       " 'panchamukhi hanuman',\n",
       " 'shveta bhairava',\n",
       " 'kritipur tower',\n",
       " 'chasin dega',\n",
       " 'pratap malla column',\n",
       " 'gopinath krishna temple',\n",
       " 'kedamatha tirtha',\n",
       " 'badrinath temple',\n",
       " 'vastala temple',\n",
       " 'siddhi lakshmi temple',\n",
       " 'chayasilin mandap',\n",
       " 'bhupatindra malla column',\n",
       " 'mahadev temple',\n",
       " 'national gallery',\n",
       " 'palace of the 55 windows',\n",
       " 'taleju bell_BDS',\n",
       " 'golden gate',\n",
       " 'bhimeleshvara',\n",
       " 'garud',\n",
       " 'kasthamandap',\n",
       " 'shiva temple',\n",
       " 'simha sattal',\n",
       " 'kavindrapura sattal',\n",
       " 'bhagavati temple',\n",
       " 'hanuman idol',\n",
       " 'bhaktapur tower',\n",
       " 'king statue',\n",
       " 'degutale temple',\n",
       " 'kotilingeshvara',\n",
       " 'dattatreya temple',\n",
       " 'nyatapola temple',\n",
       " 'bhimsen temple',\n",
       " 'bhairavnath temple',\n",
       " 'kirtipur tower',\n",
       " 'til mahadev narayan temple',\n",
       " 'fasidega temple',\n",
       " 'degu tale']"
      ]
     },
     "execution_count": 4,
     "metadata": {},
     "output_type": "execute_result"
    }
   ],
   "source": [
    "list(classes.keys())"
   ]
  },
  {
   "cell_type": "code",
   "execution_count": 5,
   "id": "a0bbfbc5",
   "metadata": {},
   "outputs": [
    {
     "data": {
      "text/plain": [
       "10844"
      ]
     },
     "execution_count": 5,
     "metadata": {},
     "output_type": "execute_result"
    }
   ],
   "source": [
    "sum(classes.values())"
   ]
  },
  {
   "cell_type": "code",
   "execution_count": null,
   "id": "9e9b0afb",
   "metadata": {},
   "outputs": [],
   "source": []
  }
 ],
 "metadata": {
  "kernelspec": {
   "display_name": "Python 3 (ipykernel)",
   "language": "python",
   "name": "python3"
  },
  "language_info": {
   "codemirror_mode": {
    "name": "ipython",
    "version": 3
   },
   "file_extension": ".py",
   "mimetype": "text/x-python",
   "name": "python",
   "nbconvert_exporter": "python",
   "pygments_lexer": "ipython3",
   "version": "3.9.13"
  }
 },
 "nbformat": 4,
 "nbformat_minor": 5
}
